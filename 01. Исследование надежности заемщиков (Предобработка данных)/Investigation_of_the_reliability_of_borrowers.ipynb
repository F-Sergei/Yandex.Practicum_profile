{
 "cells": [
  {
   "cell_type": "markdown",
   "id": "90d59fed",
   "metadata": {},
   "source": [
    "# Исследование надежности заемщиков"
   ]
  },
  {
   "cell_type": "markdown",
   "id": "a9dd99a7",
   "metadata": {},
   "source": [
    "**Цель:** \\\n",
    "Исследовать влияние семейного положения и количества детей на факт возврата кредита в срок. \n",
    "\n",
    "**Данные:** \\\n",
    "Статистика о платёжеспособности клиентов."
   ]
  },
  {
   "cell_type": "markdown",
   "id": "2149310c",
   "metadata": {
    "toc": true
   },
   "source": [
    "<h1>Содержание<span class=\"tocSkip\"></span></h1>\n",
    "<div class=\"toc\"><ul class=\"toc-item\"><li><span><a href=\"#Откроем-таблицу-и-изучим-общую-информацию-о-данных\" data-toc-modified-id=\"Откроем-таблицу-и-изучим-общую-информацию-о-данных-1\"><span class=\"toc-item-num\">1&nbsp;&nbsp;</span>Откроем таблицу и изучим общую информацию о данных</a></span></li><li><span><a href=\"#Предобработка-данных\" data-toc-modified-id=\"Предобработка-данных-2\"><span class=\"toc-item-num\">2&nbsp;&nbsp;</span>Предобработка данных</a></span><ul class=\"toc-item\"><li><span><a href=\"#Удаление-пропусков\" data-toc-modified-id=\"Удаление-пропусков-2.1\"><span class=\"toc-item-num\">2.1&nbsp;&nbsp;</span>Удаление пропусков</a></span></li><li><span><a href=\"#Обработка-аномальных-значений\" data-toc-modified-id=\"Обработка-аномальных-значений-2.2\"><span class=\"toc-item-num\">2.2&nbsp;&nbsp;</span>Обработка аномальных значений</a></span></li><li><span><a href=\"#Удаление-пропусков-(продолжение)\" data-toc-modified-id=\"Удаление-пропусков-(продолжение)-2.3\"><span class=\"toc-item-num\">2.3&nbsp;&nbsp;</span>Удаление пропусков (продолжение)</a></span></li><li><span><a href=\"#Изменение-типов-данных\" data-toc-modified-id=\"Изменение-типов-данных-2.4\"><span class=\"toc-item-num\">2.4&nbsp;&nbsp;</span>Изменение типов данных</a></span></li><li><span><a href=\"#Обработка-дубликатов\" data-toc-modified-id=\"Обработка-дубликатов-2.5\"><span class=\"toc-item-num\">2.5&nbsp;&nbsp;</span>Обработка дубликатов</a></span></li><li><span><a href=\"#Категоризация-данных\" data-toc-modified-id=\"Категоризация-данных-2.6\"><span class=\"toc-item-num\">2.6&nbsp;&nbsp;</span>Категоризация данных</a></span></li><li><span><a href=\"#Исследуем-данные\" data-toc-modified-id=\"Исследуем-данные-2.7\"><span class=\"toc-item-num\">2.7&nbsp;&nbsp;</span>Исследуем данные</a></span><ul class=\"toc-item\"><li><span><a href=\"#Гипотеза-№1\" data-toc-modified-id=\"Гипотеза-№1-2.7.1\"><span class=\"toc-item-num\">2.7.1&nbsp;&nbsp;</span>Гипотеза №1</a></span></li><li><span><a href=\"#Рассмотрим-группу-людей-с-детьми\" data-toc-modified-id=\"Рассмотрим-группу-людей-с-детьми-2.7.2\"><span class=\"toc-item-num\">2.7.2&nbsp;&nbsp;</span>Рассмотрим группу людей с детьми</a></span></li><li><span><a href=\"#Есть-ли-зависимость-между-семейным-положением-и-возвратом-кредита-в-срок?\" data-toc-modified-id=\"Есть-ли-зависимость-между-семейным-положением-и-возвратом-кредита-в-срок?-2.7.3\"><span class=\"toc-item-num\">2.7.3&nbsp;&nbsp;</span>Есть ли зависимость между семейным положением и возвратом кредита в срок?</a></span></li><li><span><a href=\"#Есть-ли-зависимость-между-уровнем-дохода-и-возвратом-кредита-в-срок?\" data-toc-modified-id=\"Есть-ли-зависимость-между-уровнем-дохода-и-возвратом-кредита-в-срок?-2.7.4\"><span class=\"toc-item-num\">2.7.4&nbsp;&nbsp;</span>Есть ли зависимость между уровнем дохода и возвратом кредита в срок?</a></span></li><li><span><a href=\"#Как-разные-цели-кредита-влияют-на-его-возврат-в-срок?\" data-toc-modified-id=\"Как-разные-цели-кредита-влияют-на-его-возврат-в-срок?-2.7.5\"><span class=\"toc-item-num\">2.7.5&nbsp;&nbsp;</span>Как разные цели кредита влияют на его возврат в срок?</a></span></li><li><span><a href=\"#Возможные-причины-появления-пропусков-в-исходных-данных.\" data-toc-modified-id=\"Возможные-причины-появления-пропусков-в-исходных-данных.-2.7.6\"><span class=\"toc-item-num\">2.7.6&nbsp;&nbsp;</span>Возможные причины появления пропусков в исходных данных.</a></span></li><li><span><a href=\"#Заполнение-пропусков-медианным-значением---это-лучшее-решение-для-количественных-переменных\" data-toc-modified-id=\"Заполнение-пропусков-медианным-значением---это-лучшее-решение-для-количественных-переменных-2.7.7\"><span class=\"toc-item-num\">2.7.7&nbsp;&nbsp;</span>Заполнение пропусков медианным значением - это лучшее решение для количественных переменных</a></span></li></ul></li><li><span><a href=\"#Общий-вывод:\" data-toc-modified-id=\"Общий-вывод:-2.8\"><span class=\"toc-item-num\">2.8&nbsp;&nbsp;</span>Общий вывод:</a></span></li></ul></li></ul></div>"
   ]
  },
  {
   "cell_type": "markdown",
   "id": "26613308",
   "metadata": {
    "id": "26613308"
   },
   "source": [
    "## Откроем таблицу и изучим общую информацию о данных"
   ]
  },
  {
   "cell_type": "markdown",
   "id": "3c9f838e",
   "metadata": {
    "id": "3c9f838e"
   },
   "source": [
    "**Импортируем библиотеку pandas. Считаем данные из csv-файла в датафрейм и сохраним в переменную `data`.**"
   ]
  },
  {
   "cell_type": "code",
   "execution_count": 1,
   "id": "77a68a90",
   "metadata": {
    "id": "77a68a90"
   },
   "outputs": [],
   "source": [
    "import pandas as pd\n",
    "\n",
    "try:\n",
    "    data = pd.read_csv('/datasets/data.csv')\n",
    "except:\n",
    "    data = pd.read_csv('datasets/data.csv')"
   ]
  },
  {
   "cell_type": "markdown",
   "id": "45365635",
   "metadata": {
    "id": "45365635"
   },
   "source": [
    "**Выведем первые 20 строчек датафрейма `data` на экран.**"
   ]
  },
  {
   "cell_type": "code",
   "execution_count": 2,
   "id": "b0451a9a",
   "metadata": {
    "id": "b0451a9a",
    "outputId": "1a8f3ef2-d323-4ec2-ddf7-89670b5944c4",
    "scrolled": true
   },
   "outputs": [
    {
     "data": {
      "text/html": [
       "<div>\n",
       "<style scoped>\n",
       "    .dataframe tbody tr th:only-of-type {\n",
       "        vertical-align: middle;\n",
       "    }\n",
       "\n",
       "    .dataframe tbody tr th {\n",
       "        vertical-align: top;\n",
       "    }\n",
       "\n",
       "    .dataframe thead th {\n",
       "        text-align: right;\n",
       "    }\n",
       "</style>\n",
       "<table border=\"1\" class=\"dataframe\">\n",
       "  <thead>\n",
       "    <tr style=\"text-align: right;\">\n",
       "      <th></th>\n",
       "      <th>children</th>\n",
       "      <th>days_employed</th>\n",
       "      <th>dob_years</th>\n",
       "      <th>education</th>\n",
       "      <th>education_id</th>\n",
       "      <th>family_status</th>\n",
       "      <th>family_status_id</th>\n",
       "      <th>gender</th>\n",
       "      <th>income_type</th>\n",
       "      <th>debt</th>\n",
       "      <th>total_income</th>\n",
       "      <th>purpose</th>\n",
       "    </tr>\n",
       "  </thead>\n",
       "  <tbody>\n",
       "    <tr>\n",
       "      <th>0</th>\n",
       "      <td>1</td>\n",
       "      <td>-8437.673028</td>\n",
       "      <td>42</td>\n",
       "      <td>высшее</td>\n",
       "      <td>0</td>\n",
       "      <td>женат / замужем</td>\n",
       "      <td>0</td>\n",
       "      <td>F</td>\n",
       "      <td>сотрудник</td>\n",
       "      <td>0</td>\n",
       "      <td>253875.639453</td>\n",
       "      <td>покупка жилья</td>\n",
       "    </tr>\n",
       "    <tr>\n",
       "      <th>1</th>\n",
       "      <td>1</td>\n",
       "      <td>-4024.803754</td>\n",
       "      <td>36</td>\n",
       "      <td>среднее</td>\n",
       "      <td>1</td>\n",
       "      <td>женат / замужем</td>\n",
       "      <td>0</td>\n",
       "      <td>F</td>\n",
       "      <td>сотрудник</td>\n",
       "      <td>0</td>\n",
       "      <td>112080.014102</td>\n",
       "      <td>приобретение автомобиля</td>\n",
       "    </tr>\n",
       "    <tr>\n",
       "      <th>2</th>\n",
       "      <td>0</td>\n",
       "      <td>-5623.422610</td>\n",
       "      <td>33</td>\n",
       "      <td>Среднее</td>\n",
       "      <td>1</td>\n",
       "      <td>женат / замужем</td>\n",
       "      <td>0</td>\n",
       "      <td>M</td>\n",
       "      <td>сотрудник</td>\n",
       "      <td>0</td>\n",
       "      <td>145885.952297</td>\n",
       "      <td>покупка жилья</td>\n",
       "    </tr>\n",
       "    <tr>\n",
       "      <th>3</th>\n",
       "      <td>3</td>\n",
       "      <td>-4124.747207</td>\n",
       "      <td>32</td>\n",
       "      <td>среднее</td>\n",
       "      <td>1</td>\n",
       "      <td>женат / замужем</td>\n",
       "      <td>0</td>\n",
       "      <td>M</td>\n",
       "      <td>сотрудник</td>\n",
       "      <td>0</td>\n",
       "      <td>267628.550329</td>\n",
       "      <td>дополнительное образование</td>\n",
       "    </tr>\n",
       "    <tr>\n",
       "      <th>4</th>\n",
       "      <td>0</td>\n",
       "      <td>340266.072047</td>\n",
       "      <td>53</td>\n",
       "      <td>среднее</td>\n",
       "      <td>1</td>\n",
       "      <td>гражданский брак</td>\n",
       "      <td>1</td>\n",
       "      <td>F</td>\n",
       "      <td>пенсионер</td>\n",
       "      <td>0</td>\n",
       "      <td>158616.077870</td>\n",
       "      <td>сыграть свадьбу</td>\n",
       "    </tr>\n",
       "    <tr>\n",
       "      <th>5</th>\n",
       "      <td>0</td>\n",
       "      <td>-926.185831</td>\n",
       "      <td>27</td>\n",
       "      <td>высшее</td>\n",
       "      <td>0</td>\n",
       "      <td>гражданский брак</td>\n",
       "      <td>1</td>\n",
       "      <td>M</td>\n",
       "      <td>компаньон</td>\n",
       "      <td>0</td>\n",
       "      <td>255763.565419</td>\n",
       "      <td>покупка жилья</td>\n",
       "    </tr>\n",
       "    <tr>\n",
       "      <th>6</th>\n",
       "      <td>0</td>\n",
       "      <td>-2879.202052</td>\n",
       "      <td>43</td>\n",
       "      <td>высшее</td>\n",
       "      <td>0</td>\n",
       "      <td>женат / замужем</td>\n",
       "      <td>0</td>\n",
       "      <td>F</td>\n",
       "      <td>компаньон</td>\n",
       "      <td>0</td>\n",
       "      <td>240525.971920</td>\n",
       "      <td>операции с жильем</td>\n",
       "    </tr>\n",
       "    <tr>\n",
       "      <th>7</th>\n",
       "      <td>0</td>\n",
       "      <td>-152.779569</td>\n",
       "      <td>50</td>\n",
       "      <td>СРЕДНЕЕ</td>\n",
       "      <td>1</td>\n",
       "      <td>женат / замужем</td>\n",
       "      <td>0</td>\n",
       "      <td>M</td>\n",
       "      <td>сотрудник</td>\n",
       "      <td>0</td>\n",
       "      <td>135823.934197</td>\n",
       "      <td>образование</td>\n",
       "    </tr>\n",
       "    <tr>\n",
       "      <th>8</th>\n",
       "      <td>2</td>\n",
       "      <td>-6929.865299</td>\n",
       "      <td>35</td>\n",
       "      <td>ВЫСШЕЕ</td>\n",
       "      <td>0</td>\n",
       "      <td>гражданский брак</td>\n",
       "      <td>1</td>\n",
       "      <td>F</td>\n",
       "      <td>сотрудник</td>\n",
       "      <td>0</td>\n",
       "      <td>95856.832424</td>\n",
       "      <td>на проведение свадьбы</td>\n",
       "    </tr>\n",
       "    <tr>\n",
       "      <th>9</th>\n",
       "      <td>0</td>\n",
       "      <td>-2188.756445</td>\n",
       "      <td>41</td>\n",
       "      <td>среднее</td>\n",
       "      <td>1</td>\n",
       "      <td>женат / замужем</td>\n",
       "      <td>0</td>\n",
       "      <td>M</td>\n",
       "      <td>сотрудник</td>\n",
       "      <td>0</td>\n",
       "      <td>144425.938277</td>\n",
       "      <td>покупка жилья для семьи</td>\n",
       "    </tr>\n",
       "    <tr>\n",
       "      <th>10</th>\n",
       "      <td>2</td>\n",
       "      <td>-4171.483647</td>\n",
       "      <td>36</td>\n",
       "      <td>высшее</td>\n",
       "      <td>0</td>\n",
       "      <td>женат / замужем</td>\n",
       "      <td>0</td>\n",
       "      <td>M</td>\n",
       "      <td>компаньон</td>\n",
       "      <td>0</td>\n",
       "      <td>113943.491460</td>\n",
       "      <td>покупка недвижимости</td>\n",
       "    </tr>\n",
       "    <tr>\n",
       "      <th>11</th>\n",
       "      <td>0</td>\n",
       "      <td>-792.701887</td>\n",
       "      <td>40</td>\n",
       "      <td>среднее</td>\n",
       "      <td>1</td>\n",
       "      <td>женат / замужем</td>\n",
       "      <td>0</td>\n",
       "      <td>F</td>\n",
       "      <td>сотрудник</td>\n",
       "      <td>0</td>\n",
       "      <td>77069.234271</td>\n",
       "      <td>покупка коммерческой недвижимости</td>\n",
       "    </tr>\n",
       "    <tr>\n",
       "      <th>12</th>\n",
       "      <td>0</td>\n",
       "      <td>NaN</td>\n",
       "      <td>65</td>\n",
       "      <td>среднее</td>\n",
       "      <td>1</td>\n",
       "      <td>гражданский брак</td>\n",
       "      <td>1</td>\n",
       "      <td>M</td>\n",
       "      <td>пенсионер</td>\n",
       "      <td>0</td>\n",
       "      <td>NaN</td>\n",
       "      <td>сыграть свадьбу</td>\n",
       "    </tr>\n",
       "    <tr>\n",
       "      <th>13</th>\n",
       "      <td>0</td>\n",
       "      <td>-1846.641941</td>\n",
       "      <td>54</td>\n",
       "      <td>неоконченное высшее</td>\n",
       "      <td>2</td>\n",
       "      <td>женат / замужем</td>\n",
       "      <td>0</td>\n",
       "      <td>F</td>\n",
       "      <td>сотрудник</td>\n",
       "      <td>0</td>\n",
       "      <td>130458.228857</td>\n",
       "      <td>приобретение автомобиля</td>\n",
       "    </tr>\n",
       "    <tr>\n",
       "      <th>14</th>\n",
       "      <td>0</td>\n",
       "      <td>-1844.956182</td>\n",
       "      <td>56</td>\n",
       "      <td>высшее</td>\n",
       "      <td>0</td>\n",
       "      <td>гражданский брак</td>\n",
       "      <td>1</td>\n",
       "      <td>F</td>\n",
       "      <td>компаньон</td>\n",
       "      <td>1</td>\n",
       "      <td>165127.911772</td>\n",
       "      <td>покупка жилой недвижимости</td>\n",
       "    </tr>\n",
       "    <tr>\n",
       "      <th>15</th>\n",
       "      <td>1</td>\n",
       "      <td>-972.364419</td>\n",
       "      <td>26</td>\n",
       "      <td>среднее</td>\n",
       "      <td>1</td>\n",
       "      <td>женат / замужем</td>\n",
       "      <td>0</td>\n",
       "      <td>F</td>\n",
       "      <td>сотрудник</td>\n",
       "      <td>0</td>\n",
       "      <td>116820.904450</td>\n",
       "      <td>строительство собственной недвижимости</td>\n",
       "    </tr>\n",
       "    <tr>\n",
       "      <th>16</th>\n",
       "      <td>0</td>\n",
       "      <td>-1719.934226</td>\n",
       "      <td>35</td>\n",
       "      <td>среднее</td>\n",
       "      <td>1</td>\n",
       "      <td>женат / замужем</td>\n",
       "      <td>0</td>\n",
       "      <td>F</td>\n",
       "      <td>сотрудник</td>\n",
       "      <td>0</td>\n",
       "      <td>289202.704229</td>\n",
       "      <td>недвижимость</td>\n",
       "    </tr>\n",
       "    <tr>\n",
       "      <th>17</th>\n",
       "      <td>0</td>\n",
       "      <td>-2369.999720</td>\n",
       "      <td>33</td>\n",
       "      <td>высшее</td>\n",
       "      <td>0</td>\n",
       "      <td>гражданский брак</td>\n",
       "      <td>1</td>\n",
       "      <td>M</td>\n",
       "      <td>сотрудник</td>\n",
       "      <td>0</td>\n",
       "      <td>90410.586745</td>\n",
       "      <td>строительство недвижимости</td>\n",
       "    </tr>\n",
       "    <tr>\n",
       "      <th>18</th>\n",
       "      <td>0</td>\n",
       "      <td>400281.136913</td>\n",
       "      <td>53</td>\n",
       "      <td>среднее</td>\n",
       "      <td>1</td>\n",
       "      <td>вдовец / вдова</td>\n",
       "      <td>2</td>\n",
       "      <td>F</td>\n",
       "      <td>пенсионер</td>\n",
       "      <td>0</td>\n",
       "      <td>56823.777243</td>\n",
       "      <td>на покупку подержанного автомобиля</td>\n",
       "    </tr>\n",
       "    <tr>\n",
       "      <th>19</th>\n",
       "      <td>0</td>\n",
       "      <td>-10038.818549</td>\n",
       "      <td>48</td>\n",
       "      <td>СРЕДНЕЕ</td>\n",
       "      <td>1</td>\n",
       "      <td>в разводе</td>\n",
       "      <td>3</td>\n",
       "      <td>F</td>\n",
       "      <td>сотрудник</td>\n",
       "      <td>0</td>\n",
       "      <td>242831.107982</td>\n",
       "      <td>на покупку своего автомобиля</td>\n",
       "    </tr>\n",
       "  </tbody>\n",
       "</table>\n",
       "</div>"
      ],
      "text/plain": [
       "    children  days_employed  dob_years            education  education_id  \\\n",
       "0          1   -8437.673028         42               высшее             0   \n",
       "1          1   -4024.803754         36              среднее             1   \n",
       "2          0   -5623.422610         33              Среднее             1   \n",
       "3          3   -4124.747207         32              среднее             1   \n",
       "4          0  340266.072047         53              среднее             1   \n",
       "5          0    -926.185831         27               высшее             0   \n",
       "6          0   -2879.202052         43               высшее             0   \n",
       "7          0    -152.779569         50              СРЕДНЕЕ             1   \n",
       "8          2   -6929.865299         35               ВЫСШЕЕ             0   \n",
       "9          0   -2188.756445         41              среднее             1   \n",
       "10         2   -4171.483647         36               высшее             0   \n",
       "11         0    -792.701887         40              среднее             1   \n",
       "12         0            NaN         65              среднее             1   \n",
       "13         0   -1846.641941         54  неоконченное высшее             2   \n",
       "14         0   -1844.956182         56               высшее             0   \n",
       "15         1    -972.364419         26              среднее             1   \n",
       "16         0   -1719.934226         35              среднее             1   \n",
       "17         0   -2369.999720         33               высшее             0   \n",
       "18         0  400281.136913         53              среднее             1   \n",
       "19         0  -10038.818549         48              СРЕДНЕЕ             1   \n",
       "\n",
       "       family_status  family_status_id gender income_type  debt  \\\n",
       "0    женат / замужем                 0      F   сотрудник     0   \n",
       "1    женат / замужем                 0      F   сотрудник     0   \n",
       "2    женат / замужем                 0      M   сотрудник     0   \n",
       "3    женат / замужем                 0      M   сотрудник     0   \n",
       "4   гражданский брак                 1      F   пенсионер     0   \n",
       "5   гражданский брак                 1      M   компаньон     0   \n",
       "6    женат / замужем                 0      F   компаньон     0   \n",
       "7    женат / замужем                 0      M   сотрудник     0   \n",
       "8   гражданский брак                 1      F   сотрудник     0   \n",
       "9    женат / замужем                 0      M   сотрудник     0   \n",
       "10   женат / замужем                 0      M   компаньон     0   \n",
       "11   женат / замужем                 0      F   сотрудник     0   \n",
       "12  гражданский брак                 1      M   пенсионер     0   \n",
       "13   женат / замужем                 0      F   сотрудник     0   \n",
       "14  гражданский брак                 1      F   компаньон     1   \n",
       "15   женат / замужем                 0      F   сотрудник     0   \n",
       "16   женат / замужем                 0      F   сотрудник     0   \n",
       "17  гражданский брак                 1      M   сотрудник     0   \n",
       "18    вдовец / вдова                 2      F   пенсионер     0   \n",
       "19         в разводе                 3      F   сотрудник     0   \n",
       "\n",
       "     total_income                                 purpose  \n",
       "0   253875.639453                           покупка жилья  \n",
       "1   112080.014102                 приобретение автомобиля  \n",
       "2   145885.952297                           покупка жилья  \n",
       "3   267628.550329              дополнительное образование  \n",
       "4   158616.077870                         сыграть свадьбу  \n",
       "5   255763.565419                           покупка жилья  \n",
       "6   240525.971920                       операции с жильем  \n",
       "7   135823.934197                             образование  \n",
       "8    95856.832424                   на проведение свадьбы  \n",
       "9   144425.938277                 покупка жилья для семьи  \n",
       "10  113943.491460                    покупка недвижимости  \n",
       "11   77069.234271       покупка коммерческой недвижимости  \n",
       "12            NaN                         сыграть свадьбу  \n",
       "13  130458.228857                 приобретение автомобиля  \n",
       "14  165127.911772              покупка жилой недвижимости  \n",
       "15  116820.904450  строительство собственной недвижимости  \n",
       "16  289202.704229                            недвижимость  \n",
       "17   90410.586745              строительство недвижимости  \n",
       "18   56823.777243      на покупку подержанного автомобиля  \n",
       "19  242831.107982            на покупку своего автомобиля  "
      ]
     },
     "execution_count": 2,
     "metadata": {},
     "output_type": "execute_result"
    }
   ],
   "source": [
    "data_old = data.copy()\n",
    "data.head(20)"
   ]
  },
  {
   "cell_type": "markdown",
   "id": "0ed8f27f",
   "metadata": {
    "id": "0ed8f27f"
   },
   "source": [
    "**Выведем основную информацию о датафрейме с помощью метода `info()`.**"
   ]
  },
  {
   "cell_type": "code",
   "execution_count": 3,
   "id": "ab3f863b",
   "metadata": {
    "id": "ab3f863b",
    "outputId": "15376089-8dad-46c9-b520-c05248d43158"
   },
   "outputs": [
    {
     "name": "stdout",
     "output_type": "stream",
     "text": [
      "<class 'pandas.core.frame.DataFrame'>\n",
      "RangeIndex: 21525 entries, 0 to 21524\n",
      "Data columns (total 12 columns):\n",
      " #   Column            Non-Null Count  Dtype  \n",
      "---  ------            --------------  -----  \n",
      " 0   children          21525 non-null  int64  \n",
      " 1   days_employed     19351 non-null  float64\n",
      " 2   dob_years         21525 non-null  int64  \n",
      " 3   education         21525 non-null  object \n",
      " 4   education_id      21525 non-null  int64  \n",
      " 5   family_status     21525 non-null  object \n",
      " 6   family_status_id  21525 non-null  int64  \n",
      " 7   gender            21525 non-null  object \n",
      " 8   income_type       21525 non-null  object \n",
      " 9   debt              21525 non-null  int64  \n",
      " 10  total_income      19351 non-null  float64\n",
      " 11  purpose           21525 non-null  object \n",
      "dtypes: float64(2), int64(5), object(5)\n",
      "memory usage: 2.0+ MB\n"
     ]
    }
   ],
   "source": [
    "data.info()"
   ]
  },
  {
   "cell_type": "markdown",
   "id": "60e3e22d",
   "metadata": {
    "id": "60e3e22d"
   },
   "source": [
    "## Предобработка данных"
   ]
  },
  {
   "cell_type": "markdown",
   "id": "03dc170c",
   "metadata": {
    "id": "03dc170c"
   },
   "source": [
    "### Удаление пропусков"
   ]
  },
  {
   "cell_type": "markdown",
   "id": "a4f54eef",
   "metadata": {
    "id": "a4f54eef"
   },
   "source": [
    "**Выведем количество пропущенных значений для каждого столбца.**"
   ]
  },
  {
   "cell_type": "code",
   "execution_count": 4,
   "id": "2dc372b2",
   "metadata": {
    "id": "2dc372b2",
    "outputId": "81f4d817-781c-465c-ed15-91ce4446810d"
   },
   "outputs": [
    {
     "data": {
      "text/plain": [
       "children               0\n",
       "days_employed       2174\n",
       "dob_years              0\n",
       "education              0\n",
       "education_id           0\n",
       "family_status          0\n",
       "family_status_id       0\n",
       "gender                 0\n",
       "income_type            0\n",
       "debt                   0\n",
       "total_income        2174\n",
       "purpose                0\n",
       "dtype: int64"
      ]
     },
     "execution_count": 4,
     "metadata": {},
     "output_type": "execute_result"
    }
   ],
   "source": [
    "data.isna().sum()"
   ]
  },
  {
   "cell_type": "markdown",
   "id": "14f011b1",
   "metadata": {
    "id": "14f011b1"
   },
   "source": [
    "**В двух столбцах есть пропущенные значения. Один из них — `days_employed`. Пропуски в этом столбце обработаем на следующем этапе. Другой столбец с пропущенными значениями — `total_income` — хранит данные о доходах. На сумму дохода сильнее всего влияет тип занятости, поэтому заполнить пропуски в этом столбце нужно медианным значением по каждому типу из столбца `income_type`.**"
   ]
  },
  {
   "cell_type": "code",
   "execution_count": 5,
   "id": "bdabfb6e",
   "metadata": {
    "id": "bdabfb6e"
   },
   "outputs": [],
   "source": [
    "for t in data['income_type'].unique():\n",
    "    data.loc[(data['income_type'] == t) & (data['total_income'].isna()), 'total_income'] = \\\n",
    "    data.loc[(data['income_type'] == t), 'total_income'].median()"
   ]
  },
  {
   "cell_type": "markdown",
   "id": "5be34059",
   "metadata": {
    "id": "5be34059"
   },
   "source": [
    "### Обработка аномальных значений"
   ]
  },
  {
   "cell_type": "markdown",
   "id": "a87606cb",
   "metadata": {
    "id": "a87606cb"
   },
   "source": [
    "**Заменим все отрицательные значения положительными с помощью метода `abs()`.**"
   ]
  },
  {
   "cell_type": "code",
   "execution_count": 6,
   "id": "020c46cc",
   "metadata": {
    "id": "020c46cc"
   },
   "outputs": [],
   "source": [
    "data['days_employed'] = data['days_employed'].abs()"
   ]
  },
  {
   "cell_type": "markdown",
   "id": "45538a3a",
   "metadata": {
    "id": "45538a3a"
   },
   "source": [
    "**Для каждого типа занятости выведем медианное значение трудового стажа `days_employed` в днях.**"
   ]
  },
  {
   "cell_type": "code",
   "execution_count": 7,
   "id": "cd3e6328",
   "metadata": {
    "id": "cd3e6328",
    "outputId": "801ef80e-522b-4668-f34e-565af7432bcf"
   },
   "outputs": [
    {
     "data": {
      "text/plain": [
       "income_type\n",
       "безработный        366413.652744\n",
       "в декрете            3296.759962\n",
       "госслужащий          2689.368353\n",
       "компаньон            1547.382223\n",
       "пенсионер          365213.306266\n",
       "предприниматель       520.848083\n",
       "сотрудник            1574.202821\n",
       "студент               578.751554\n",
       "Name: days_employed, dtype: float64"
      ]
     },
     "execution_count": 7,
     "metadata": {},
     "output_type": "execute_result"
    }
   ],
   "source": [
    "data.groupby('income_type')['days_employed'].agg('median')"
   ]
  },
  {
   "cell_type": "markdown",
   "id": "90c5f058",
   "metadata": {
    "id": "90c5f058"
   },
   "source": [
    "У двух типов (безработные и пенсионеры) получатся аномально большие значения. Исправить такие значения сложно, поэтому оставим их как есть."
   ]
  },
  {
   "cell_type": "markdown",
   "id": "9652e50d",
   "metadata": {
    "id": "9652e50d"
   },
   "source": [
    "**Выведем перечень уникальных значений столбца `children`.**"
   ]
  },
  {
   "cell_type": "code",
   "execution_count": 8,
   "id": "dbb37b8e",
   "metadata": {
    "id": "dbb37b8e",
    "outputId": "6975b15c-7f95-4697-d16d-a0c79b657b03"
   },
   "outputs": [
    {
     "data": {
      "text/plain": [
       "array([ 1,  0,  3,  2, -1,  4, 20,  5], dtype=int64)"
      ]
     },
     "execution_count": 8,
     "metadata": {},
     "output_type": "execute_result"
    }
   ],
   "source": [
    "data['children'].unique()"
   ]
  },
  {
   "cell_type": "markdown",
   "id": "2b8b0715",
   "metadata": {
    "id": "2b8b0715"
   },
   "source": [
    "**В столбце `children` есть два аномальных значения. Удалим строки, в которых встречаются такие аномальные значения из датафрейма `data`.**"
   ]
  },
  {
   "cell_type": "code",
   "execution_count": 9,
   "id": "20009df8",
   "metadata": {
    "id": "20009df8"
   },
   "outputs": [],
   "source": [
    "data = data[(data['children'] != -1) & (data['children'] != 20)]"
   ]
  },
  {
   "cell_type": "markdown",
   "id": "8c6ac9f1",
   "metadata": {
    "id": "8c6ac9f1"
   },
   "source": [
    "**Ещё раз выведем перечень уникальных значений столбца `children`, чтобы убедиться, что артефакты удалены.**"
   ]
  },
  {
   "cell_type": "code",
   "execution_count": 10,
   "id": "07337b81",
   "metadata": {
    "id": "07337b81",
    "outputId": "b2097101-d49d-44d9-901b-32a65c9463d1"
   },
   "outputs": [
    {
     "data": {
      "text/plain": [
       "array([1, 0, 3, 2, 4, 5], dtype=int64)"
      ]
     },
     "execution_count": 10,
     "metadata": {},
     "output_type": "execute_result"
    }
   ],
   "source": [
    "data['children'].unique()"
   ]
  },
  {
   "cell_type": "markdown",
   "id": "ee3f52d4",
   "metadata": {
    "id": "ee3f52d4"
   },
   "source": [
    "### Удаление пропусков (продолжение)"
   ]
  },
  {
   "cell_type": "markdown",
   "id": "a700b0e4",
   "metadata": {
    "id": "a700b0e4"
   },
   "source": [
    "**Заполним пропуски в столбце `days_employed` медианными значениями по каждого типа занятости `income_type`.**"
   ]
  },
  {
   "cell_type": "code",
   "execution_count": 11,
   "id": "61946b83",
   "metadata": {
    "id": "61946b83"
   },
   "outputs": [],
   "source": [
    "for t in data['income_type'].unique():\n",
    "    data.loc[(data['income_type'] == t) & (data['days_employed'].isna()), 'days_employed'] = \\\n",
    "    data.loc[(data['income_type'] == t), 'days_employed'].median()"
   ]
  },
  {
   "cell_type": "markdown",
   "id": "550dcd9b",
   "metadata": {
    "id": "550dcd9b"
   },
   "source": [
    "**Убедимся, что все пропуски заполнены. Для проверки выведем ещё раз количество пропущенных значений для каждого столбца.**"
   ]
  },
  {
   "cell_type": "code",
   "execution_count": 12,
   "id": "937c7014",
   "metadata": {
    "id": "937c7014",
    "outputId": "8da1e4e1-358e-4e87-98c9-f261bce0a7b2"
   },
   "outputs": [
    {
     "data": {
      "text/plain": [
       "children            0\n",
       "days_employed       0\n",
       "dob_years           0\n",
       "education           0\n",
       "education_id        0\n",
       "family_status       0\n",
       "family_status_id    0\n",
       "gender              0\n",
       "income_type         0\n",
       "debt                0\n",
       "total_income        0\n",
       "purpose             0\n",
       "dtype: int64"
      ]
     },
     "execution_count": 12,
     "metadata": {},
     "output_type": "execute_result"
    }
   ],
   "source": [
    "data.isna().sum()"
   ]
  },
  {
   "cell_type": "markdown",
   "id": "d522e295",
   "metadata": {
    "id": "d522e295"
   },
   "source": [
    "### Изменение типов данных"
   ]
  },
  {
   "cell_type": "markdown",
   "id": "c229c581",
   "metadata": {
    "id": "c229c581"
   },
   "source": [
    "**Заменим вещественный тип данных в столбце `total_income` на целочисленный с помощью метода `astype()`.**"
   ]
  },
  {
   "cell_type": "code",
   "execution_count": 13,
   "id": "31036462",
   "metadata": {
    "id": "31036462"
   },
   "outputs": [],
   "source": [
    "data['total_income'] = data['total_income'].astype(int)"
   ]
  },
  {
   "cell_type": "markdown",
   "id": "b8e3d1d9",
   "metadata": {
    "id": "b8e3d1d9"
   },
   "source": [
    "### Обработка дубликатов"
   ]
  },
  {
   "cell_type": "markdown",
   "id": "9be53c49",
   "metadata": {
    "id": "9be53c49"
   },
   "source": [
    "**Обработаем неявные дубликаты в столбце `education`. В этом столбце есть одни и те же значения, но записанные по-разному: с использованием заглавных и строчных букв. Приведем их к нижнему регистру.**"
   ]
  },
  {
   "cell_type": "code",
   "execution_count": 14,
   "id": "d89e73e1",
   "metadata": {
    "id": "d89e73e1"
   },
   "outputs": [],
   "source": [
    "data['education'] = data['education'].str.lower()"
   ]
  },
  {
   "cell_type": "markdown",
   "id": "01d4500e",
   "metadata": {
    "id": "01d4500e"
   },
   "source": [
    "**Выведем на экран количество строк-дубликатов в данных, удалим их.**"
   ]
  },
  {
   "cell_type": "code",
   "execution_count": 15,
   "id": "e10efb23",
   "metadata": {
    "id": "e10efb23",
    "outputId": "9684deba-1934-42d1-99e1-cda61740f822"
   },
   "outputs": [
    {
     "data": {
      "text/plain": [
       "71"
      ]
     },
     "execution_count": 15,
     "metadata": {},
     "output_type": "execute_result"
    }
   ],
   "source": [
    "data.duplicated().sum()"
   ]
  },
  {
   "cell_type": "code",
   "execution_count": 16,
   "id": "df853f20",
   "metadata": {
    "id": "df853f20"
   },
   "outputs": [],
   "source": [
    "data = data.drop_duplicates()"
   ]
  },
  {
   "cell_type": "markdown",
   "id": "627be38f",
   "metadata": {
    "id": "627be38f"
   },
   "source": [
    "### Категоризация данных"
   ]
  },
  {
   "cell_type": "markdown",
   "id": "4684c3e0",
   "metadata": {
    "id": "4684c3e0"
   },
   "source": [
    "**На основании диапазонов, указанных ниже, создадим в датафрейме `data` столбец `total_income_category` с категориями:**\n",
    "\n",
    "- 0–30000 — `'E'`;\n",
    "- 30001–50000 — `'D'`;\n",
    "- 50001–200000 — `'C'`;\n",
    "- 200001–1000000 — `'B'`;\n",
    "- 1000001 и выше — `'A'`.\n",
    "\n",
    "\n",
    "**Создадим функцию с именем `categorize_income()` и вызовем методом `apply()`.**"
   ]
  },
  {
   "cell_type": "code",
   "execution_count": 17,
   "id": "78965238",
   "metadata": {
    "id": "78965238"
   },
   "outputs": [],
   "source": [
    "def categorize_income(income):\n",
    "    try:\n",
    "        if 0 <= income <= 30000:\n",
    "            return 'E'\n",
    "        elif 30001 <= income <= 50000:\n",
    "            return 'D'\n",
    "        elif 50001 <= income <= 200000:\n",
    "            return 'C'\n",
    "        elif 200001 <= income <= 1000000:\n",
    "            return 'B'\n",
    "        elif income >= 1000001:\n",
    "            return 'A'\n",
    "    except:\n",
    "        pass"
   ]
  },
  {
   "cell_type": "code",
   "execution_count": 18,
   "id": "0980ada1",
   "metadata": {
    "id": "0980ada1"
   },
   "outputs": [],
   "source": [
    "data['total_income_category'] = data['total_income'].apply(categorize_income)"
   ]
  },
  {
   "cell_type": "markdown",
   "id": "9917bba0",
   "metadata": {
    "id": "9917bba0"
   },
   "source": [
    "**Выведем на экран перечень уникальных целей взятия кредита из столбца `purpose`.**"
   ]
  },
  {
   "cell_type": "code",
   "execution_count": 19,
   "id": "ee07b65e",
   "metadata": {
    "id": "ee07b65e",
    "outputId": "673c12d9-7d7e-4ae0-9812-c622c89dd244"
   },
   "outputs": [
    {
     "data": {
      "text/plain": [
       "array(['покупка жилья', 'приобретение автомобиля',\n",
       "       'дополнительное образование', 'сыграть свадьбу',\n",
       "       'операции с жильем', 'образование', 'на проведение свадьбы',\n",
       "       'покупка жилья для семьи', 'покупка недвижимости',\n",
       "       'покупка коммерческой недвижимости', 'покупка жилой недвижимости',\n",
       "       'строительство собственной недвижимости', 'недвижимость',\n",
       "       'строительство недвижимости', 'на покупку подержанного автомобиля',\n",
       "       'на покупку своего автомобиля',\n",
       "       'операции с коммерческой недвижимостью',\n",
       "       'строительство жилой недвижимости', 'жилье',\n",
       "       'операции со своей недвижимостью', 'автомобили',\n",
       "       'заняться образованием', 'сделка с подержанным автомобилем',\n",
       "       'получение образования', 'автомобиль', 'свадьба',\n",
       "       'получение дополнительного образования', 'покупка своего жилья',\n",
       "       'операции с недвижимостью', 'получение высшего образования',\n",
       "       'свой автомобиль', 'сделка с автомобилем',\n",
       "       'профильное образование', 'высшее образование',\n",
       "       'покупка жилья для сдачи', 'на покупку автомобиля', 'ремонт жилью',\n",
       "       'заняться высшим образованием'], dtype=object)"
      ]
     },
     "execution_count": 19,
     "metadata": {},
     "output_type": "execute_result"
    }
   ],
   "source": [
    "data['purpose'].unique()"
   ]
  },
  {
   "cell_type": "markdown",
   "id": "52b79d56",
   "metadata": {
    "id": "52b79d56"
   },
   "source": [
    "Создадим функцию, которая на основании данных из столбца `purpose` сформирует новый столбец `purpose_category`, в который войдут следующие категории:\n",
    "\n",
    "- `'операции с автомобилем'`,\n",
    "- `'операции с недвижимостью'`,\n",
    "- `'проведение свадьбы'`,\n",
    "- `'получение образования'`.\n",
    "\n",
    "Например, если в столбце `purpose` находится подстрока `'на покупку автомобиля'`, то в столбце `purpose_category` должна появиться строка `'операции с автомобилем'`.\n",
    "\n",
    "Создадим функцию с именем `categorize_purpose()` и применим метод `apply()`."
   ]
  },
  {
   "cell_type": "code",
   "execution_count": 20,
   "id": "be41da5d",
   "metadata": {
    "id": "be41da5d"
   },
   "outputs": [],
   "source": [
    "def categorize_purpose(row):\n",
    "    try:\n",
    "        if 'автом' in row:\n",
    "            return 'операции с автомобилем'\n",
    "        elif 'жил' in row or 'недвиж' in row:\n",
    "            return 'операции с недвижимостью'\n",
    "        elif 'свад' in row:\n",
    "            return 'проведение свадьбы'\n",
    "        elif 'образов' in row:\n",
    "            return 'получение образования'\n",
    "    except:\n",
    "        return 'нет категории'"
   ]
  },
  {
   "cell_type": "code",
   "execution_count": 21,
   "id": "94c4a19a",
   "metadata": {
    "id": "94c4a19a"
   },
   "outputs": [],
   "source": [
    "data['purpose_category'] = data['purpose'].apply(categorize_purpose)"
   ]
  },
  {
   "cell_type": "markdown",
   "id": "3d596c34",
   "metadata": {
    "id": "3d596c34"
   },
   "source": [
    "### Исследуем данные"
   ]
  },
  {
   "cell_type": "markdown",
   "id": "a007a48a",
   "metadata": {},
   "source": [
    "#### Гипотеза №1\n",
    "**Проверим гипотезу:**\n",
    "при наличии детей возврат кредитов происходит чаще."
   ]
  },
  {
   "cell_type": "code",
   "execution_count": 22,
   "id": "8a8abce8",
   "metadata": {},
   "outputs": [],
   "source": [
    "import seaborn as sb # импорт библиотеки seaborn для barplot\n",
    "\n",
    "import matplotlib.pyplot as plt # для настройки параметров графика"
   ]
  },
  {
   "cell_type": "code",
   "execution_count": 23,
   "id": "7fcff25e",
   "metadata": {
    "id": "7fcff25e"
   },
   "outputs": [
    {
     "name": "stdout",
     "output_type": "stream",
     "text": [
      "debt\n",
      "0    19599\n",
      "1     1732\n",
      "Name: children, dtype: int64\n"
     ]
    },
    {
     "data": {
      "image/png": "[encoded data removed]",
      "text/plain": [
       "<Figure size 640x480 with 1 Axes>"
      ]
     },
     "metadata": {},
     "output_type": "display_data"
    }
   ],
   "source": [
    "print(data.groupby('debt')['children'].count()) # кол-во людей (не)имевших задолженность\n",
    "\n",
    "sb.barplot(x=['Без проблем','С проблемами'], y=data.groupby('debt')['children'].count())\n",
    "plt.ylabel('Количество заемщиков')\n",
    "plt.title('Частота проблем у заемщиков с детьми');"
   ]
  },
  {
   "cell_type": "markdown",
   "id": "da9b5df6",
   "metadata": {},
   "source": [
    "**Вывод:** \\\n",
    "Случаев задолженности по кредитам *в целом* меньше (без учета наличия детей)."
   ]
  },
  {
   "cell_type": "code",
   "execution_count": 24,
   "id": "ad5957fa",
   "metadata": {},
   "outputs": [
    {
     "data": {
      "text/plain": [
       "(7240, 14091)"
      ]
     },
     "execution_count": 24,
     "metadata": {},
     "output_type": "execute_result"
    },
    {
     "data": {
      "image/png": "[encoded data removed]",
      "text/plain": [
       "<Figure size 640x480 with 1 Axes>"
      ]
     },
     "metadata": {},
     "output_type": "display_data"
    }
   ],
   "source": [
    "# выделим в отдельные датафреймы людей с детьми и без\n",
    "\n",
    "# с детьми\n",
    "data_with_child = data.loc[data['children'] != 0] \n",
    "\n",
    "# без детей\n",
    "data_without_child = data.loc[data['children'] == 0] \n",
    "\n",
    "# Диаграмма\n",
    "sb.barplot(x=['С детьми', 'Без детей'],y=[data_with_child['children'].count(), data_without_child['children'].count()])\n",
    "plt.ylabel('Количество заемщиков')\n",
    "plt.title('Сравнение числа заемщиков с детьми и без');\n",
    "\n",
    "#Вывод численных значений\n",
    "len(data_with_child), len(data_without_child)"
   ]
  },
  {
   "cell_type": "markdown",
   "id": "2eb9088e",
   "metadata": {
    "id": "2eb9088e"
   },
   "source": [
    "**Вывод:** людей с детьми меньше, чем людей без детей."
   ]
  },
  {
   "cell_type": "code",
   "execution_count": 25,
   "id": "64dad9c5",
   "metadata": {},
   "outputs": [
    {
     "name": "stdout",
     "output_type": "stream",
     "text": [
      "Количество заёмщиков с задолженностью по возврату кредитов: 669\n"
     ]
    },
    {
     "data": {
      "image/png": "[encoded data removed]",
      "text/plain": [
       "<Figure size 640x480 with 1 Axes>"
      ]
     },
     "metadata": {},
     "output_type": "display_data"
    }
   ],
   "source": [
    "# Рассмотрим ситуацию для людей с детьми\n",
    "# количество заёмщиков с детьми\n",
    "\n",
    "print(\n",
    "    'Количество заёмщиков с задолженностью по возврату кредитов:', \n",
    "      data_with_child.loc[data_with_child['debt'] != 0]['debt'].count()\n",
    "     )\n",
    "\n",
    "# Диаграмма\n",
    "\n",
    "sb.barplot(\n",
    "    x=['Нет задоженности', 'Есть задолженность'], \n",
    "           y=[data_with_child.loc[data_with_child['debt'] == 0]['debt'].count(), \n",
    "              data_with_child.loc[data_with_child['debt'] != 0]['debt'].count()]\n",
    "          )\n",
    "plt.ylabel('Количество заемщиков ')\n",
    "plt.title('Количество заёмщиков с детьми с задолженностью по возврату кредитов');"
   ]
  },
  {
   "cell_type": "code",
   "execution_count": 26,
   "id": "1cd5ec71",
   "metadata": {},
   "outputs": [
    {
     "name": "stdout",
     "output_type": "stream",
     "text": [
      "Количество заёмщиков с задолженностью по возврату кредитов: 1063\n"
     ]
    },
    {
     "data": {
      "image/png": "[encoded data removed]",
      "text/plain": [
       "<Figure size 640x480 with 1 Axes>"
      ]
     },
     "metadata": {},
     "output_type": "display_data"
    }
   ],
   "source": [
    "# Рассмотрим ситуацию для людей БЕЗ детей\n",
    "\n",
    "print(\n",
    "    'Количество заёмщиков с задолженностью по возврату кредитов:', \n",
    "    data_without_child.loc[data_without_child['debt'] != 0]['debt'].count()\n",
    ") \n",
    "\n",
    "# Диаграмма\n",
    "\n",
    "sb.barplot(x=['Нет задоженности', 'Есть задолженность'], \n",
    "           y=[data_without_child.loc[data_without_child['debt'] == 0]['debt'].count(), \n",
    "              data_without_child.loc[data_without_child['debt'] != 0]['debt'].count()]\n",
    "          )\n",
    "plt.ylabel('Количество заемщиков ')\n",
    "plt.title('Количество заёмщиков БЕЗ детей с задолженностью по возврату кредитов');"
   ]
  },
  {
   "cell_type": "code",
   "execution_count": 27,
   "id": "9b7014f2",
   "metadata": {},
   "outputs": [
    {
     "name": "stdout",
     "output_type": "stream",
     "text": [
      "Люди с задолженностью с детьми: 9.24%\n",
      "Люди с задолженностью без детей: 7.54%\n",
      "\n",
      "Люди с задолженностью с детьми ко всем заёмшикам: 3.14%\n",
      "Люди с задолженностью без детей ко всем заёмшикам: 4.98%\n"
     ]
    }
   ],
   "source": [
    "# Сравним в процентном соотношении\n",
    "# С задолженность с детьми / все с детьми\n",
    "# Нам необходимы первые два значения\n",
    "\n",
    "print('Люди с задолженностью с детьми:', \n",
    "      '{:.2%}'.format((data_with_child.loc[data_with_child['debt'] != 0]['debt'].count()) \n",
    "                      / data_with_child['debt'].count())\n",
    "     )\n",
    "\n",
    "# С задолженность без детей / все без детей\n",
    "\n",
    "print('Люди с задолженностью без детей:', \n",
    "      '{:.2%}'.format((data_without_child.loc[data_without_child['debt'] != 0]['debt'].count()) \n",
    "                      / data_without_child['debt'].count())\n",
    "     )\n",
    "\n",
    "print()\n",
    "\n",
    "# С задолженность с детьми / все\n",
    "\n",
    "print('Люди с задолженностью с детьми ко всем заёмшикам:', \n",
    "      '{:.2%}'.format((data_with_child.loc[data_with_child['debt'] != 0]['debt'].count()) \n",
    "                      / data['debt'].count())\n",
    "     )\n",
    "\n",
    "# С задолженность без детей / все\n",
    "\n",
    "print('Люди с задолженностью без детей ко всем заёмшикам:', \n",
    "      '{:.2%}'.format((data_without_child.loc[data_without_child['debt'] != 0]['debt'].count()) \n",
    "                      / data['debt'].count())\n",
    "     )"
   ]
  },
  {
   "cell_type": "markdown",
   "id": "40a0791a",
   "metadata": {},
   "source": [
    "**Вывод:** \\\n",
    "В процентном соотношении внутри своих групп процент невозвратов невелик - до 9,24% и 7,54%. Можно было бы сделать вывод, что при наличии детей риск невозврата выше, однако если пересмотреть проценты на всех заемщиков, то это число уменьшится вследствие того, что кредиты чаще берут люди без детей."
   ]
  },
  {
   "cell_type": "markdown",
   "id": "64aa8988",
   "metadata": {},
   "source": [
    "#### Рассмотрим группу людей с детьми"
   ]
  },
  {
   "cell_type": "code",
   "execution_count": 28,
   "id": "c891358c",
   "metadata": {},
   "outputs": [
    {
     "data": {
      "text/html": [
       "<div>\n",
       "<style scoped>\n",
       "    .dataframe tbody tr th:only-of-type {\n",
       "        vertical-align: middle;\n",
       "    }\n",
       "\n",
       "    .dataframe tbody tr th {\n",
       "        vertical-align: top;\n",
       "    }\n",
       "\n",
       "    .dataframe thead th {\n",
       "        text-align: right;\n",
       "    }\n",
       "</style>\n",
       "<table border=\"1\" class=\"dataframe\">\n",
       "  <thead>\n",
       "    <tr style=\"text-align: right;\">\n",
       "      <th></th>\n",
       "      <th>children</th>\n",
       "      <th>days_employed</th>\n",
       "      <th>dob_years</th>\n",
       "      <th>education_id</th>\n",
       "      <th>family_status_id</th>\n",
       "      <th>debt</th>\n",
       "      <th>total_income</th>\n",
       "    </tr>\n",
       "  </thead>\n",
       "  <tbody>\n",
       "    <tr>\n",
       "      <th>count</th>\n",
       "      <td>7240.000000</td>\n",
       "      <td>7240.000000</td>\n",
       "      <td>7240.000000</td>\n",
       "      <td>7240.000000</td>\n",
       "      <td>7240.000000</td>\n",
       "      <td>7240.000000</td>\n",
       "      <td>7.240000e+03</td>\n",
       "    </tr>\n",
       "    <tr>\n",
       "      <th>mean</th>\n",
       "      <td>1.396547</td>\n",
       "      <td>17172.649957</td>\n",
       "      <td>37.528315</td>\n",
       "      <td>0.789917</td>\n",
       "      <td>0.685497</td>\n",
       "      <td>0.092403</td>\n",
       "      <td>1.698010e+05</td>\n",
       "    </tr>\n",
       "    <tr>\n",
       "      <th>std</th>\n",
       "      <td>0.615959</td>\n",
       "      <td>72260.497028</td>\n",
       "      <td>9.069502</td>\n",
       "      <td>0.562868</td>\n",
       "      <td>1.210471</td>\n",
       "      <td>0.289614</td>\n",
       "      <td>1.043018e+05</td>\n",
       "    </tr>\n",
       "    <tr>\n",
       "      <th>min</th>\n",
       "      <td>1.000000</td>\n",
       "      <td>24.141633</td>\n",
       "      <td>0.000000</td>\n",
       "      <td>0.000000</td>\n",
       "      <td>0.000000</td>\n",
       "      <td>0.000000</td>\n",
       "      <td>2.136700e+04</td>\n",
       "    </tr>\n",
       "    <tr>\n",
       "      <th>25%</th>\n",
       "      <td>1.000000</td>\n",
       "      <td>868.612373</td>\n",
       "      <td>31.000000</td>\n",
       "      <td>0.000000</td>\n",
       "      <td>0.000000</td>\n",
       "      <td>0.000000</td>\n",
       "      <td>1.103995e+05</td>\n",
       "    </tr>\n",
       "    <tr>\n",
       "      <th>50%</th>\n",
       "      <td>1.000000</td>\n",
       "      <td>1572.328285</td>\n",
       "      <td>37.000000</td>\n",
       "      <td>1.000000</td>\n",
       "      <td>0.000000</td>\n",
       "      <td>0.000000</td>\n",
       "      <td>1.443620e+05</td>\n",
       "    </tr>\n",
       "    <tr>\n",
       "      <th>75%</th>\n",
       "      <td>2.000000</td>\n",
       "      <td>3039.834142</td>\n",
       "      <td>42.000000</td>\n",
       "      <td>1.000000</td>\n",
       "      <td>1.000000</td>\n",
       "      <td>0.000000</td>\n",
       "      <td>1.987085e+05</td>\n",
       "    </tr>\n",
       "    <tr>\n",
       "      <th>max</th>\n",
       "      <td>5.000000</td>\n",
       "      <td>401675.093434</td>\n",
       "      <td>73.000000</td>\n",
       "      <td>4.000000</td>\n",
       "      <td>4.000000</td>\n",
       "      <td>1.000000</td>\n",
       "      <td>2.200852e+06</td>\n",
       "    </tr>\n",
       "  </tbody>\n",
       "</table>\n",
       "</div>"
      ],
      "text/plain": [
       "          children  days_employed    dob_years  education_id  \\\n",
       "count  7240.000000    7240.000000  7240.000000   7240.000000   \n",
       "mean      1.396547   17172.649957    37.528315      0.789917   \n",
       "std       0.615959   72260.497028     9.069502      0.562868   \n",
       "min       1.000000      24.141633     0.000000      0.000000   \n",
       "25%       1.000000     868.612373    31.000000      0.000000   \n",
       "50%       1.000000    1572.328285    37.000000      1.000000   \n",
       "75%       2.000000    3039.834142    42.000000      1.000000   \n",
       "max       5.000000  401675.093434    73.000000      4.000000   \n",
       "\n",
       "       family_status_id         debt  total_income  \n",
       "count       7240.000000  7240.000000  7.240000e+03  \n",
       "mean           0.685497     0.092403  1.698010e+05  \n",
       "std            1.210471     0.289614  1.043018e+05  \n",
       "min            0.000000     0.000000  2.136700e+04  \n",
       "25%            0.000000     0.000000  1.103995e+05  \n",
       "50%            0.000000     0.000000  1.443620e+05  \n",
       "75%            1.000000     0.000000  1.987085e+05  \n",
       "max            4.000000     1.000000  2.200852e+06  "
      ]
     },
     "execution_count": 28,
     "metadata": {},
     "output_type": "execute_result"
    }
   ],
   "source": [
    "data_with_child.describe()"
   ]
  },
  {
   "cell_type": "markdown",
   "id": "e936f10c",
   "metadata": {},
   "source": [
    "**Выводы:** \n",
    "- максимум 5 детей;\n",
    "- в среднем 1,4 ребенка;\n",
    "- минимум 1 ребенок."
   ]
  },
  {
   "cell_type": "code",
   "execution_count": 29,
   "id": "a1f7b074",
   "metadata": {},
   "outputs": [
    {
     "name": "stdout",
     "output_type": "stream",
     "text": [
      "Количество человек с n-ым количеством детей:\n"
     ]
    },
    {
     "data": {
      "text/plain": [
       "1    4808\n",
       "2    2052\n",
       "3     330\n",
       "4      41\n",
       "5       9\n",
       "Name: children, dtype: int64"
      ]
     },
     "execution_count": 29,
     "metadata": {},
     "output_type": "execute_result"
    }
   ],
   "source": [
    "print('Количество человек с n-ым количеством детей:')\n",
    "data_with_child['children'].value_counts()"
   ]
  },
  {
   "cell_type": "code",
   "execution_count": 30,
   "id": "dda1d21b",
   "metadata": {},
   "outputs": [
    {
     "data": {
      "text/plain": [
       "children  debt\n",
       "1         0       4364\n",
       "          1        444\n",
       "2         0       1858\n",
       "          1        194\n",
       "3         0        303\n",
       "          1         27\n",
       "4         0         37\n",
       "          1          4\n",
       "5         0          9\n",
       "Name: debt, dtype: int64"
      ]
     },
     "execution_count": 30,
     "metadata": {},
     "output_type": "execute_result"
    }
   ],
   "source": [
    "# количесвто заёмщиков по категориям\n",
    "\n",
    "data_with_child.groupby('children')['debt'].value_counts()"
   ]
  },
  {
   "cell_type": "code",
   "execution_count": 31,
   "id": "245c4bdf",
   "metadata": {},
   "outputs": [
    {
     "data": {
      "text/plain": [
       "children\n",
       "1    9.23\n",
       "2    9.45\n",
       "3    8.18\n",
       "4    9.76\n",
       "5    0.00\n",
       "Name: debt, dtype: float64"
      ]
     },
     "execution_count": 31,
     "metadata": {},
     "output_type": "execute_result"
    }
   ],
   "source": [
    "# Проценты по группам\n",
    "\n",
    "round(data_with_child.groupby('children')['debt'].sum()\n",
    "      / data_with_child.groupby('children')['debt'].count() * 100, 2)"
   ]
  },
  {
   "cell_type": "code",
   "execution_count": 32,
   "id": "16bb4997",
   "metadata": {},
   "outputs": [
    {
     "data": {
      "text/html": [
       "<div>\n",
       "<style scoped>\n",
       "    .dataframe tbody tr th:only-of-type {\n",
       "        vertical-align: middle;\n",
       "    }\n",
       "\n",
       "    .dataframe tbody tr th {\n",
       "        vertical-align: top;\n",
       "    }\n",
       "\n",
       "    .dataframe thead tr th {\n",
       "        text-align: left;\n",
       "    }\n",
       "\n",
       "    .dataframe thead tr:last-of-type th {\n",
       "        text-align: right;\n",
       "    }\n",
       "</style>\n",
       "<table border=\"1\" class=\"dataframe\">\n",
       "  <thead>\n",
       "    <tr>\n",
       "      <th></th>\n",
       "      <th>count</th>\n",
       "      <th>sum</th>\n",
       "      <th>%</th>\n",
       "    </tr>\n",
       "    <tr>\n",
       "      <th></th>\n",
       "      <th>debt</th>\n",
       "      <th>debt</th>\n",
       "      <th></th>\n",
       "    </tr>\n",
       "    <tr>\n",
       "      <th>children</th>\n",
       "      <th></th>\n",
       "      <th></th>\n",
       "      <th></th>\n",
       "    </tr>\n",
       "  </thead>\n",
       "  <tbody>\n",
       "    <tr>\n",
       "      <th>1</th>\n",
       "      <td>4808</td>\n",
       "      <td>444</td>\n",
       "      <td>9.23</td>\n",
       "    </tr>\n",
       "    <tr>\n",
       "      <th>2</th>\n",
       "      <td>2052</td>\n",
       "      <td>194</td>\n",
       "      <td>9.45</td>\n",
       "    </tr>\n",
       "    <tr>\n",
       "      <th>3</th>\n",
       "      <td>330</td>\n",
       "      <td>27</td>\n",
       "      <td>8.18</td>\n",
       "    </tr>\n",
       "    <tr>\n",
       "      <th>4</th>\n",
       "      <td>41</td>\n",
       "      <td>4</td>\n",
       "      <td>9.76</td>\n",
       "    </tr>\n",
       "    <tr>\n",
       "      <th>5</th>\n",
       "      <td>9</td>\n",
       "      <td>0</td>\n",
       "      <td>0.00</td>\n",
       "    </tr>\n",
       "  </tbody>\n",
       "</table>\n",
       "</div>"
      ],
      "text/plain": [
       "         count  sum     %\n",
       "          debt debt      \n",
       "children                 \n",
       "1         4808  444  9.23\n",
       "2         2052  194  9.45\n",
       "3          330   27  8.18\n",
       "4           41    4  9.76\n",
       "5            9    0  0.00"
      ]
     },
     "execution_count": 32,
     "metadata": {},
     "output_type": "execute_result"
    }
   ],
   "source": [
    "# Построим сводную таблицу и напишем вывод\n",
    "\n",
    "data_with_child_pivot = data_with_child.pivot_table(index='children', values='debt', aggfunc=['count', 'sum'])\n",
    "data_with_child_pivot['%'] = round(data_with_child_pivot['sum'] / data_with_child_pivot['count'] * 100, 2)\n",
    "data_with_child_pivot"
   ]
  },
  {
   "cell_type": "markdown",
   "id": "672af398",
   "metadata": {},
   "source": [
    "**Выводы:** <a id='pivot_table_children'></a> \\\n",
    "Нельзя однозначно утверждать, что есть зависимость между количеством детей и возвратом кредита в срок, так как количества таких людей весьма разнятся, проценты в этих категориях несильно изменяются и находятся в пределах 8-10%. Стоит отметить, что у людей с 5-ю детьми отсутствует статистика по невозвратам, но таких людей, взявших кредит, всего 9 человек."
   ]
  },
  {
   "cell_type": "markdown",
   "id": "74c9b3a7",
   "metadata": {
    "id": "74c9b3a7"
   },
   "source": [
    "#### Есть ли зависимость между семейным положением и возвратом кредита в срок?"
   ]
  },
  {
   "cell_type": "code",
   "execution_count": 33,
   "id": "0a8a2934",
   "metadata": {
    "id": "8098ab3b"
   },
   "outputs": [
    {
     "data": {
      "text/plain": [
       "family_status          family_status_id\n",
       "женат / замужем        0                   12261\n",
       "гражданский брак       1                    4134\n",
       "Не женат / не замужем  4                    2796\n",
       "в разводе              3                    1189\n",
       "вдовец / вдова         2                     951\n",
       "Name: family_status_id, dtype: int64"
      ]
     },
     "execution_count": 33,
     "metadata": {},
     "output_type": "execute_result"
    }
   ],
   "source": [
    "# Статусы семейного положения\n",
    "\n",
    "data.groupby('family_status')['family_status_id'].value_counts().sort_values(ascending=False)"
   ]
  },
  {
   "cell_type": "code",
   "execution_count": 34,
   "id": "8fecde8c",
   "metadata": {},
   "outputs": [
    {
     "data": {
      "text/plain": [
       "family_status          debt\n",
       "Не женат / не замужем  0        2523\n",
       "                       1         273\n",
       "в разводе              0        1105\n",
       "                       1          84\n",
       "вдовец / вдова         0         888\n",
       "                       1          63\n",
       "гражданский брак       0        3749\n",
       "                       1         385\n",
       "женат / замужем        0       11334\n",
       "                       1         927\n",
       "Name: debt, dtype: int64"
      ]
     },
     "execution_count": 34,
     "metadata": {},
     "output_type": "execute_result"
    }
   ],
   "source": [
    "data.groupby('family_status')['debt'].value_counts()#.sort_values(ascending=False)"
   ]
  },
  {
   "cell_type": "code",
   "execution_count": 35,
   "id": "89fee97d",
   "metadata": {},
   "outputs": [
    {
     "name": "stdout",
     "output_type": "stream",
     "text": [
      "статус кредита 0 = нет задолженности\n"
     ]
    },
    {
     "data": {
      "image/png": "[encoded data removed]",
      "text/plain": [
       "<Figure size 640x480 with 1 Axes>"
      ]
     },
     "metadata": {},
     "output_type": "display_data"
    }
   ],
   "source": [
    "# общее сравнение\n",
    "print('статус кредита 0 = нет задолженности')\n",
    "\n",
    "data.groupby('family_status')['debt'].value_counts().plot.barh()\n",
    "plt.xlabel('Количество заемщиков')\n",
    "plt.ylabel('Семейный статус, статус кредита')\n",
    "plt.title('Общая диаграмма сравнения');"
   ]
  },
  {
   "cell_type": "code",
   "execution_count": 36,
   "id": "214f9768",
   "metadata": {},
   "outputs": [
    {
     "data": {
      "image/png": "[encoded data removed]",
      "text/plain": [
       "<Figure size 640x480 with 1 Axes>"
      ]
     },
     "metadata": {},
     "output_type": "display_data"
    }
   ],
   "source": [
    "# сравнение тех, у кого нет проблем\n",
    "\n",
    "data[data['debt'] == 0].groupby('family_status')['debt'].count()\\\n",
    ".plot.barh()\n",
    "\n",
    "plt.xlabel('Количество заемщиков')\n",
    "plt.ylabel('Семейный статус')\n",
    "plt.title('Диаграмма сравнения людей, БЕЗ задолженностей');"
   ]
  },
  {
   "cell_type": "code",
   "execution_count": 37,
   "id": "7dd21559",
   "metadata": {},
   "outputs": [
    {
     "data": {
      "image/png": "[encoded data removed]",
      "text/plain": [
       "<Figure size 640x480 with 1 Axes>"
      ]
     },
     "metadata": {},
     "output_type": "display_data"
    }
   ],
   "source": [
    "# сравнение тех, у кого есть проблемы\n",
    "\n",
    "data[data['debt'] != 0].groupby('family_status')['debt'].count().plot.barh()\n",
    "\n",
    "plt.xlabel('Количество заемщиков')\n",
    "plt.ylabel('Семейный статус, статус кредита')\n",
    "plt.title('Диаграмма сравнения людей с задолженностями по возврату кредитов');"
   ]
  },
  {
   "cell_type": "code",
   "execution_count": 38,
   "id": "a4b05071",
   "metadata": {},
   "outputs": [
    {
     "name": "stdout",
     "output_type": "stream",
     "text": [
      "женат / замужем : 7.56%\n",
      "гражданский брак : 9.31%\n",
      "вдовец / вдова : 6.62%\n",
      "в разводе : 7.06%\n",
      "Не женат / не замужем : 9.76%\n"
     ]
    }
   ],
   "source": [
    "# Процент своей группы людей с проблемами по выплате кредитов\n",
    "\n",
    "for status in data['family_status'].unique():\n",
    "    print(status, ':', '{:.2%}'.format(data.loc[data['family_status'] == status, 'debt'].sum() \n",
    "                                       / data.loc[data['family_status'] == status, 'debt'].count()))"
   ]
  },
  {
   "cell_type": "code",
   "execution_count": 39,
   "id": "6d2fbf0c",
   "metadata": {},
   "outputs": [
    {
     "name": "stdout",
     "output_type": "stream",
     "text": [
      "женат / замужем : 4.35%\n",
      "гражданский брак : 1.80%\n",
      "вдовец / вдова : 0.30%\n",
      "в разводе : 0.39%\n",
      "Не женат / не замужем : 1.28%\n"
     ]
    }
   ],
   "source": [
    "# Процент людей с проблемами по выплате кредитов ко всей массе\n",
    "\n",
    "for status in data['family_status'].unique():\n",
    "    print(status, ':', '{:.2%}'.format(data.loc[data['family_status'] == status, 'debt'].sum() / data['debt'].count()))"
   ]
  },
  {
   "cell_type": "code",
   "execution_count": 40,
   "id": "c8b9d5a1",
   "metadata": {},
   "outputs": [
    {
     "data": {
      "text/html": [
       "<div>\n",
       "<style scoped>\n",
       "    .dataframe tbody tr th:only-of-type {\n",
       "        vertical-align: middle;\n",
       "    }\n",
       "\n",
       "    .dataframe tbody tr th {\n",
       "        vertical-align: top;\n",
       "    }\n",
       "\n",
       "    .dataframe thead tr th {\n",
       "        text-align: left;\n",
       "    }\n",
       "\n",
       "    .dataframe thead tr:last-of-type th {\n",
       "        text-align: right;\n",
       "    }\n",
       "</style>\n",
       "<table border=\"1\" class=\"dataframe\">\n",
       "  <thead>\n",
       "    <tr>\n",
       "      <th></th>\n",
       "      <th>count</th>\n",
       "      <th>sum</th>\n",
       "      <th>%</th>\n",
       "    </tr>\n",
       "    <tr>\n",
       "      <th></th>\n",
       "      <th>debt</th>\n",
       "      <th>debt</th>\n",
       "      <th></th>\n",
       "    </tr>\n",
       "    <tr>\n",
       "      <th>family_status</th>\n",
       "      <th></th>\n",
       "      <th></th>\n",
       "      <th></th>\n",
       "    </tr>\n",
       "  </thead>\n",
       "  <tbody>\n",
       "    <tr>\n",
       "      <th>Не женат / не замужем</th>\n",
       "      <td>2796</td>\n",
       "      <td>273</td>\n",
       "      <td>9.76</td>\n",
       "    </tr>\n",
       "    <tr>\n",
       "      <th>в разводе</th>\n",
       "      <td>1189</td>\n",
       "      <td>84</td>\n",
       "      <td>7.06</td>\n",
       "    </tr>\n",
       "    <tr>\n",
       "      <th>вдовец / вдова</th>\n",
       "      <td>951</td>\n",
       "      <td>63</td>\n",
       "      <td>6.62</td>\n",
       "    </tr>\n",
       "    <tr>\n",
       "      <th>гражданский брак</th>\n",
       "      <td>4134</td>\n",
       "      <td>385</td>\n",
       "      <td>9.31</td>\n",
       "    </tr>\n",
       "    <tr>\n",
       "      <th>женат / замужем</th>\n",
       "      <td>12261</td>\n",
       "      <td>927</td>\n",
       "      <td>7.56</td>\n",
       "    </tr>\n",
       "  </tbody>\n",
       "</table>\n",
       "</div>"
      ],
      "text/plain": [
       "                       count  sum     %\n",
       "                        debt debt      \n",
       "family_status                          \n",
       "Не женат / не замужем   2796  273  9.76\n",
       "в разводе               1189   84  7.06\n",
       "вдовец / вдова           951   63  6.62\n",
       "гражданский брак        4134  385  9.31\n",
       "женат / замужем        12261  927  7.56"
      ]
     },
     "execution_count": 40,
     "metadata": {},
     "output_type": "execute_result"
    }
   ],
   "source": [
    "# Сводная таблица\n",
    "\n",
    "data_pivot = data.pivot_table(index='family_status', values='debt', aggfunc=['count', 'sum'])\n",
    "data_pivot['%'] = round(data_pivot['sum'] / data_pivot['count'] * 100 , 2)\n",
    "data_pivot"
   ]
  },
  {
   "cell_type": "markdown",
   "id": "c389ca63",
   "metadata": {
    "id": "c389ca63"
   },
   "source": [
    "**Вывод:** <a id='pivot_family_status'></a> \\\n",
    "Наибольший процент проблемных клиентов в группе \"не женат / не замужем\". Однако при пересчете на всю массу кредитов это количество становится менее значительным, но по-прежнему рискованным.\\\n",
    "\\\n",
    "Существует зависимость между семейным положением и возвратом кредита в срок. Наименее подвержены риску люди из категорий *\\\"вдовец / вдова\"* и *\\\"в разводе\"* . \\\n",
    "Наибольшее число выдаваемых кредитов приходится на категорию *\\\"женат / замужем\"*. Однако в этой группе процент невозвартов не является наибольшим. Наиболее рискованной является группа *\\\"Не женат / не замужем\"*."
   ]
  },
  {
   "cell_type": "markdown",
   "id": "9529de68",
   "metadata": {
    "id": "9529de68"
   },
   "source": [
    "#### Есть ли зависимость между уровнем дохода и возвратом кредита в срок?"
   ]
  },
  {
   "cell_type": "code",
   "execution_count": 41,
   "id": "8787f44a",
   "metadata": {
    "id": "8787f44a"
   },
   "outputs": [],
   "source": [
    "#создадим для работы датафрейм с тремя колонками\n",
    "debt_and_income = data.loc[:,['debt', 'total_income', 'total_income_category']]"
   ]
  },
  {
   "cell_type": "code",
   "execution_count": 42,
   "id": "fde03396",
   "metadata": {},
   "outputs": [
    {
     "data": {
      "text/plain": [
       "total_income_category  debt\n",
       "A                      0          23\n",
       "                       1           2\n",
       "B                      0        4660\n",
       "                       1         354\n",
       "C                      0       14568\n",
       "                       1        1353\n",
       "D                      0         328\n",
       "                       1          21\n",
       "E                      0          20\n",
       "                       1           2\n",
       "Name: debt, dtype: int64"
      ]
     },
     "execution_count": 42,
     "metadata": {},
     "output_type": "execute_result"
    }
   ],
   "source": [
    "# Рассмотрим по категориям доходов ситуацию с кредитами\n",
    "debt_and_income.groupby('total_income_category')['debt'].value_counts()"
   ]
  },
  {
   "cell_type": "code",
   "execution_count": 43,
   "id": "89ae4b6f",
   "metadata": {},
   "outputs": [
    {
     "data": {
      "image/png": "[encoded data removed]",
      "text/plain": [
       "<Figure size 640x480 with 1 Axes>"
      ]
     },
     "metadata": {},
     "output_type": "display_data"
    }
   ],
   "source": [
    "debt_and_income.groupby('total_income_category')['debt'].value_counts().plot.barh()\n",
    "\n",
    "plt.xlabel('Количество заемщиков')\n",
    "plt.ylabel('Категория уровня дохода, статус кредита')\n",
    "plt.title('Общая диаграмма сравнения');"
   ]
  },
  {
   "cell_type": "code",
   "execution_count": 44,
   "id": "a5990ae6",
   "metadata": {},
   "outputs": [
    {
     "data": {
      "image/png": "[encoded data removed]",
      "text/plain": [
       "<Figure size 640x480 with 1 Axes>"
      ]
     },
     "metadata": {},
     "output_type": "display_data"
    }
   ],
   "source": [
    "debt_and_income.loc[debt_and_income['debt'] == 0].groupby('total_income_category')['debt'].value_counts().plot.barh()\n",
    "\n",
    "plt.xlabel('Количество заемщиков')\n",
    "plt.ylabel('Категория уровня дохода, статус кредита')\n",
    "plt.title('Категории берущие кредиты и возвращают без проблем');"
   ]
  },
  {
   "cell_type": "code",
   "execution_count": 45,
   "id": "909bc785",
   "metadata": {},
   "outputs": [
    {
     "data": {
      "image/png": "[encoded data removed]",
      "text/plain": [
       "<Figure size 640x480 with 1 Axes>"
      ]
     },
     "metadata": {},
     "output_type": "display_data"
    }
   ],
   "source": [
    "debt_and_income.loc[debt_and_income['debt'] != 0].groupby('total_income_category'\n",
    ")['debt'].value_counts().plot.barh()\n",
    "\n",
    "plt.xlabel('Количество заемщиков')\n",
    "plt.ylabel('Категория уровня дохода, статус кредита')\n",
    "plt.title('Категории с проблемами по возврату кредитов');"
   ]
  },
  {
   "cell_type": "markdown",
   "id": "1f231335",
   "metadata": {},
   "source": [
    "Но данное отображение сложно назвать корректным. Переведем данные в проценты."
   ]
  },
  {
   "cell_type": "code",
   "execution_count": 46,
   "id": "76f26f6a",
   "metadata": {},
   "outputs": [
    {
     "data": {
      "text/plain": [
       "total_income_category\n",
       "A    8.00\n",
       "B    7.06\n",
       "C    8.50\n",
       "D    6.02\n",
       "E    9.09\n",
       "Name: debt, dtype: float64"
      ]
     },
     "execution_count": 46,
     "metadata": {},
     "output_type": "execute_result"
    }
   ],
   "source": [
    "# Процентное соотношение по проблемам с возвратами (по-отношению к своей категории) \n",
    "round(debt_and_income.loc[debt_and_income['debt'] != 0].groupby('total_income_category')['debt'].count() \n",
    "      / debt_and_income.groupby('total_income_category')['debt'].count() * 100, 2)"
   ]
  },
  {
   "cell_type": "code",
   "execution_count": 47,
   "id": "ffff52e1",
   "metadata": {},
   "outputs": [
    {
     "data": {
      "image/png": "[encoded data removed]",
      "text/plain": [
       "<Figure size 640x480 with 1 Axes>"
      ]
     },
     "metadata": {},
     "output_type": "display_data"
    }
   ],
   "source": [
    "(debt_and_income.loc[debt_and_income['debt'] != 0].groupby('total_income_category')['debt'].count() \n",
    " / debt_and_income.groupby('total_income_category')['debt'].count() * 100).plot.barh()\n",
    "\n",
    "plt.xlabel('Проценты заемщиков')\n",
    "plt.ylabel('Категория уровня дохода')\n",
    "plt.title('Проценты \"проблемных\" клиентов к своим группам');"
   ]
  },
  {
   "cell_type": "markdown",
   "id": "97f26bf1",
   "metadata": {},
   "source": [
    "Здесь видно, что в каждой группе *есть* процент \"проблемных\" клиентов, что больше похоже на реальность.\\\n",
    "**Стоит отметить:** независимо от уровня зарплаты риск более 6%, но наименьший в категории D."
   ]
  },
  {
   "cell_type": "code",
   "execution_count": 48,
   "id": "3e6f5911",
   "metadata": {},
   "outputs": [
    {
     "data": {
      "image/png": "[encoded data removed]",
      "text/plain": [
       "<Figure size 640x480 with 1 Axes>"
      ]
     },
     "metadata": {},
     "output_type": "display_data"
    }
   ],
   "source": [
    "(debt_and_income.loc[debt_and_income['debt'] != 0].groupby('total_income_category')['debt'].count() \n",
    " / debt_and_income['debt'].count() * 100).plot.barh()\n",
    "\n",
    "plt.xlabel('Проценты заемщиков')\n",
    "plt.ylabel('Категория уровня дохода')\n",
    "plt.title('Проценты \"проблемных\" клиентов ко всем клиентам');"
   ]
  },
  {
   "cell_type": "code",
   "execution_count": 49,
   "id": "4ac7465c",
   "metadata": {},
   "outputs": [
    {
     "data": {
      "text/html": [
       "<div>\n",
       "<style scoped>\n",
       "    .dataframe tbody tr th:only-of-type {\n",
       "        vertical-align: middle;\n",
       "    }\n",
       "\n",
       "    .dataframe tbody tr th {\n",
       "        vertical-align: top;\n",
       "    }\n",
       "\n",
       "    .dataframe thead tr th {\n",
       "        text-align: left;\n",
       "    }\n",
       "\n",
       "    .dataframe thead tr:last-of-type th {\n",
       "        text-align: right;\n",
       "    }\n",
       "</style>\n",
       "<table border=\"1\" class=\"dataframe\">\n",
       "  <thead>\n",
       "    <tr>\n",
       "      <th></th>\n",
       "      <th>count</th>\n",
       "      <th>sum</th>\n",
       "      <th>%</th>\n",
       "    </tr>\n",
       "    <tr>\n",
       "      <th></th>\n",
       "      <th>debt</th>\n",
       "      <th>debt</th>\n",
       "      <th></th>\n",
       "    </tr>\n",
       "    <tr>\n",
       "      <th>total_income_category</th>\n",
       "      <th></th>\n",
       "      <th></th>\n",
       "      <th></th>\n",
       "    </tr>\n",
       "  </thead>\n",
       "  <tbody>\n",
       "    <tr>\n",
       "      <th>A</th>\n",
       "      <td>25</td>\n",
       "      <td>2</td>\n",
       "      <td>8.00</td>\n",
       "    </tr>\n",
       "    <tr>\n",
       "      <th>B</th>\n",
       "      <td>5014</td>\n",
       "      <td>354</td>\n",
       "      <td>7.06</td>\n",
       "    </tr>\n",
       "    <tr>\n",
       "      <th>C</th>\n",
       "      <td>15921</td>\n",
       "      <td>1353</td>\n",
       "      <td>8.50</td>\n",
       "    </tr>\n",
       "    <tr>\n",
       "      <th>D</th>\n",
       "      <td>349</td>\n",
       "      <td>21</td>\n",
       "      <td>6.02</td>\n",
       "    </tr>\n",
       "    <tr>\n",
       "      <th>E</th>\n",
       "      <td>22</td>\n",
       "      <td>2</td>\n",
       "      <td>9.09</td>\n",
       "    </tr>\n",
       "  </tbody>\n",
       "</table>\n",
       "</div>"
      ],
      "text/plain": [
       "                       count   sum     %\n",
       "                        debt  debt      \n",
       "total_income_category                   \n",
       "A                         25     2  8.00\n",
       "B                       5014   354  7.06\n",
       "C                      15921  1353  8.50\n",
       "D                        349    21  6.02\n",
       "E                         22     2  9.09"
      ]
     },
     "execution_count": 49,
     "metadata": {},
     "output_type": "execute_result"
    }
   ],
   "source": [
    "debt_and_income_pivot = debt_and_income.pivot_table(index='total_income_category', values='debt', aggfunc=['count', 'sum'])\n",
    "debt_and_income_pivot['%'] = round(debt_and_income_pivot['sum'] / debt_and_income_pivot['count'] * 100, 2)\n",
    "debt_and_income_pivot"
   ]
  },
  {
   "cell_type": "markdown",
   "id": "6dd14b57",
   "metadata": {
    "id": "6dd14b57"
   },
   "source": [
    "**Вывод:** \\\n",
    "Корректнее смотреть по показателям внутри групп по доходам.\n",
    "\n",
    "Наибольшее количество людей, имевших задолженность по возврату кредитов находится в категории С, однако стоит учесть и то, что в данной категории выдано наибольшее число кредитов.\n",
    "\n",
    "В более маленьких категориях A, E, D - число кредитов минимально. Но, как ни странно, принцип \"чем больше зарплата, тем больше вероятность выплаты кредита\" не работает. Это видно из диаграммы *\\\"Проценты \"проблемных\" клиентов к своим группам\"*. \\\n",
    "Наиболее надежной оказалась категория D. Худший показатель имеет группа E.\n",
    "Однако количества заемщиков нельзя назвать *\\\"сопоставимыми\"*, поэтому вывод корректным назвать нельзя - необходимо расширить выборку.\n",
    "\n",
    "Если сравнивать категории B и C (у них наибольшее число записей), то можно заключить: люди с большим доходом тщательно следят за своими финансами."
   ]
  },
  {
   "cell_type": "markdown",
   "id": "1dcc9b12",
   "metadata": {
    "id": "1dcc9b12"
   },
   "source": [
    "#### Как разные цели кредита влияют на его возврат в срок?"
   ]
  },
  {
   "cell_type": "code",
   "execution_count": 50,
   "id": "c602bc8b",
   "metadata": {
    "id": "c602bc8b"
   },
   "outputs": [
    {
     "data": {
      "text/plain": [
       "purpose_category          debt\n",
       "операции с автомобилем    0       3879\n",
       "                          1        400\n",
       "операции с недвижимостью  0       9971\n",
       "                          1        780\n",
       "получение образования     0       3619\n",
       "                          1        369\n",
       "проведение свадьбы        0       2130\n",
       "                          1        183\n",
       "Name: debt, dtype: int64"
      ]
     },
     "execution_count": 50,
     "metadata": {},
     "output_type": "execute_result"
    }
   ],
   "source": [
    "data_purpose = data.loc[:,['purpose_category', 'purpose', 'debt']]\n",
    "data_purpose.groupby('purpose_category')['debt'].value_counts() #числовые значения"
   ]
  },
  {
   "cell_type": "code",
   "execution_count": 51,
   "id": "a5ac764d",
   "metadata": {},
   "outputs": [
    {
     "data": {
      "image/png": "[encoded data removed]",
      "text/plain": [
       "<Figure size 640x480 with 1 Axes>"
      ]
     },
     "metadata": {},
     "output_type": "display_data"
    }
   ],
   "source": [
    "data_purpose.groupby('purpose_category')['debt'].count().plot.barh() # найдем наибольшее число операций\n",
    "\n",
    "plt.xlabel('Количество заемщиков')\n",
    "plt.ylabel('Причина')\n",
    "plt.title('Цели кредита');"
   ]
  },
  {
   "cell_type": "markdown",
   "id": "74684731",
   "metadata": {},
   "source": [
    "Чаще всего встречаются операции с недвижимостью."
   ]
  },
  {
   "cell_type": "code",
   "execution_count": 52,
   "id": "120b63fc",
   "metadata": {},
   "outputs": [
    {
     "data": {
      "image/png": "[encoded data removed]",
      "text/plain": [
       "<Figure size 640x480 with 1 Axes>"
      ]
     },
     "metadata": {},
     "output_type": "display_data"
    }
   ],
   "source": [
    "# Проценты \"проблемных\" клиентов в зависимости от целей\n",
    "(data_purpose.loc[data_purpose['debt'] != 0].groupby('purpose_category')['debt'].count() \n",
    " / data_purpose.groupby('purpose_category')['debt'].count() \n",
    " * 100).plot.barh()\n",
    "\n",
    "plt.xlabel('Процент заемщиков')\n",
    "plt.ylabel('Причина')\n",
    "plt.title('Проценты \"проблемных\" клиентов в зависимости от целей');"
   ]
  },
  {
   "cell_type": "code",
   "execution_count": 53,
   "id": "e088914f",
   "metadata": {},
   "outputs": [
    {
     "data": {
      "image/png": "[encoded data removed]",
      "text/plain": [
       "<Figure size 640x480 with 1 Axes>"
      ]
     },
     "metadata": {},
     "output_type": "display_data"
    }
   ],
   "source": [
    "# Проценты \"проблемных\" клиентов в зависимости от целей по отношению ко всем операциям\n",
    "(data_purpose.loc[data_purpose['debt'] != 0].groupby('purpose_category')['debt'].count() \n",
    " / data_purpose['debt'].count() \n",
    " * 100).plot.barh()\n",
    "\n",
    "plt.xlabel('Процент заемщиков')\n",
    "plt.ylabel('Причина')\n",
    "plt.title('Проценты \"проблемных\" клиентов в зависимости от целей по отношению ко всем операциям');"
   ]
  },
  {
   "cell_type": "code",
   "execution_count": 54,
   "id": "90db9233",
   "metadata": {},
   "outputs": [
    {
     "data": {
      "text/html": [
       "<div>\n",
       "<style scoped>\n",
       "    .dataframe tbody tr th:only-of-type {\n",
       "        vertical-align: middle;\n",
       "    }\n",
       "\n",
       "    .dataframe tbody tr th {\n",
       "        vertical-align: top;\n",
       "    }\n",
       "\n",
       "    .dataframe thead tr th {\n",
       "        text-align: left;\n",
       "    }\n",
       "\n",
       "    .dataframe thead tr:last-of-type th {\n",
       "        text-align: right;\n",
       "    }\n",
       "</style>\n",
       "<table border=\"1\" class=\"dataframe\">\n",
       "  <thead>\n",
       "    <tr>\n",
       "      <th></th>\n",
       "      <th>count</th>\n",
       "      <th>sum</th>\n",
       "      <th>%</th>\n",
       "    </tr>\n",
       "    <tr>\n",
       "      <th></th>\n",
       "      <th>debt</th>\n",
       "      <th>debt</th>\n",
       "      <th></th>\n",
       "    </tr>\n",
       "    <tr>\n",
       "      <th>purpose_category</th>\n",
       "      <th></th>\n",
       "      <th></th>\n",
       "      <th></th>\n",
       "    </tr>\n",
       "  </thead>\n",
       "  <tbody>\n",
       "    <tr>\n",
       "      <th>операции с автомобилем</th>\n",
       "      <td>4279</td>\n",
       "      <td>400</td>\n",
       "      <td>9.35</td>\n",
       "    </tr>\n",
       "    <tr>\n",
       "      <th>операции с недвижимостью</th>\n",
       "      <td>10751</td>\n",
       "      <td>780</td>\n",
       "      <td>7.26</td>\n",
       "    </tr>\n",
       "    <tr>\n",
       "      <th>получение образования</th>\n",
       "      <td>3988</td>\n",
       "      <td>369</td>\n",
       "      <td>9.25</td>\n",
       "    </tr>\n",
       "    <tr>\n",
       "      <th>проведение свадьбы</th>\n",
       "      <td>2313</td>\n",
       "      <td>183</td>\n",
       "      <td>7.91</td>\n",
       "    </tr>\n",
       "  </tbody>\n",
       "</table>\n",
       "</div>"
      ],
      "text/plain": [
       "                          count  sum     %\n",
       "                           debt debt      \n",
       "purpose_category                          \n",
       "операции с автомобилем     4279  400  9.35\n",
       "операции с недвижимостью  10751  780  7.26\n",
       "получение образования      3988  369  9.25\n",
       "проведение свадьбы         2313  183  7.91"
      ]
     },
     "execution_count": 54,
     "metadata": {},
     "output_type": "execute_result"
    }
   ],
   "source": [
    "data_purpose_pivot = data_purpose.pivot_table(index='purpose_category', values='debt', aggfunc=['count', 'sum'])\n",
    "data_purpose_pivot['%'] = round(data_purpose_pivot['sum'] / data_purpose_pivot['count'] * 100, 2)\n",
    "data_purpose_pivot"
   ]
  },
  {
   "cell_type": "markdown",
   "id": "cf05ed63",
   "metadata": {
    "id": "cf05ed63"
   },
   "source": [
    "**Вывод:** \\\n",
    "Наименьшее число кредитов выдано по категории *\\\"проведение свадьбы\"*, эта же категория имеет небольшой процент \"проблемных\" заёмщиков.\\\n",
    "Наиболее рискованными являются операции с автомобилями и получение образования.\\\n",
    "Более *стабильной* группой являются кредиты с целью *\\\"операции с недвижимостью\"*.\n"
   ]
  },
  {
   "cell_type": "markdown",
   "id": "46c1f10b",
   "metadata": {
    "id": "46c1f10b"
   },
   "source": [
    "#### Возможные причины появления пропусков в исходных данных."
   ]
  },
  {
   "cell_type": "markdown",
   "id": "3697d2a9",
   "metadata": {
    "id": "3697d2a9"
   },
   "source": [
    "Значения пропущены в одних и тех же столбцах: \"days_employed\"=стаж и \"total_income\"=ежемесячный доход в одинаковых строках. Можно сделать вывод: столбцы *стаж* и *доход* взаимосвсязаны. Эти данные могли быть упущены из-за непредоставления их банку.\n",
    "\n",
    "Также можно рассмотреть как ошибку выгрузки, либо ошибку при **заполнении данных**. Тип данных NaN - типа float, что также может указывать на автозаполнение или ошибку в выгрузке, ведь он подразумевает работу с этим значением **без вызова ошибок**."
   ]
  },
  {
   "cell_type": "code",
   "execution_count": 55,
   "id": "1974c692",
   "metadata": {
    "scrolled": true
   },
   "outputs": [
    {
     "data": {
      "text/html": [
       "<div>\n",
       "<style scoped>\n",
       "    .dataframe tbody tr th:only-of-type {\n",
       "        vertical-align: middle;\n",
       "    }\n",
       "\n",
       "    .dataframe tbody tr th {\n",
       "        vertical-align: top;\n",
       "    }\n",
       "\n",
       "    .dataframe thead th {\n",
       "        text-align: right;\n",
       "    }\n",
       "</style>\n",
       "<table border=\"1\" class=\"dataframe\">\n",
       "  <thead>\n",
       "    <tr style=\"text-align: right;\">\n",
       "      <th></th>\n",
       "      <th>children</th>\n",
       "      <th>days_employed</th>\n",
       "      <th>dob_years</th>\n",
       "      <th>education</th>\n",
       "      <th>education_id</th>\n",
       "      <th>family_status</th>\n",
       "      <th>family_status_id</th>\n",
       "      <th>gender</th>\n",
       "      <th>income_type</th>\n",
       "      <th>debt</th>\n",
       "      <th>total_income</th>\n",
       "      <th>purpose</th>\n",
       "    </tr>\n",
       "  </thead>\n",
       "  <tbody>\n",
       "    <tr>\n",
       "      <th>0</th>\n",
       "      <td>1</td>\n",
       "      <td>-8437.673028</td>\n",
       "      <td>42</td>\n",
       "      <td>высшее</td>\n",
       "      <td>0</td>\n",
       "      <td>женат / замужем</td>\n",
       "      <td>0</td>\n",
       "      <td>F</td>\n",
       "      <td>сотрудник</td>\n",
       "      <td>0</td>\n",
       "      <td>253875.639453</td>\n",
       "      <td>покупка жилья</td>\n",
       "    </tr>\n",
       "    <tr>\n",
       "      <th>1</th>\n",
       "      <td>1</td>\n",
       "      <td>-4024.803754</td>\n",
       "      <td>36</td>\n",
       "      <td>среднее</td>\n",
       "      <td>1</td>\n",
       "      <td>женат / замужем</td>\n",
       "      <td>0</td>\n",
       "      <td>F</td>\n",
       "      <td>сотрудник</td>\n",
       "      <td>0</td>\n",
       "      <td>112080.014102</td>\n",
       "      <td>приобретение автомобиля</td>\n",
       "    </tr>\n",
       "    <tr>\n",
       "      <th>2</th>\n",
       "      <td>0</td>\n",
       "      <td>-5623.422610</td>\n",
       "      <td>33</td>\n",
       "      <td>Среднее</td>\n",
       "      <td>1</td>\n",
       "      <td>женат / замужем</td>\n",
       "      <td>0</td>\n",
       "      <td>M</td>\n",
       "      <td>сотрудник</td>\n",
       "      <td>0</td>\n",
       "      <td>145885.952297</td>\n",
       "      <td>покупка жилья</td>\n",
       "    </tr>\n",
       "    <tr>\n",
       "      <th>3</th>\n",
       "      <td>3</td>\n",
       "      <td>-4124.747207</td>\n",
       "      <td>32</td>\n",
       "      <td>среднее</td>\n",
       "      <td>1</td>\n",
       "      <td>женат / замужем</td>\n",
       "      <td>0</td>\n",
       "      <td>M</td>\n",
       "      <td>сотрудник</td>\n",
       "      <td>0</td>\n",
       "      <td>267628.550329</td>\n",
       "      <td>дополнительное образование</td>\n",
       "    </tr>\n",
       "    <tr>\n",
       "      <th>4</th>\n",
       "      <td>0</td>\n",
       "      <td>340266.072047</td>\n",
       "      <td>53</td>\n",
       "      <td>среднее</td>\n",
       "      <td>1</td>\n",
       "      <td>гражданский брак</td>\n",
       "      <td>1</td>\n",
       "      <td>F</td>\n",
       "      <td>пенсионер</td>\n",
       "      <td>0</td>\n",
       "      <td>158616.077870</td>\n",
       "      <td>сыграть свадьбу</td>\n",
       "    </tr>\n",
       "    <tr>\n",
       "      <th>5</th>\n",
       "      <td>0</td>\n",
       "      <td>-926.185831</td>\n",
       "      <td>27</td>\n",
       "      <td>высшее</td>\n",
       "      <td>0</td>\n",
       "      <td>гражданский брак</td>\n",
       "      <td>1</td>\n",
       "      <td>M</td>\n",
       "      <td>компаньон</td>\n",
       "      <td>0</td>\n",
       "      <td>255763.565419</td>\n",
       "      <td>покупка жилья</td>\n",
       "    </tr>\n",
       "    <tr>\n",
       "      <th>6</th>\n",
       "      <td>0</td>\n",
       "      <td>-2879.202052</td>\n",
       "      <td>43</td>\n",
       "      <td>высшее</td>\n",
       "      <td>0</td>\n",
       "      <td>женат / замужем</td>\n",
       "      <td>0</td>\n",
       "      <td>F</td>\n",
       "      <td>компаньон</td>\n",
       "      <td>0</td>\n",
       "      <td>240525.971920</td>\n",
       "      <td>операции с жильем</td>\n",
       "    </tr>\n",
       "    <tr>\n",
       "      <th>7</th>\n",
       "      <td>0</td>\n",
       "      <td>-152.779569</td>\n",
       "      <td>50</td>\n",
       "      <td>СРЕДНЕЕ</td>\n",
       "      <td>1</td>\n",
       "      <td>женат / замужем</td>\n",
       "      <td>0</td>\n",
       "      <td>M</td>\n",
       "      <td>сотрудник</td>\n",
       "      <td>0</td>\n",
       "      <td>135823.934197</td>\n",
       "      <td>образование</td>\n",
       "    </tr>\n",
       "    <tr>\n",
       "      <th>8</th>\n",
       "      <td>2</td>\n",
       "      <td>-6929.865299</td>\n",
       "      <td>35</td>\n",
       "      <td>ВЫСШЕЕ</td>\n",
       "      <td>0</td>\n",
       "      <td>гражданский брак</td>\n",
       "      <td>1</td>\n",
       "      <td>F</td>\n",
       "      <td>сотрудник</td>\n",
       "      <td>0</td>\n",
       "      <td>95856.832424</td>\n",
       "      <td>на проведение свадьбы</td>\n",
       "    </tr>\n",
       "    <tr>\n",
       "      <th>9</th>\n",
       "      <td>0</td>\n",
       "      <td>-2188.756445</td>\n",
       "      <td>41</td>\n",
       "      <td>среднее</td>\n",
       "      <td>1</td>\n",
       "      <td>женат / замужем</td>\n",
       "      <td>0</td>\n",
       "      <td>M</td>\n",
       "      <td>сотрудник</td>\n",
       "      <td>0</td>\n",
       "      <td>144425.938277</td>\n",
       "      <td>покупка жилья для семьи</td>\n",
       "    </tr>\n",
       "    <tr>\n",
       "      <th>10</th>\n",
       "      <td>2</td>\n",
       "      <td>-4171.483647</td>\n",
       "      <td>36</td>\n",
       "      <td>высшее</td>\n",
       "      <td>0</td>\n",
       "      <td>женат / замужем</td>\n",
       "      <td>0</td>\n",
       "      <td>M</td>\n",
       "      <td>компаньон</td>\n",
       "      <td>0</td>\n",
       "      <td>113943.491460</td>\n",
       "      <td>покупка недвижимости</td>\n",
       "    </tr>\n",
       "    <tr>\n",
       "      <th>11</th>\n",
       "      <td>0</td>\n",
       "      <td>-792.701887</td>\n",
       "      <td>40</td>\n",
       "      <td>среднее</td>\n",
       "      <td>1</td>\n",
       "      <td>женат / замужем</td>\n",
       "      <td>0</td>\n",
       "      <td>F</td>\n",
       "      <td>сотрудник</td>\n",
       "      <td>0</td>\n",
       "      <td>77069.234271</td>\n",
       "      <td>покупка коммерческой недвижимости</td>\n",
       "    </tr>\n",
       "    <tr>\n",
       "      <th>12</th>\n",
       "      <td>0</td>\n",
       "      <td>NaN</td>\n",
       "      <td>65</td>\n",
       "      <td>среднее</td>\n",
       "      <td>1</td>\n",
       "      <td>гражданский брак</td>\n",
       "      <td>1</td>\n",
       "      <td>M</td>\n",
       "      <td>пенсионер</td>\n",
       "      <td>0</td>\n",
       "      <td>NaN</td>\n",
       "      <td>сыграть свадьбу</td>\n",
       "    </tr>\n",
       "    <tr>\n",
       "      <th>13</th>\n",
       "      <td>0</td>\n",
       "      <td>-1846.641941</td>\n",
       "      <td>54</td>\n",
       "      <td>неоконченное высшее</td>\n",
       "      <td>2</td>\n",
       "      <td>женат / замужем</td>\n",
       "      <td>0</td>\n",
       "      <td>F</td>\n",
       "      <td>сотрудник</td>\n",
       "      <td>0</td>\n",
       "      <td>130458.228857</td>\n",
       "      <td>приобретение автомобиля</td>\n",
       "    </tr>\n",
       "    <tr>\n",
       "      <th>14</th>\n",
       "      <td>0</td>\n",
       "      <td>-1844.956182</td>\n",
       "      <td>56</td>\n",
       "      <td>высшее</td>\n",
       "      <td>0</td>\n",
       "      <td>гражданский брак</td>\n",
       "      <td>1</td>\n",
       "      <td>F</td>\n",
       "      <td>компаньон</td>\n",
       "      <td>1</td>\n",
       "      <td>165127.911772</td>\n",
       "      <td>покупка жилой недвижимости</td>\n",
       "    </tr>\n",
       "    <tr>\n",
       "      <th>15</th>\n",
       "      <td>1</td>\n",
       "      <td>-972.364419</td>\n",
       "      <td>26</td>\n",
       "      <td>среднее</td>\n",
       "      <td>1</td>\n",
       "      <td>женат / замужем</td>\n",
       "      <td>0</td>\n",
       "      <td>F</td>\n",
       "      <td>сотрудник</td>\n",
       "      <td>0</td>\n",
       "      <td>116820.904450</td>\n",
       "      <td>строительство собственной недвижимости</td>\n",
       "    </tr>\n",
       "    <tr>\n",
       "      <th>16</th>\n",
       "      <td>0</td>\n",
       "      <td>-1719.934226</td>\n",
       "      <td>35</td>\n",
       "      <td>среднее</td>\n",
       "      <td>1</td>\n",
       "      <td>женат / замужем</td>\n",
       "      <td>0</td>\n",
       "      <td>F</td>\n",
       "      <td>сотрудник</td>\n",
       "      <td>0</td>\n",
       "      <td>289202.704229</td>\n",
       "      <td>недвижимость</td>\n",
       "    </tr>\n",
       "    <tr>\n",
       "      <th>17</th>\n",
       "      <td>0</td>\n",
       "      <td>-2369.999720</td>\n",
       "      <td>33</td>\n",
       "      <td>высшее</td>\n",
       "      <td>0</td>\n",
       "      <td>гражданский брак</td>\n",
       "      <td>1</td>\n",
       "      <td>M</td>\n",
       "      <td>сотрудник</td>\n",
       "      <td>0</td>\n",
       "      <td>90410.586745</td>\n",
       "      <td>строительство недвижимости</td>\n",
       "    </tr>\n",
       "    <tr>\n",
       "      <th>18</th>\n",
       "      <td>0</td>\n",
       "      <td>400281.136913</td>\n",
       "      <td>53</td>\n",
       "      <td>среднее</td>\n",
       "      <td>1</td>\n",
       "      <td>вдовец / вдова</td>\n",
       "      <td>2</td>\n",
       "      <td>F</td>\n",
       "      <td>пенсионер</td>\n",
       "      <td>0</td>\n",
       "      <td>56823.777243</td>\n",
       "      <td>на покупку подержанного автомобиля</td>\n",
       "    </tr>\n",
       "    <tr>\n",
       "      <th>19</th>\n",
       "      <td>0</td>\n",
       "      <td>-10038.818549</td>\n",
       "      <td>48</td>\n",
       "      <td>СРЕДНЕЕ</td>\n",
       "      <td>1</td>\n",
       "      <td>в разводе</td>\n",
       "      <td>3</td>\n",
       "      <td>F</td>\n",
       "      <td>сотрудник</td>\n",
       "      <td>0</td>\n",
       "      <td>242831.107982</td>\n",
       "      <td>на покупку своего автомобиля</td>\n",
       "    </tr>\n",
       "    <tr>\n",
       "      <th>20</th>\n",
       "      <td>1</td>\n",
       "      <td>-1311.604166</td>\n",
       "      <td>36</td>\n",
       "      <td>среднее</td>\n",
       "      <td>1</td>\n",
       "      <td>женат / замужем</td>\n",
       "      <td>0</td>\n",
       "      <td>M</td>\n",
       "      <td>сотрудник</td>\n",
       "      <td>0</td>\n",
       "      <td>209552.644578</td>\n",
       "      <td>недвижимость</td>\n",
       "    </tr>\n",
       "    <tr>\n",
       "      <th>21</th>\n",
       "      <td>1</td>\n",
       "      <td>-253.685166</td>\n",
       "      <td>33</td>\n",
       "      <td>среднее</td>\n",
       "      <td>1</td>\n",
       "      <td>гражданский брак</td>\n",
       "      <td>1</td>\n",
       "      <td>F</td>\n",
       "      <td>сотрудник</td>\n",
       "      <td>0</td>\n",
       "      <td>131812.203909</td>\n",
       "      <td>приобретение автомобиля</td>\n",
       "    </tr>\n",
       "    <tr>\n",
       "      <th>22</th>\n",
       "      <td>1</td>\n",
       "      <td>-1766.644138</td>\n",
       "      <td>24</td>\n",
       "      <td>среднее</td>\n",
       "      <td>1</td>\n",
       "      <td>гражданский брак</td>\n",
       "      <td>1</td>\n",
       "      <td>F</td>\n",
       "      <td>сотрудник</td>\n",
       "      <td>0</td>\n",
       "      <td>149681.140731</td>\n",
       "      <td>на покупку подержанного автомобиля</td>\n",
       "    </tr>\n",
       "    <tr>\n",
       "      <th>23</th>\n",
       "      <td>0</td>\n",
       "      <td>-272.981385</td>\n",
       "      <td>21</td>\n",
       "      <td>высшее</td>\n",
       "      <td>0</td>\n",
       "      <td>гражданский брак</td>\n",
       "      <td>1</td>\n",
       "      <td>M</td>\n",
       "      <td>сотрудник</td>\n",
       "      <td>0</td>\n",
       "      <td>128265.720871</td>\n",
       "      <td>сыграть свадьбу</td>\n",
       "    </tr>\n",
       "    <tr>\n",
       "      <th>24</th>\n",
       "      <td>1</td>\n",
       "      <td>338551.952911</td>\n",
       "      <td>57</td>\n",
       "      <td>среднее</td>\n",
       "      <td>1</td>\n",
       "      <td>Не женат / не замужем</td>\n",
       "      <td>4</td>\n",
       "      <td>F</td>\n",
       "      <td>пенсионер</td>\n",
       "      <td>0</td>\n",
       "      <td>290547.235997</td>\n",
       "      <td>операции с коммерческой недвижимостью</td>\n",
       "    </tr>\n",
       "    <tr>\n",
       "      <th>25</th>\n",
       "      <td>0</td>\n",
       "      <td>363548.489348</td>\n",
       "      <td>67</td>\n",
       "      <td>среднее</td>\n",
       "      <td>1</td>\n",
       "      <td>женат / замужем</td>\n",
       "      <td>0</td>\n",
       "      <td>M</td>\n",
       "      <td>пенсионер</td>\n",
       "      <td>0</td>\n",
       "      <td>55112.757732</td>\n",
       "      <td>покупка недвижимости</td>\n",
       "    </tr>\n",
       "    <tr>\n",
       "      <th>26</th>\n",
       "      <td>0</td>\n",
       "      <td>NaN</td>\n",
       "      <td>41</td>\n",
       "      <td>среднее</td>\n",
       "      <td>1</td>\n",
       "      <td>женат / замужем</td>\n",
       "      <td>0</td>\n",
       "      <td>M</td>\n",
       "      <td>госслужащий</td>\n",
       "      <td>0</td>\n",
       "      <td>NaN</td>\n",
       "      <td>образование</td>\n",
       "    </tr>\n",
       "    <tr>\n",
       "      <th>27</th>\n",
       "      <td>0</td>\n",
       "      <td>-529.191635</td>\n",
       "      <td>28</td>\n",
       "      <td>высшее</td>\n",
       "      <td>0</td>\n",
       "      <td>женат / замужем</td>\n",
       "      <td>0</td>\n",
       "      <td>M</td>\n",
       "      <td>сотрудник</td>\n",
       "      <td>0</td>\n",
       "      <td>308848.983691</td>\n",
       "      <td>строительство собственной недвижимости</td>\n",
       "    </tr>\n",
       "    <tr>\n",
       "      <th>28</th>\n",
       "      <td>1</td>\n",
       "      <td>-717.274324</td>\n",
       "      <td>26</td>\n",
       "      <td>высшее</td>\n",
       "      <td>0</td>\n",
       "      <td>женат / замужем</td>\n",
       "      <td>0</td>\n",
       "      <td>F</td>\n",
       "      <td>сотрудник</td>\n",
       "      <td>0</td>\n",
       "      <td>187863.237306</td>\n",
       "      <td>строительство собственной недвижимости</td>\n",
       "    </tr>\n",
       "    <tr>\n",
       "      <th>29</th>\n",
       "      <td>0</td>\n",
       "      <td>NaN</td>\n",
       "      <td>63</td>\n",
       "      <td>среднее</td>\n",
       "      <td>1</td>\n",
       "      <td>Не женат / не замужем</td>\n",
       "      <td>4</td>\n",
       "      <td>F</td>\n",
       "      <td>пенсионер</td>\n",
       "      <td>0</td>\n",
       "      <td>NaN</td>\n",
       "      <td>строительство жилой недвижимости</td>\n",
       "    </tr>\n",
       "    <tr>\n",
       "      <th>30</th>\n",
       "      <td>1</td>\n",
       "      <td>335581.668515</td>\n",
       "      <td>62</td>\n",
       "      <td>среднее</td>\n",
       "      <td>1</td>\n",
       "      <td>женат / замужем</td>\n",
       "      <td>0</td>\n",
       "      <td>F</td>\n",
       "      <td>пенсионер</td>\n",
       "      <td>0</td>\n",
       "      <td>171456.067993</td>\n",
       "      <td>операции с коммерческой недвижимостью</td>\n",
       "    </tr>\n",
       "    <tr>\n",
       "      <th>31</th>\n",
       "      <td>0</td>\n",
       "      <td>-1682.083438</td>\n",
       "      <td>47</td>\n",
       "      <td>начальное</td>\n",
       "      <td>3</td>\n",
       "      <td>женат / замужем</td>\n",
       "      <td>0</td>\n",
       "      <td>F</td>\n",
       "      <td>сотрудник</td>\n",
       "      <td>0</td>\n",
       "      <td>275485.684538</td>\n",
       "      <td>жилье</td>\n",
       "    </tr>\n",
       "    <tr>\n",
       "      <th>32</th>\n",
       "      <td>0</td>\n",
       "      <td>-4649.910832</td>\n",
       "      <td>34</td>\n",
       "      <td>СРЕДНЕЕ</td>\n",
       "      <td>1</td>\n",
       "      <td>гражданский брак</td>\n",
       "      <td>1</td>\n",
       "      <td>F</td>\n",
       "      <td>сотрудник</td>\n",
       "      <td>1</td>\n",
       "      <td>139057.464207</td>\n",
       "      <td>на проведение свадьбы</td>\n",
       "    </tr>\n",
       "    <tr>\n",
       "      <th>33</th>\n",
       "      <td>0</td>\n",
       "      <td>-1548.637544</td>\n",
       "      <td>48</td>\n",
       "      <td>среднее</td>\n",
       "      <td>1</td>\n",
       "      <td>женат / замужем</td>\n",
       "      <td>0</td>\n",
       "      <td>F</td>\n",
       "      <td>компаньон</td>\n",
       "      <td>0</td>\n",
       "      <td>157245.786233</td>\n",
       "      <td>покупка жилья</td>\n",
       "    </tr>\n",
       "    <tr>\n",
       "      <th>34</th>\n",
       "      <td>0</td>\n",
       "      <td>-4488.067031</td>\n",
       "      <td>35</td>\n",
       "      <td>среднее</td>\n",
       "      <td>1</td>\n",
       "      <td>женат / замужем</td>\n",
       "      <td>0</td>\n",
       "      <td>F</td>\n",
       "      <td>сотрудник</td>\n",
       "      <td>0</td>\n",
       "      <td>104660.449203</td>\n",
       "      <td>операции со своей недвижимостью</td>\n",
       "    </tr>\n",
       "    <tr>\n",
       "      <th>35</th>\n",
       "      <td>0</td>\n",
       "      <td>394021.072184</td>\n",
       "      <td>68</td>\n",
       "      <td>среднее</td>\n",
       "      <td>1</td>\n",
       "      <td>гражданский брак</td>\n",
       "      <td>1</td>\n",
       "      <td>M</td>\n",
       "      <td>пенсионер</td>\n",
       "      <td>0</td>\n",
       "      <td>77805.677436</td>\n",
       "      <td>на проведение свадьбы</td>\n",
       "    </tr>\n",
       "    <tr>\n",
       "      <th>36</th>\n",
       "      <td>0</td>\n",
       "      <td>-176.216688</td>\n",
       "      <td>33</td>\n",
       "      <td>среднее</td>\n",
       "      <td>1</td>\n",
       "      <td>Не женат / не замужем</td>\n",
       "      <td>4</td>\n",
       "      <td>M</td>\n",
       "      <td>сотрудник</td>\n",
       "      <td>0</td>\n",
       "      <td>138830.650734</td>\n",
       "      <td>автомобили</td>\n",
       "    </tr>\n",
       "    <tr>\n",
       "      <th>37</th>\n",
       "      <td>0</td>\n",
       "      <td>-6448.810860</td>\n",
       "      <td>43</td>\n",
       "      <td>ВЫСШЕЕ</td>\n",
       "      <td>0</td>\n",
       "      <td>гражданский брак</td>\n",
       "      <td>1</td>\n",
       "      <td>F</td>\n",
       "      <td>компаньон</td>\n",
       "      <td>0</td>\n",
       "      <td>154128.878672</td>\n",
       "      <td>приобретение автомобиля</td>\n",
       "    </tr>\n",
       "    <tr>\n",
       "      <th>38</th>\n",
       "      <td>0</td>\n",
       "      <td>-597.881827</td>\n",
       "      <td>25</td>\n",
       "      <td>высшее</td>\n",
       "      <td>0</td>\n",
       "      <td>Не женат / не замужем</td>\n",
       "      <td>4</td>\n",
       "      <td>M</td>\n",
       "      <td>сотрудник</td>\n",
       "      <td>1</td>\n",
       "      <td>192247.298639</td>\n",
       "      <td>образование</td>\n",
       "    </tr>\n",
       "    <tr>\n",
       "      <th>39</th>\n",
       "      <td>0</td>\n",
       "      <td>-650.587796</td>\n",
       "      <td>31</td>\n",
       "      <td>высшее</td>\n",
       "      <td>0</td>\n",
       "      <td>гражданский брак</td>\n",
       "      <td>1</td>\n",
       "      <td>F</td>\n",
       "      <td>компаньон</td>\n",
       "      <td>0</td>\n",
       "      <td>754240.797248</td>\n",
       "      <td>заняться образованием</td>\n",
       "    </tr>\n",
       "  </tbody>\n",
       "</table>\n",
       "</div>"
      ],
      "text/plain": [
       "    children  days_employed  dob_years            education  education_id  \\\n",
       "0          1   -8437.673028         42               высшее             0   \n",
       "1          1   -4024.803754         36              среднее             1   \n",
       "2          0   -5623.422610         33              Среднее             1   \n",
       "3          3   -4124.747207         32              среднее             1   \n",
       "4          0  340266.072047         53              среднее             1   \n",
       "5          0    -926.185831         27               высшее             0   \n",
       "6          0   -2879.202052         43               высшее             0   \n",
       "7          0    -152.779569         50              СРЕДНЕЕ             1   \n",
       "8          2   -6929.865299         35               ВЫСШЕЕ             0   \n",
       "9          0   -2188.756445         41              среднее             1   \n",
       "10         2   -4171.483647         36               высшее             0   \n",
       "11         0    -792.701887         40              среднее             1   \n",
       "12         0            NaN         65              среднее             1   \n",
       "13         0   -1846.641941         54  неоконченное высшее             2   \n",
       "14         0   -1844.956182         56               высшее             0   \n",
       "15         1    -972.364419         26              среднее             1   \n",
       "16         0   -1719.934226         35              среднее             1   \n",
       "17         0   -2369.999720         33               высшее             0   \n",
       "18         0  400281.136913         53              среднее             1   \n",
       "19         0  -10038.818549         48              СРЕДНЕЕ             1   \n",
       "20         1   -1311.604166         36              среднее             1   \n",
       "21         1    -253.685166         33              среднее             1   \n",
       "22         1   -1766.644138         24              среднее             1   \n",
       "23         0    -272.981385         21               высшее             0   \n",
       "24         1  338551.952911         57              среднее             1   \n",
       "25         0  363548.489348         67              среднее             1   \n",
       "26         0            NaN         41              среднее             1   \n",
       "27         0    -529.191635         28               высшее             0   \n",
       "28         1    -717.274324         26               высшее             0   \n",
       "29         0            NaN         63              среднее             1   \n",
       "30         1  335581.668515         62              среднее             1   \n",
       "31         0   -1682.083438         47            начальное             3   \n",
       "32         0   -4649.910832         34              СРЕДНЕЕ             1   \n",
       "33         0   -1548.637544         48              среднее             1   \n",
       "34         0   -4488.067031         35              среднее             1   \n",
       "35         0  394021.072184         68              среднее             1   \n",
       "36         0    -176.216688         33              среднее             1   \n",
       "37         0   -6448.810860         43               ВЫСШЕЕ             0   \n",
       "38         0    -597.881827         25               высшее             0   \n",
       "39         0    -650.587796         31               высшее             0   \n",
       "\n",
       "            family_status  family_status_id gender  income_type  debt  \\\n",
       "0         женат / замужем                 0      F    сотрудник     0   \n",
       "1         женат / замужем                 0      F    сотрудник     0   \n",
       "2         женат / замужем                 0      M    сотрудник     0   \n",
       "3         женат / замужем                 0      M    сотрудник     0   \n",
       "4        гражданский брак                 1      F    пенсионер     0   \n",
       "5        гражданский брак                 1      M    компаньон     0   \n",
       "6         женат / замужем                 0      F    компаньон     0   \n",
       "7         женат / замужем                 0      M    сотрудник     0   \n",
       "8        гражданский брак                 1      F    сотрудник     0   \n",
       "9         женат / замужем                 0      M    сотрудник     0   \n",
       "10        женат / замужем                 0      M    компаньон     0   \n",
       "11        женат / замужем                 0      F    сотрудник     0   \n",
       "12       гражданский брак                 1      M    пенсионер     0   \n",
       "13        женат / замужем                 0      F    сотрудник     0   \n",
       "14       гражданский брак                 1      F    компаньон     1   \n",
       "15        женат / замужем                 0      F    сотрудник     0   \n",
       "16        женат / замужем                 0      F    сотрудник     0   \n",
       "17       гражданский брак                 1      M    сотрудник     0   \n",
       "18         вдовец / вдова                 2      F    пенсионер     0   \n",
       "19              в разводе                 3      F    сотрудник     0   \n",
       "20        женат / замужем                 0      M    сотрудник     0   \n",
       "21       гражданский брак                 1      F    сотрудник     0   \n",
       "22       гражданский брак                 1      F    сотрудник     0   \n",
       "23       гражданский брак                 1      M    сотрудник     0   \n",
       "24  Не женат / не замужем                 4      F    пенсионер     0   \n",
       "25        женат / замужем                 0      M    пенсионер     0   \n",
       "26        женат / замужем                 0      M  госслужащий     0   \n",
       "27        женат / замужем                 0      M    сотрудник     0   \n",
       "28        женат / замужем                 0      F    сотрудник     0   \n",
       "29  Не женат / не замужем                 4      F    пенсионер     0   \n",
       "30        женат / замужем                 0      F    пенсионер     0   \n",
       "31        женат / замужем                 0      F    сотрудник     0   \n",
       "32       гражданский брак                 1      F    сотрудник     1   \n",
       "33        женат / замужем                 0      F    компаньон     0   \n",
       "34        женат / замужем                 0      F    сотрудник     0   \n",
       "35       гражданский брак                 1      M    пенсионер     0   \n",
       "36  Не женат / не замужем                 4      M    сотрудник     0   \n",
       "37       гражданский брак                 1      F    компаньон     0   \n",
       "38  Не женат / не замужем                 4      M    сотрудник     1   \n",
       "39       гражданский брак                 1      F    компаньон     0   \n",
       "\n",
       "     total_income                                 purpose  \n",
       "0   253875.639453                           покупка жилья  \n",
       "1   112080.014102                 приобретение автомобиля  \n",
       "2   145885.952297                           покупка жилья  \n",
       "3   267628.550329              дополнительное образование  \n",
       "4   158616.077870                         сыграть свадьбу  \n",
       "5   255763.565419                           покупка жилья  \n",
       "6   240525.971920                       операции с жильем  \n",
       "7   135823.934197                             образование  \n",
       "8    95856.832424                   на проведение свадьбы  \n",
       "9   144425.938277                 покупка жилья для семьи  \n",
       "10  113943.491460                    покупка недвижимости  \n",
       "11   77069.234271       покупка коммерческой недвижимости  \n",
       "12            NaN                         сыграть свадьбу  \n",
       "13  130458.228857                 приобретение автомобиля  \n",
       "14  165127.911772              покупка жилой недвижимости  \n",
       "15  116820.904450  строительство собственной недвижимости  \n",
       "16  289202.704229                            недвижимость  \n",
       "17   90410.586745              строительство недвижимости  \n",
       "18   56823.777243      на покупку подержанного автомобиля  \n",
       "19  242831.107982            на покупку своего автомобиля  \n",
       "20  209552.644578                            недвижимость  \n",
       "21  131812.203909                 приобретение автомобиля  \n",
       "22  149681.140731      на покупку подержанного автомобиля  \n",
       "23  128265.720871                         сыграть свадьбу  \n",
       "24  290547.235997   операции с коммерческой недвижимостью  \n",
       "25   55112.757732                    покупка недвижимости  \n",
       "26            NaN                             образование  \n",
       "27  308848.983691  строительство собственной недвижимости  \n",
       "28  187863.237306  строительство собственной недвижимости  \n",
       "29            NaN        строительство жилой недвижимости  \n",
       "30  171456.067993   операции с коммерческой недвижимостью  \n",
       "31  275485.684538                                   жилье  \n",
       "32  139057.464207                   на проведение свадьбы  \n",
       "33  157245.786233                           покупка жилья  \n",
       "34  104660.449203         операции со своей недвижимостью  \n",
       "35   77805.677436                   на проведение свадьбы  \n",
       "36  138830.650734                              автомобили  \n",
       "37  154128.878672                 приобретение автомобиля  \n",
       "38  192247.298639                             образование  \n",
       "39  754240.797248                   заняться образованием  "
      ]
     },
     "execution_count": 55,
     "metadata": {},
     "output_type": "execute_result"
    }
   ],
   "source": [
    "data_old.head(40)"
   ]
  },
  {
   "cell_type": "code",
   "execution_count": 56,
   "id": "86711914",
   "metadata": {},
   "outputs": [
    {
     "data": {
      "text/plain": [
       "children               0\n",
       "days_employed       2174\n",
       "dob_years              0\n",
       "education              0\n",
       "education_id           0\n",
       "family_status          0\n",
       "family_status_id       0\n",
       "gender                 0\n",
       "income_type            0\n",
       "debt                   0\n",
       "total_income        2174\n",
       "purpose                0\n",
       "dtype: int64"
      ]
     },
     "execution_count": 56,
     "metadata": {},
     "output_type": "execute_result"
    }
   ],
   "source": [
    "# Количество пропусков в столбцах\n",
    "data_old.isna().sum() # метод .copy создает независимый дубликат"
   ]
  },
  {
   "cell_type": "code",
   "execution_count": 57,
   "id": "1375ba17",
   "metadata": {},
   "outputs": [
    {
     "data": {
      "text/plain": [
       "54"
      ]
     },
     "execution_count": 57,
     "metadata": {},
     "output_type": "execute_result"
    }
   ],
   "source": [
    "# Количество \"клонов\"\n",
    "data_old.duplicated().sum()"
   ]
  },
  {
   "cell_type": "markdown",
   "id": "737ebafd",
   "metadata": {},
   "source": [
    "Количество двойников и количество строк не совпадают, значит предположение о взаимосвязи значений в строках в выгрузке ошибочно."
   ]
  },
  {
   "cell_type": "code",
   "execution_count": 58,
   "id": "e70fac27",
   "metadata": {
    "scrolled": true
   },
   "outputs": [
    {
     "data": {
      "text/html": [
       "<div>\n",
       "<style scoped>\n",
       "    .dataframe tbody tr th:only-of-type {\n",
       "        vertical-align: middle;\n",
       "    }\n",
       "\n",
       "    .dataframe tbody tr th {\n",
       "        vertical-align: top;\n",
       "    }\n",
       "\n",
       "    .dataframe thead th {\n",
       "        text-align: right;\n",
       "    }\n",
       "</style>\n",
       "<table border=\"1\" class=\"dataframe\">\n",
       "  <thead>\n",
       "    <tr style=\"text-align: right;\">\n",
       "      <th></th>\n",
       "      <th>children</th>\n",
       "      <th>days_employed</th>\n",
       "      <th>dob_years</th>\n",
       "      <th>education</th>\n",
       "      <th>education_id</th>\n",
       "      <th>family_status</th>\n",
       "      <th>family_status_id</th>\n",
       "      <th>gender</th>\n",
       "      <th>income_type</th>\n",
       "      <th>debt</th>\n",
       "      <th>total_income</th>\n",
       "      <th>purpose</th>\n",
       "    </tr>\n",
       "  </thead>\n",
       "  <tbody>\n",
       "    <tr>\n",
       "      <th>12</th>\n",
       "      <td>0</td>\n",
       "      <td>NaN</td>\n",
       "      <td>65</td>\n",
       "      <td>среднее</td>\n",
       "      <td>1</td>\n",
       "      <td>гражданский брак</td>\n",
       "      <td>1</td>\n",
       "      <td>M</td>\n",
       "      <td>пенсионер</td>\n",
       "      <td>0</td>\n",
       "      <td>NaN</td>\n",
       "      <td>сыграть свадьбу</td>\n",
       "    </tr>\n",
       "    <tr>\n",
       "      <th>26</th>\n",
       "      <td>0</td>\n",
       "      <td>NaN</td>\n",
       "      <td>41</td>\n",
       "      <td>среднее</td>\n",
       "      <td>1</td>\n",
       "      <td>женат / замужем</td>\n",
       "      <td>0</td>\n",
       "      <td>M</td>\n",
       "      <td>госслужащий</td>\n",
       "      <td>0</td>\n",
       "      <td>NaN</td>\n",
       "      <td>образование</td>\n",
       "    </tr>\n",
       "    <tr>\n",
       "      <th>29</th>\n",
       "      <td>0</td>\n",
       "      <td>NaN</td>\n",
       "      <td>63</td>\n",
       "      <td>среднее</td>\n",
       "      <td>1</td>\n",
       "      <td>Не женат / не замужем</td>\n",
       "      <td>4</td>\n",
       "      <td>F</td>\n",
       "      <td>пенсионер</td>\n",
       "      <td>0</td>\n",
       "      <td>NaN</td>\n",
       "      <td>строительство жилой недвижимости</td>\n",
       "    </tr>\n",
       "    <tr>\n",
       "      <th>41</th>\n",
       "      <td>0</td>\n",
       "      <td>NaN</td>\n",
       "      <td>50</td>\n",
       "      <td>среднее</td>\n",
       "      <td>1</td>\n",
       "      <td>женат / замужем</td>\n",
       "      <td>0</td>\n",
       "      <td>F</td>\n",
       "      <td>госслужащий</td>\n",
       "      <td>0</td>\n",
       "      <td>NaN</td>\n",
       "      <td>сделка с подержанным автомобилем</td>\n",
       "    </tr>\n",
       "    <tr>\n",
       "      <th>55</th>\n",
       "      <td>0</td>\n",
       "      <td>NaN</td>\n",
       "      <td>54</td>\n",
       "      <td>среднее</td>\n",
       "      <td>1</td>\n",
       "      <td>гражданский брак</td>\n",
       "      <td>1</td>\n",
       "      <td>F</td>\n",
       "      <td>пенсионер</td>\n",
       "      <td>1</td>\n",
       "      <td>NaN</td>\n",
       "      <td>сыграть свадьбу</td>\n",
       "    </tr>\n",
       "    <tr>\n",
       "      <th>65</th>\n",
       "      <td>0</td>\n",
       "      <td>NaN</td>\n",
       "      <td>21</td>\n",
       "      <td>среднее</td>\n",
       "      <td>1</td>\n",
       "      <td>Не женат / не замужем</td>\n",
       "      <td>4</td>\n",
       "      <td>M</td>\n",
       "      <td>компаньон</td>\n",
       "      <td>0</td>\n",
       "      <td>NaN</td>\n",
       "      <td>операции с коммерческой недвижимостью</td>\n",
       "    </tr>\n",
       "    <tr>\n",
       "      <th>67</th>\n",
       "      <td>0</td>\n",
       "      <td>NaN</td>\n",
       "      <td>52</td>\n",
       "      <td>высшее</td>\n",
       "      <td>0</td>\n",
       "      <td>женат / замужем</td>\n",
       "      <td>0</td>\n",
       "      <td>F</td>\n",
       "      <td>пенсионер</td>\n",
       "      <td>0</td>\n",
       "      <td>NaN</td>\n",
       "      <td>покупка жилья для семьи</td>\n",
       "    </tr>\n",
       "    <tr>\n",
       "      <th>72</th>\n",
       "      <td>1</td>\n",
       "      <td>NaN</td>\n",
       "      <td>32</td>\n",
       "      <td>высшее</td>\n",
       "      <td>0</td>\n",
       "      <td>женат / замужем</td>\n",
       "      <td>0</td>\n",
       "      <td>M</td>\n",
       "      <td>госслужащий</td>\n",
       "      <td>0</td>\n",
       "      <td>NaN</td>\n",
       "      <td>операции с коммерческой недвижимостью</td>\n",
       "    </tr>\n",
       "    <tr>\n",
       "      <th>82</th>\n",
       "      <td>2</td>\n",
       "      <td>NaN</td>\n",
       "      <td>50</td>\n",
       "      <td>высшее</td>\n",
       "      <td>0</td>\n",
       "      <td>женат / замужем</td>\n",
       "      <td>0</td>\n",
       "      <td>F</td>\n",
       "      <td>сотрудник</td>\n",
       "      <td>0</td>\n",
       "      <td>NaN</td>\n",
       "      <td>жилье</td>\n",
       "    </tr>\n",
       "    <tr>\n",
       "      <th>83</th>\n",
       "      <td>0</td>\n",
       "      <td>NaN</td>\n",
       "      <td>52</td>\n",
       "      <td>среднее</td>\n",
       "      <td>1</td>\n",
       "      <td>женат / замужем</td>\n",
       "      <td>0</td>\n",
       "      <td>M</td>\n",
       "      <td>сотрудник</td>\n",
       "      <td>0</td>\n",
       "      <td>NaN</td>\n",
       "      <td>жилье</td>\n",
       "    </tr>\n",
       "    <tr>\n",
       "      <th>90</th>\n",
       "      <td>2</td>\n",
       "      <td>NaN</td>\n",
       "      <td>35</td>\n",
       "      <td>высшее</td>\n",
       "      <td>0</td>\n",
       "      <td>женат / замужем</td>\n",
       "      <td>0</td>\n",
       "      <td>F</td>\n",
       "      <td>сотрудник</td>\n",
       "      <td>0</td>\n",
       "      <td>NaN</td>\n",
       "      <td>операции с жильем</td>\n",
       "    </tr>\n",
       "    <tr>\n",
       "      <th>94</th>\n",
       "      <td>1</td>\n",
       "      <td>NaN</td>\n",
       "      <td>34</td>\n",
       "      <td>высшее</td>\n",
       "      <td>0</td>\n",
       "      <td>гражданский брак</td>\n",
       "      <td>1</td>\n",
       "      <td>F</td>\n",
       "      <td>компаньон</td>\n",
       "      <td>0</td>\n",
       "      <td>NaN</td>\n",
       "      <td>на проведение свадьбы</td>\n",
       "    </tr>\n",
       "    <tr>\n",
       "      <th>96</th>\n",
       "      <td>0</td>\n",
       "      <td>NaN</td>\n",
       "      <td>44</td>\n",
       "      <td>СРЕДНЕЕ</td>\n",
       "      <td>1</td>\n",
       "      <td>женат / замужем</td>\n",
       "      <td>0</td>\n",
       "      <td>F</td>\n",
       "      <td>сотрудник</td>\n",
       "      <td>0</td>\n",
       "      <td>NaN</td>\n",
       "      <td>покупка жилой недвижимости</td>\n",
       "    </tr>\n",
       "    <tr>\n",
       "      <th>97</th>\n",
       "      <td>0</td>\n",
       "      <td>NaN</td>\n",
       "      <td>47</td>\n",
       "      <td>высшее</td>\n",
       "      <td>0</td>\n",
       "      <td>женат / замужем</td>\n",
       "      <td>0</td>\n",
       "      <td>F</td>\n",
       "      <td>сотрудник</td>\n",
       "      <td>0</td>\n",
       "      <td>NaN</td>\n",
       "      <td>профильное образование</td>\n",
       "    </tr>\n",
       "    <tr>\n",
       "      <th>120</th>\n",
       "      <td>0</td>\n",
       "      <td>NaN</td>\n",
       "      <td>46</td>\n",
       "      <td>среднее</td>\n",
       "      <td>1</td>\n",
       "      <td>женат / замужем</td>\n",
       "      <td>0</td>\n",
       "      <td>F</td>\n",
       "      <td>сотрудник</td>\n",
       "      <td>0</td>\n",
       "      <td>NaN</td>\n",
       "      <td>высшее образование</td>\n",
       "    </tr>\n",
       "    <tr>\n",
       "      <th>121</th>\n",
       "      <td>0</td>\n",
       "      <td>NaN</td>\n",
       "      <td>29</td>\n",
       "      <td>высшее</td>\n",
       "      <td>0</td>\n",
       "      <td>женат / замужем</td>\n",
       "      <td>0</td>\n",
       "      <td>F</td>\n",
       "      <td>компаньон</td>\n",
       "      <td>0</td>\n",
       "      <td>NaN</td>\n",
       "      <td>автомобиль</td>\n",
       "    </tr>\n",
       "    <tr>\n",
       "      <th>135</th>\n",
       "      <td>0</td>\n",
       "      <td>NaN</td>\n",
       "      <td>27</td>\n",
       "      <td>среднее</td>\n",
       "      <td>1</td>\n",
       "      <td>женат / замужем</td>\n",
       "      <td>0</td>\n",
       "      <td>M</td>\n",
       "      <td>компаньон</td>\n",
       "      <td>0</td>\n",
       "      <td>NaN</td>\n",
       "      <td>жилье</td>\n",
       "    </tr>\n",
       "    <tr>\n",
       "      <th>141</th>\n",
       "      <td>0</td>\n",
       "      <td>NaN</td>\n",
       "      <td>39</td>\n",
       "      <td>среднее</td>\n",
       "      <td>1</td>\n",
       "      <td>гражданский брак</td>\n",
       "      <td>1</td>\n",
       "      <td>M</td>\n",
       "      <td>сотрудник</td>\n",
       "      <td>0</td>\n",
       "      <td>NaN</td>\n",
       "      <td>свадьба</td>\n",
       "    </tr>\n",
       "    <tr>\n",
       "      <th>145</th>\n",
       "      <td>0</td>\n",
       "      <td>NaN</td>\n",
       "      <td>62</td>\n",
       "      <td>среднее</td>\n",
       "      <td>1</td>\n",
       "      <td>женат / замужем</td>\n",
       "      <td>0</td>\n",
       "      <td>M</td>\n",
       "      <td>пенсионер</td>\n",
       "      <td>0</td>\n",
       "      <td>NaN</td>\n",
       "      <td>строительство недвижимости</td>\n",
       "    </tr>\n",
       "    <tr>\n",
       "      <th>174</th>\n",
       "      <td>0</td>\n",
       "      <td>NaN</td>\n",
       "      <td>55</td>\n",
       "      <td>высшее</td>\n",
       "      <td>0</td>\n",
       "      <td>вдовец / вдова</td>\n",
       "      <td>2</td>\n",
       "      <td>F</td>\n",
       "      <td>компаньон</td>\n",
       "      <td>0</td>\n",
       "      <td>NaN</td>\n",
       "      <td>свой автомобиль</td>\n",
       "    </tr>\n",
       "    <tr>\n",
       "      <th>181</th>\n",
       "      <td>0</td>\n",
       "      <td>NaN</td>\n",
       "      <td>26</td>\n",
       "      <td>среднее</td>\n",
       "      <td>1</td>\n",
       "      <td>гражданский брак</td>\n",
       "      <td>1</td>\n",
       "      <td>F</td>\n",
       "      <td>компаньон</td>\n",
       "      <td>1</td>\n",
       "      <td>NaN</td>\n",
       "      <td>покупка жилья для семьи</td>\n",
       "    </tr>\n",
       "    <tr>\n",
       "      <th>189</th>\n",
       "      <td>1</td>\n",
       "      <td>NaN</td>\n",
       "      <td>30</td>\n",
       "      <td>среднее</td>\n",
       "      <td>1</td>\n",
       "      <td>Не женат / не замужем</td>\n",
       "      <td>4</td>\n",
       "      <td>F</td>\n",
       "      <td>сотрудник</td>\n",
       "      <td>0</td>\n",
       "      <td>NaN</td>\n",
       "      <td>свой автомобиль</td>\n",
       "    </tr>\n",
       "    <tr>\n",
       "      <th>205</th>\n",
       "      <td>1</td>\n",
       "      <td>NaN</td>\n",
       "      <td>31</td>\n",
       "      <td>высшее</td>\n",
       "      <td>0</td>\n",
       "      <td>женат / замужем</td>\n",
       "      <td>0</td>\n",
       "      <td>F</td>\n",
       "      <td>сотрудник</td>\n",
       "      <td>0</td>\n",
       "      <td>NaN</td>\n",
       "      <td>на покупку подержанного автомобиля</td>\n",
       "    </tr>\n",
       "    <tr>\n",
       "      <th>220</th>\n",
       "      <td>1</td>\n",
       "      <td>NaN</td>\n",
       "      <td>23</td>\n",
       "      <td>неоконченное высшее</td>\n",
       "      <td>2</td>\n",
       "      <td>гражданский брак</td>\n",
       "      <td>1</td>\n",
       "      <td>F</td>\n",
       "      <td>компаньон</td>\n",
       "      <td>0</td>\n",
       "      <td>NaN</td>\n",
       "      <td>сыграть свадьбу</td>\n",
       "    </tr>\n",
       "    <tr>\n",
       "      <th>241</th>\n",
       "      <td>0</td>\n",
       "      <td>NaN</td>\n",
       "      <td>47</td>\n",
       "      <td>среднее</td>\n",
       "      <td>1</td>\n",
       "      <td>женат / замужем</td>\n",
       "      <td>0</td>\n",
       "      <td>M</td>\n",
       "      <td>сотрудник</td>\n",
       "      <td>0</td>\n",
       "      <td>NaN</td>\n",
       "      <td>строительство собственной недвижимости</td>\n",
       "    </tr>\n",
       "    <tr>\n",
       "      <th>242</th>\n",
       "      <td>0</td>\n",
       "      <td>NaN</td>\n",
       "      <td>58</td>\n",
       "      <td>среднее</td>\n",
       "      <td>1</td>\n",
       "      <td>женат / замужем</td>\n",
       "      <td>0</td>\n",
       "      <td>F</td>\n",
       "      <td>госслужащий</td>\n",
       "      <td>0</td>\n",
       "      <td>NaN</td>\n",
       "      <td>покупка своего жилья</td>\n",
       "    </tr>\n",
       "    <tr>\n",
       "      <th>247</th>\n",
       "      <td>1</td>\n",
       "      <td>NaN</td>\n",
       "      <td>60</td>\n",
       "      <td>высшее</td>\n",
       "      <td>0</td>\n",
       "      <td>женат / замужем</td>\n",
       "      <td>0</td>\n",
       "      <td>F</td>\n",
       "      <td>пенсионер</td>\n",
       "      <td>1</td>\n",
       "      <td>NaN</td>\n",
       "      <td>заняться высшим образованием</td>\n",
       "    </tr>\n",
       "    <tr>\n",
       "      <th>250</th>\n",
       "      <td>0</td>\n",
       "      <td>NaN</td>\n",
       "      <td>54</td>\n",
       "      <td>высшее</td>\n",
       "      <td>0</td>\n",
       "      <td>женат / замужем</td>\n",
       "      <td>0</td>\n",
       "      <td>F</td>\n",
       "      <td>сотрудник</td>\n",
       "      <td>0</td>\n",
       "      <td>NaN</td>\n",
       "      <td>сделка с подержанным автомобилем</td>\n",
       "    </tr>\n",
       "    <tr>\n",
       "      <th>264</th>\n",
       "      <td>2</td>\n",
       "      <td>NaN</td>\n",
       "      <td>40</td>\n",
       "      <td>среднее</td>\n",
       "      <td>1</td>\n",
       "      <td>в разводе</td>\n",
       "      <td>3</td>\n",
       "      <td>F</td>\n",
       "      <td>сотрудник</td>\n",
       "      <td>0</td>\n",
       "      <td>NaN</td>\n",
       "      <td>недвижимость</td>\n",
       "    </tr>\n",
       "    <tr>\n",
       "      <th>278</th>\n",
       "      <td>1</td>\n",
       "      <td>NaN</td>\n",
       "      <td>23</td>\n",
       "      <td>Среднее</td>\n",
       "      <td>1</td>\n",
       "      <td>гражданский брак</td>\n",
       "      <td>1</td>\n",
       "      <td>F</td>\n",
       "      <td>сотрудник</td>\n",
       "      <td>1</td>\n",
       "      <td>NaN</td>\n",
       "      <td>автомобиль</td>\n",
       "    </tr>\n",
       "    <tr>\n",
       "      <th>279</th>\n",
       "      <td>0</td>\n",
       "      <td>NaN</td>\n",
       "      <td>44</td>\n",
       "      <td>Среднее</td>\n",
       "      <td>1</td>\n",
       "      <td>гражданский брак</td>\n",
       "      <td>1</td>\n",
       "      <td>F</td>\n",
       "      <td>сотрудник</td>\n",
       "      <td>0</td>\n",
       "      <td>NaN</td>\n",
       "      <td>операции со своей недвижимостью</td>\n",
       "    </tr>\n",
       "    <tr>\n",
       "      <th>280</th>\n",
       "      <td>0</td>\n",
       "      <td>NaN</td>\n",
       "      <td>66</td>\n",
       "      <td>среднее</td>\n",
       "      <td>1</td>\n",
       "      <td>женат / замужем</td>\n",
       "      <td>0</td>\n",
       "      <td>F</td>\n",
       "      <td>пенсионер</td>\n",
       "      <td>0</td>\n",
       "      <td>NaN</td>\n",
       "      <td>операции с жильем</td>\n",
       "    </tr>\n",
       "    <tr>\n",
       "      <th>312</th>\n",
       "      <td>1</td>\n",
       "      <td>NaN</td>\n",
       "      <td>33</td>\n",
       "      <td>среднее</td>\n",
       "      <td>1</td>\n",
       "      <td>гражданский брак</td>\n",
       "      <td>1</td>\n",
       "      <td>M</td>\n",
       "      <td>сотрудник</td>\n",
       "      <td>1</td>\n",
       "      <td>NaN</td>\n",
       "      <td>покупка жилья для сдачи</td>\n",
       "    </tr>\n",
       "    <tr>\n",
       "      <th>317</th>\n",
       "      <td>0</td>\n",
       "      <td>NaN</td>\n",
       "      <td>21</td>\n",
       "      <td>высшее</td>\n",
       "      <td>0</td>\n",
       "      <td>Не женат / не замужем</td>\n",
       "      <td>4</td>\n",
       "      <td>M</td>\n",
       "      <td>сотрудник</td>\n",
       "      <td>0</td>\n",
       "      <td>NaN</td>\n",
       "      <td>сделка с автомобилем</td>\n",
       "    </tr>\n",
       "    <tr>\n",
       "      <th>320</th>\n",
       "      <td>0</td>\n",
       "      <td>NaN</td>\n",
       "      <td>63</td>\n",
       "      <td>среднее</td>\n",
       "      <td>1</td>\n",
       "      <td>вдовец / вдова</td>\n",
       "      <td>2</td>\n",
       "      <td>F</td>\n",
       "      <td>сотрудник</td>\n",
       "      <td>0</td>\n",
       "      <td>NaN</td>\n",
       "      <td>на покупку подержанного автомобиля</td>\n",
       "    </tr>\n",
       "    <tr>\n",
       "      <th>321</th>\n",
       "      <td>1</td>\n",
       "      <td>NaN</td>\n",
       "      <td>34</td>\n",
       "      <td>высшее</td>\n",
       "      <td>0</td>\n",
       "      <td>гражданский брак</td>\n",
       "      <td>1</td>\n",
       "      <td>M</td>\n",
       "      <td>компаньон</td>\n",
       "      <td>0</td>\n",
       "      <td>NaN</td>\n",
       "      <td>на проведение свадьбы</td>\n",
       "    </tr>\n",
       "    <tr>\n",
       "      <th>322</th>\n",
       "      <td>0</td>\n",
       "      <td>NaN</td>\n",
       "      <td>56</td>\n",
       "      <td>СРЕДНЕЕ</td>\n",
       "      <td>1</td>\n",
       "      <td>гражданский брак</td>\n",
       "      <td>1</td>\n",
       "      <td>F</td>\n",
       "      <td>пенсионер</td>\n",
       "      <td>1</td>\n",
       "      <td>NaN</td>\n",
       "      <td>сыграть свадьбу</td>\n",
       "    </tr>\n",
       "    <tr>\n",
       "      <th>328</th>\n",
       "      <td>0</td>\n",
       "      <td>NaN</td>\n",
       "      <td>69</td>\n",
       "      <td>среднее</td>\n",
       "      <td>1</td>\n",
       "      <td>вдовец / вдова</td>\n",
       "      <td>2</td>\n",
       "      <td>F</td>\n",
       "      <td>сотрудник</td>\n",
       "      <td>0</td>\n",
       "      <td>NaN</td>\n",
       "      <td>приобретение автомобиля</td>\n",
       "    </tr>\n",
       "    <tr>\n",
       "      <th>360</th>\n",
       "      <td>0</td>\n",
       "      <td>NaN</td>\n",
       "      <td>27</td>\n",
       "      <td>среднее</td>\n",
       "      <td>1</td>\n",
       "      <td>женат / замужем</td>\n",
       "      <td>0</td>\n",
       "      <td>M</td>\n",
       "      <td>компаньон</td>\n",
       "      <td>0</td>\n",
       "      <td>NaN</td>\n",
       "      <td>покупка жилья для сдачи</td>\n",
       "    </tr>\n",
       "    <tr>\n",
       "      <th>361</th>\n",
       "      <td>0</td>\n",
       "      <td>NaN</td>\n",
       "      <td>59</td>\n",
       "      <td>среднее</td>\n",
       "      <td>1</td>\n",
       "      <td>вдовец / вдова</td>\n",
       "      <td>2</td>\n",
       "      <td>F</td>\n",
       "      <td>пенсионер</td>\n",
       "      <td>0</td>\n",
       "      <td>NaN</td>\n",
       "      <td>жилье</td>\n",
       "    </tr>\n",
       "  </tbody>\n",
       "</table>\n",
       "</div>"
      ],
      "text/plain": [
       "     children  days_employed  dob_years            education  education_id  \\\n",
       "12          0            NaN         65              среднее             1   \n",
       "26          0            NaN         41              среднее             1   \n",
       "29          0            NaN         63              среднее             1   \n",
       "41          0            NaN         50              среднее             1   \n",
       "55          0            NaN         54              среднее             1   \n",
       "65          0            NaN         21              среднее             1   \n",
       "67          0            NaN         52               высшее             0   \n",
       "72          1            NaN         32               высшее             0   \n",
       "82          2            NaN         50               высшее             0   \n",
       "83          0            NaN         52              среднее             1   \n",
       "90          2            NaN         35               высшее             0   \n",
       "94          1            NaN         34               высшее             0   \n",
       "96          0            NaN         44              СРЕДНЕЕ             1   \n",
       "97          0            NaN         47               высшее             0   \n",
       "120         0            NaN         46              среднее             1   \n",
       "121         0            NaN         29               высшее             0   \n",
       "135         0            NaN         27              среднее             1   \n",
       "141         0            NaN         39              среднее             1   \n",
       "145         0            NaN         62              среднее             1   \n",
       "174         0            NaN         55               высшее             0   \n",
       "181         0            NaN         26              среднее             1   \n",
       "189         1            NaN         30              среднее             1   \n",
       "205         1            NaN         31               высшее             0   \n",
       "220         1            NaN         23  неоконченное высшее             2   \n",
       "241         0            NaN         47              среднее             1   \n",
       "242         0            NaN         58              среднее             1   \n",
       "247         1            NaN         60               высшее             0   \n",
       "250         0            NaN         54               высшее             0   \n",
       "264         2            NaN         40              среднее             1   \n",
       "278         1            NaN         23              Среднее             1   \n",
       "279         0            NaN         44              Среднее             1   \n",
       "280         0            NaN         66              среднее             1   \n",
       "312         1            NaN         33              среднее             1   \n",
       "317         0            NaN         21               высшее             0   \n",
       "320         0            NaN         63              среднее             1   \n",
       "321         1            NaN         34               высшее             0   \n",
       "322         0            NaN         56              СРЕДНЕЕ             1   \n",
       "328         0            NaN         69              среднее             1   \n",
       "360         0            NaN         27              среднее             1   \n",
       "361         0            NaN         59              среднее             1   \n",
       "\n",
       "             family_status  family_status_id gender  income_type  debt  \\\n",
       "12        гражданский брак                 1      M    пенсионер     0   \n",
       "26         женат / замужем                 0      M  госслужащий     0   \n",
       "29   Не женат / не замужем                 4      F    пенсионер     0   \n",
       "41         женат / замужем                 0      F  госслужащий     0   \n",
       "55        гражданский брак                 1      F    пенсионер     1   \n",
       "65   Не женат / не замужем                 4      M    компаньон     0   \n",
       "67         женат / замужем                 0      F    пенсионер     0   \n",
       "72         женат / замужем                 0      M  госслужащий     0   \n",
       "82         женат / замужем                 0      F    сотрудник     0   \n",
       "83         женат / замужем                 0      M    сотрудник     0   \n",
       "90         женат / замужем                 0      F    сотрудник     0   \n",
       "94        гражданский брак                 1      F    компаньон     0   \n",
       "96         женат / замужем                 0      F    сотрудник     0   \n",
       "97         женат / замужем                 0      F    сотрудник     0   \n",
       "120        женат / замужем                 0      F    сотрудник     0   \n",
       "121        женат / замужем                 0      F    компаньон     0   \n",
       "135        женат / замужем                 0      M    компаньон     0   \n",
       "141       гражданский брак                 1      M    сотрудник     0   \n",
       "145        женат / замужем                 0      M    пенсионер     0   \n",
       "174         вдовец / вдова                 2      F    компаньон     0   \n",
       "181       гражданский брак                 1      F    компаньон     1   \n",
       "189  Не женат / не замужем                 4      F    сотрудник     0   \n",
       "205        женат / замужем                 0      F    сотрудник     0   \n",
       "220       гражданский брак                 1      F    компаньон     0   \n",
       "241        женат / замужем                 0      M    сотрудник     0   \n",
       "242        женат / замужем                 0      F  госслужащий     0   \n",
       "247        женат / замужем                 0      F    пенсионер     1   \n",
       "250        женат / замужем                 0      F    сотрудник     0   \n",
       "264              в разводе                 3      F    сотрудник     0   \n",
       "278       гражданский брак                 1      F    сотрудник     1   \n",
       "279       гражданский брак                 1      F    сотрудник     0   \n",
       "280        женат / замужем                 0      F    пенсионер     0   \n",
       "312       гражданский брак                 1      M    сотрудник     1   \n",
       "317  Не женат / не замужем                 4      M    сотрудник     0   \n",
       "320         вдовец / вдова                 2      F    сотрудник     0   \n",
       "321       гражданский брак                 1      M    компаньон     0   \n",
       "322       гражданский брак                 1      F    пенсионер     1   \n",
       "328         вдовец / вдова                 2      F    сотрудник     0   \n",
       "360        женат / замужем                 0      M    компаньон     0   \n",
       "361         вдовец / вдова                 2      F    пенсионер     0   \n",
       "\n",
       "     total_income                                 purpose  \n",
       "12            NaN                         сыграть свадьбу  \n",
       "26            NaN                             образование  \n",
       "29            NaN        строительство жилой недвижимости  \n",
       "41            NaN        сделка с подержанным автомобилем  \n",
       "55            NaN                         сыграть свадьбу  \n",
       "65            NaN   операции с коммерческой недвижимостью  \n",
       "67            NaN                 покупка жилья для семьи  \n",
       "72            NaN   операции с коммерческой недвижимостью  \n",
       "82            NaN                                   жилье  \n",
       "83            NaN                                   жилье  \n",
       "90            NaN                       операции с жильем  \n",
       "94            NaN                   на проведение свадьбы  \n",
       "96            NaN              покупка жилой недвижимости  \n",
       "97            NaN                  профильное образование  \n",
       "120           NaN                      высшее образование  \n",
       "121           NaN                              автомобиль  \n",
       "135           NaN                                   жилье  \n",
       "141           NaN                                 свадьба  \n",
       "145           NaN              строительство недвижимости  \n",
       "174           NaN                         свой автомобиль  \n",
       "181           NaN                 покупка жилья для семьи  \n",
       "189           NaN                         свой автомобиль  \n",
       "205           NaN      на покупку подержанного автомобиля  \n",
       "220           NaN                         сыграть свадьбу  \n",
       "241           NaN  строительство собственной недвижимости  \n",
       "242           NaN                    покупка своего жилья  \n",
       "247           NaN            заняться высшим образованием  \n",
       "250           NaN        сделка с подержанным автомобилем  \n",
       "264           NaN                            недвижимость  \n",
       "278           NaN                              автомобиль  \n",
       "279           NaN         операции со своей недвижимостью  \n",
       "280           NaN                       операции с жильем  \n",
       "312           NaN                 покупка жилья для сдачи  \n",
       "317           NaN                    сделка с автомобилем  \n",
       "320           NaN      на покупку подержанного автомобиля  \n",
       "321           NaN                   на проведение свадьбы  \n",
       "322           NaN                         сыграть свадьбу  \n",
       "328           NaN                 приобретение автомобиля  \n",
       "360           NaN                 покупка жилья для сдачи  \n",
       "361           NaN                                   жилье  "
      ]
     },
     "execution_count": 58,
     "metadata": {},
     "output_type": "execute_result"
    }
   ],
   "source": [
    "data_old[data_old['days_employed'].isna()].head(40)"
   ]
  },
  {
   "cell_type": "code",
   "execution_count": 59,
   "id": "06d60d2b",
   "metadata": {},
   "outputs": [
    {
     "data": {
      "text/plain": [
       "education\n",
       "ВЫСШЕЕ                   23\n",
       "Высшее                   25\n",
       "НАЧАЛЬНОЕ                 1\n",
       "НЕОКОНЧЕННОЕ ВЫСШЕЕ       7\n",
       "Начальное                 1\n",
       "Неоконченное высшее       7\n",
       "СРЕДНЕЕ                  67\n",
       "Среднее                  65\n",
       "высшее                  496\n",
       "начальное                19\n",
       "неоконченное высшее      55\n",
       "среднее                1408\n",
       "Name: education, dtype: int64"
      ]
     },
     "execution_count": 59,
     "metadata": {},
     "output_type": "execute_result"
    }
   ],
   "source": [
    "# \"Образование\" в строках с пропусками\n",
    "data_old[data_old['days_employed'].isna()].groupby('education')['education'].count()"
   ]
  },
  {
   "cell_type": "code",
   "execution_count": 60,
   "id": "430d940d",
   "metadata": {
    "scrolled": false
   },
   "outputs": [
    {
     "data": {
      "image/png": "[encoded data removed]",
      "text/plain": [
       "<Figure size 640x480 with 1 Axes>"
      ]
     },
     "metadata": {},
     "output_type": "display_data"
    }
   ],
   "source": [
    "# Сравнение количества стажа при вводе со знаком \"-\" и без\n",
    "a = data_old.loc[data_old['days_employed'] < 0, 'days_employed'].count() / data_old.shape[0] * 100\n",
    "b = data_old.loc[data_old['days_employed'] == 0, 'days_employed'].count() / data_old.shape[0] * 100\n",
    "c = data_old.loc[data_old['days_employed'] > 0, 'days_employed'].count() / data_old.shape[0] * 100\n",
    "d = data_old['days_employed'].isna().sum() / data_old.shape[0] * 100\n",
    "\n",
    "sb.barplot(x=['<0', '=0', '>0', 'NaN'], y=[a, b, c, d])\n",
    "'В процентах:', a, b, c, d # вывод значений\n",
    "\n",
    "plt.ylabel('Проценты, %')\n",
    "plt.title('Сравнение стажа');"
   ]
  },
  {
   "cell_type": "markdown",
   "id": "07aa09b9",
   "metadata": {},
   "source": [
    "Пропуски составляют 10,1% от данных - достаточно много  "
   ]
  },
  {
   "cell_type": "markdown",
   "id": "3137d257",
   "metadata": {
    "id": "3137d257"
   },
   "source": [
    "#### Заполнение пропусков медианным значением - это лучшее решение для количественных переменных"
   ]
  },
  {
   "cell_type": "markdown",
   "id": "cf40012a",
   "metadata": {
    "id": "cf40012a"
   },
   "source": [
    "Если говорить о выборе между *медианой* и *средним значением*, то оптимальным будет выбор **медианы**, так как она **не зависит от *\\\"выбросов\"* в данных, не подвержена всплескам**. Однако в некоторых случаях лучше воспользоваться удалением или обнулением."
   ]
  },
  {
   "cell_type": "markdown",
   "id": "8581fd3a",
   "metadata": {},
   "source": [
    "Возможный кандидат на худшую роль"
   ]
  },
  {
   "cell_type": "code",
   "execution_count": 61,
   "id": "6d937246",
   "metadata": {
    "scrolled": true
   },
   "outputs": [
    {
     "name": "stdout",
     "output_type": "stream",
     "text": [
      "Согласно заданным параметрам найдено: 0 чел.\n"
     ]
    }
   ],
   "source": [
    "# Поиск по композитному портрету\n",
    "print('Согласно заданным параметрам найдено:',\n",
    "data.loc[(data['children'] != 0 )\n",
    "         & (data['family_status'] == 'Не женат / не замужем' )\n",
    "         & (data['total_income_category'] == 'E' )\n",
    "         & (data['purpose_category'] == 'операции с автомобилем')\n",
    "        , 'purpose_category'].count(),\n",
    "      'чел.')"
   ]
  },
  {
   "attachments": {
    "image-2.png": {
     "image/png": "[encoded data removed]"
    },
    "image-3.png": {
     "image/png": "[encoded data removed]"
    },
    "image-4.png": {
     "image/png": "[encoded data removed]"
    },
    "image.png": {
     "image/png": "[encoded data removed]"
    }
   },
   "cell_type": "markdown",
   "id": "5c7ae28e",
   "metadata": {},
   "source": [
    "### Общий вывод:\n",
    "Было проведено исследование надежности заемщиков, чтобы выявить влияние разных факторов на возвращение кредита в установленные сроки. Входные данные от заказчика — статистика о платёжеспособности клиентов. Результаты исследования будут учтены при построении модели кредитного скоринга — специальной системы, которая оценивает способность потенциального заёмщика вернуть кредит банку.\n",
    "\n",
    "Были выдвинуты несколько ***гипотез***:\n",
    "\n",
    "***1. Существует зависимость между количеством детей и возвратом кредита в срок.***\n",
    "\n",
    "Внутри этой гипотезы было рассмотрена два пункта. \n",
    "    \n",
    "1. Влияение наличия детей на возвращение кредита в срок.  \n",
    "    ```\n",
    "    Количество людей с задолженностью с детьми: 9.24%\n",
    "    Количество людей с задолженностью без детей: 7.54%\n",
    "    ```\n",
    "    Однако видно, что выборка неравномерна - не сбалансирована, классы в выборке имеют разные размеры.\n",
    "    \n",
    "    <div>\n",
    "    <img src=\"attachment:image-3.png\" align=\"centre\" width=\"500\"/>\n",
    "    </div>\n",
    "\n",
    "\n",
    "   Основываясь на предоставленных данных, можно заключить: **кредитополучатели без детей являются более ответственными, чем клиенты, у которых есть дети**, однако для уточнения данного пункта **необходимо расширить выборку**. \n",
    "\n",
    "2. Влияние количества детей на возвращение кредита в срок.\n",
    "Данный фактор также нельзя назвать «надежным», так как [выборка недостаточна](#pivot_table_children) – необходимо расширить выборку по заемщикам с 3-5 детьми.\n",
    "\n",
    "    **Вывод:** необходимо расширить выборку.\n",
    "\n",
    "**Общий вывод по пункту:** \\\n",
    "Люди без детей являются более ответственными, однако данные соответствуют времени получения ими кредита. Если у таких людей появятся дети, то их способность возвратить кредит в срок ухудшится, то есть они перейдут в другую группу заемщиков. \n",
    "\n",
    "**Рекомендации:** \n",
    "1. расширить выборку;\n",
    "2. провести дополнительный анализ того, как часто рождаются дети в период возвращения потребителями кредитов.\n",
    "\n",
    "***2. Существует зависимость между семейным положением и возвратом кредита в срок.***\n",
    "\n",
    "**Наименее подвержены риску** люди из категорий \"вдовец / вдова\" (6,62%) и \"в разводе\"(7,06%).\n",
    "\n",
    "**Наиболее рискованной является группа** \"не женат / не замужем\".\n",
    "\n",
    "<div>\n",
    "<img src=\"attachment:image-4.png\" align=\"centre\" width=\"250\"/>\n",
    "</div>\n",
    "\n",
    "\n",
    "Есть две «похожие» категории: «гражданский брак» и «женат / замужем», но при детальном рассмотрении выясняется, что люди состоящие в законном браке чаще возвращают кредиты в срок [(7,56% против 9,31%)](#pivot_family_status).\n",
    "\n",
    "***3. Существует зависимость между уровнем дохода и возвратом кредита в срок.***\n",
    "\n",
    "Принцип \"чем больше зарплата, тем больше вероятность выплаты кредита\" не работает. Это видно из диаграммы \"Проценты \"проблемных\" клиентов к своим группам\".\n",
    "\n",
    "<div>\n",
    "<img src=\"attachment:image-2.png\" align=\"centre\" width=\"500\"/>\n",
    "</div>\n",
    "\n",
    "Наиболее надежной оказалась категория D (6,02%). Худший показатель имеет группа E (9,09%). Однако количества заемщиков нельзя назвать \"сопоставимыми\", поэтому **вывод корректным назвать нельзя - необходимо расширить выборку**.\n",
    "Если сравнивать категории B (7,06%) и C (8,50%) (у них наибольшее число записей), то можно заключить: **люди с большим доходом тщательнее следят за своими финансами**.\n",
    "\n",
    "**Рекомендации:** расширить выборку по категориям A, D, E и провести повторный анализ.\n",
    "\n",
    "***4. Разные цели кредита влияют на его возврат в срок.***\n",
    "\n",
    "Наименьшее число кредитов выдано по категории \"проведение свадьбы\", эта же категория имеет небольшой процент \"проблемных\" заёмщиков (7,91%). \n",
    "Наиболее рискованными являются операции с автомобилями (9,35%) и получение образования (9,25%).\n",
    "Более стабильной группой являются кредиты с целью \"операции с недвижимостью\" (7,26%).\n",
    "\n",
    "<div>\n",
    "<img src=\"attachment:image.png\" align=\"centre\" width=\"600\"/>\n",
    "</div>\n",
    "\n",
    " \n",
    "**Рекомендации:** при выдаче кредитов обратить большее внимание на клиентов с операциями с автомобилями, так как их стоимость чаще выше стоимости получения образования.\n",
    "\n",
    "\n",
    "**Общие рекомендации:** \n",
    "1. При построении модели кредитного скоринга можно использовать зависимости из 2-ой и 4-ой гипотез;\n",
    "2. Для достижения лучшего эффекта необходимо расширить выборку в соответствии с вышеперечисленными рекомендациями."
   ]
  },
  {
   "cell_type": "code",
   "execution_count": null,
   "id": "e23b96db",
   "metadata": {},
   "outputs": [],
   "source": []
  }
 ],
 "metadata": {
  "ExecuteTimeLog": [
   {
    "duration": 468,
    "start_time": "2023-02-10T07:40:19.505Z"
   },
   {
    "duration": 23,
    "start_time": "2023-02-10T07:40:19.975Z"
   },
   {
    "duration": 15,
    "start_time": "2023-02-10T07:40:20.000Z"
   },
   {
    "duration": 10,
    "start_time": "2023-02-10T07:40:20.017Z"
   },
   {
    "duration": 36,
    "start_time": "2023-02-10T07:40:20.030Z"
   },
   {
    "duration": 4,
    "start_time": "2023-02-10T07:40:20.068Z"
   },
   {
    "duration": 34,
    "start_time": "2023-02-10T07:40:20.074Z"
   },
   {
    "duration": 6,
    "start_time": "2023-02-10T07:40:20.109Z"
   },
   {
    "duration": 18,
    "start_time": "2023-02-10T07:40:20.116Z"
   },
   {
    "duration": 5,
    "start_time": "2023-02-10T07:40:20.136Z"
   },
   {
    "duration": 34,
    "start_time": "2023-02-10T07:40:20.142Z"
   },
   {
    "duration": 9,
    "start_time": "2023-02-10T07:40:20.178Z"
   },
   {
    "duration": 3,
    "start_time": "2023-02-10T07:40:20.204Z"
   },
   {
    "duration": 14,
    "start_time": "2023-02-10T07:40:20.210Z"
   },
   {
    "duration": 30,
    "start_time": "2023-02-10T07:40:20.225Z"
   },
   {
    "duration": 17,
    "start_time": "2023-02-10T07:40:20.257Z"
   },
   {
    "duration": 3,
    "start_time": "2023-02-10T07:40:20.275Z"
   },
   {
    "duration": 29,
    "start_time": "2023-02-10T07:40:20.280Z"
   },
   {
    "duration": 6,
    "start_time": "2023-02-10T07:40:20.311Z"
   },
   {
    "duration": 5,
    "start_time": "2023-02-10T07:40:20.319Z"
   },
   {
    "duration": 12,
    "start_time": "2023-02-10T07:40:20.326Z"
   },
   {
    "duration": 904,
    "start_time": "2023-02-10T07:40:20.340Z"
   },
   {
    "duration": 117,
    "start_time": "2023-02-10T07:40:21.245Z"
   },
   {
    "duration": 105,
    "start_time": "2023-02-10T07:40:21.364Z"
   },
   {
    "duration": 109,
    "start_time": "2023-02-10T07:40:21.471Z"
   },
   {
    "duration": 25,
    "start_time": "2023-02-10T07:40:21.581Z"
   },
   {
    "duration": 29,
    "start_time": "2023-02-10T07:40:21.608Z"
   },
   {
    "duration": 5,
    "start_time": "2023-02-10T07:40:21.638Z"
   },
   {
    "duration": 11,
    "start_time": "2023-02-10T07:40:21.645Z"
   },
   {
    "duration": 7,
    "start_time": "2023-02-10T07:40:21.657Z"
   },
   {
    "duration": 51,
    "start_time": "2023-02-10T07:40:21.666Z"
   },
   {
    "duration": 8,
    "start_time": "2023-02-10T07:40:21.719Z"
   },
   {
    "duration": 9,
    "start_time": "2023-02-10T07:40:21.729Z"
   },
   {
    "duration": 195,
    "start_time": "2023-02-10T07:40:21.740Z"
   },
   {
    "duration": 140,
    "start_time": "2023-02-10T07:40:21.936Z"
   },
   {
    "duration": 143,
    "start_time": "2023-02-10T07:40:22.078Z"
   },
   {
    "duration": 20,
    "start_time": "2023-02-10T07:40:22.223Z"
   },
   {
    "duration": 13,
    "start_time": "2023-02-10T07:40:22.245Z"
   },
   {
    "duration": 49,
    "start_time": "2023-02-10T07:40:22.260Z"
   },
   {
    "duration": 4,
    "start_time": "2023-02-10T07:40:22.311Z"
   },
   {
    "duration": 13,
    "start_time": "2023-02-10T07:40:22.320Z"
   },
   {
    "duration": 180,
    "start_time": "2023-02-10T07:40:22.335Z"
   },
   {
    "duration": 145,
    "start_time": "2023-02-10T07:40:22.517Z"
   },
   {
    "duration": 208,
    "start_time": "2023-02-10T07:40:22.664Z"
   },
   {
    "duration": 11,
    "start_time": "2023-02-10T07:40:22.874Z"
   },
   {
    "duration": 143,
    "start_time": "2023-02-10T07:40:22.887Z"
   },
   {
    "duration": 135,
    "start_time": "2023-02-10T07:40:23.031Z"
   },
   {
    "duration": 37,
    "start_time": "2023-02-10T07:40:23.167Z"
   },
   {
    "duration": 13,
    "start_time": "2023-02-10T07:40:23.206Z"
   },
   {
    "duration": 138,
    "start_time": "2023-02-10T07:40:23.221Z"
   },
   {
    "duration": 143,
    "start_time": "2023-02-10T07:40:23.360Z"
   },
   {
    "duration": 155,
    "start_time": "2023-02-10T07:40:23.505Z"
   },
   {
    "duration": 28,
    "start_time": "2023-02-10T07:40:23.661Z"
   },
   {
    "duration": 598,
    "start_time": "2023-02-11T05:30:30.640Z"
   },
   {
    "duration": 24,
    "start_time": "2023-02-11T05:30:31.240Z"
   },
   {
    "duration": 23,
    "start_time": "2023-02-11T05:30:31.265Z"
   },
   {
    "duration": 20,
    "start_time": "2023-02-11T05:30:31.290Z"
   },
   {
    "duration": 47,
    "start_time": "2023-02-11T05:30:31.312Z"
   },
   {
    "duration": 3,
    "start_time": "2023-02-11T05:30:31.361Z"
   },
   {
    "duration": 13,
    "start_time": "2023-02-11T05:30:31.366Z"
   },
   {
    "duration": 7,
    "start_time": "2023-02-11T05:30:31.381Z"
   },
   {
    "duration": 15,
    "start_time": "2023-02-11T05:30:31.389Z"
   },
   {
    "duration": 34,
    "start_time": "2023-02-11T05:30:31.406Z"
   },
   {
    "duration": 38,
    "start_time": "2023-02-11T05:30:31.442Z"
   },
   {
    "duration": 11,
    "start_time": "2023-02-11T05:30:31.482Z"
   },
   {
    "duration": 36,
    "start_time": "2023-02-11T05:30:31.494Z"
   },
   {
    "duration": 33,
    "start_time": "2023-02-11T05:30:31.532Z"
   },
   {
    "duration": 25,
    "start_time": "2023-02-11T05:30:31.567Z"
   },
   {
    "duration": 18,
    "start_time": "2023-02-11T05:30:31.594Z"
   },
   {
    "duration": 4,
    "start_time": "2023-02-11T05:30:31.614Z"
   },
   {
    "duration": 23,
    "start_time": "2023-02-11T05:30:31.620Z"
   },
   {
    "duration": 30,
    "start_time": "2023-02-11T05:30:31.645Z"
   },
   {
    "duration": 12,
    "start_time": "2023-02-11T05:30:31.677Z"
   },
   {
    "duration": 20,
    "start_time": "2023-02-11T05:30:31.692Z"
   },
   {
    "duration": 1149,
    "start_time": "2023-02-11T05:30:31.714Z"
   },
   {
    "duration": 131,
    "start_time": "2023-02-11T05:30:32.866Z"
   },
   {
    "duration": 112,
    "start_time": "2023-02-11T05:30:40.074Z"
   },
   {
    "duration": 107,
    "start_time": "2023-02-11T05:33:23.060Z"
   },
   {
    "duration": 14,
    "start_time": "2023-02-11T05:37:31.094Z"
   },
   {
    "duration": 13,
    "start_time": "2023-02-11T05:39:52.380Z"
   },
   {
    "duration": 51,
    "start_time": "2023-02-11T05:52:17.627Z"
   },
   {
    "duration": 49,
    "start_time": "2023-02-11T05:52:30.340Z"
   },
   {
    "duration": 69,
    "start_time": "2023-02-11T05:53:43.419Z"
   },
   {
    "duration": 62,
    "start_time": "2023-02-11T06:03:52.216Z"
   },
   {
    "duration": 115,
    "start_time": "2023-02-11T06:04:10.140Z"
   },
   {
    "duration": 87,
    "start_time": "2023-02-11T06:04:18.338Z"
   },
   {
    "duration": 28,
    "start_time": "2023-02-11T06:04:18.427Z"
   },
   {
    "duration": 19,
    "start_time": "2023-02-11T06:04:18.457Z"
   },
   {
    "duration": 20,
    "start_time": "2023-02-11T06:04:18.478Z"
   },
   {
    "duration": 43,
    "start_time": "2023-02-11T06:04:18.501Z"
   },
   {
    "duration": 4,
    "start_time": "2023-02-11T06:04:18.554Z"
   },
   {
    "duration": 11,
    "start_time": "2023-02-11T06:04:18.559Z"
   },
   {
    "duration": 25,
    "start_time": "2023-02-11T06:04:18.572Z"
   },
   {
    "duration": 9,
    "start_time": "2023-02-11T06:04:18.598Z"
   },
   {
    "duration": 5,
    "start_time": "2023-02-11T06:04:18.609Z"
   },
   {
    "duration": 42,
    "start_time": "2023-02-11T06:04:18.615Z"
   },
   {
    "duration": 10,
    "start_time": "2023-02-11T06:04:18.659Z"
   },
   {
    "duration": 4,
    "start_time": "2023-02-11T06:04:18.671Z"
   },
   {
    "duration": 11,
    "start_time": "2023-02-11T06:04:18.677Z"
   },
   {
    "duration": 20,
    "start_time": "2023-02-11T06:04:18.690Z"
   },
   {
    "duration": 49,
    "start_time": "2023-02-11T06:04:18.712Z"
   },
   {
    "duration": 4,
    "start_time": "2023-02-11T06:04:18.763Z"
   },
   {
    "duration": 14,
    "start_time": "2023-02-11T06:04:18.768Z"
   },
   {
    "duration": 8,
    "start_time": "2023-02-11T06:04:18.784Z"
   },
   {
    "duration": 6,
    "start_time": "2023-02-11T06:04:18.794Z"
   },
   {
    "duration": 50,
    "start_time": "2023-02-11T06:04:18.802Z"
   },
   {
    "duration": 141,
    "start_time": "2023-02-11T06:04:18.854Z"
   },
   {
    "duration": 163,
    "start_time": "2023-02-11T06:04:18.997Z"
   },
   {
    "duration": 127,
    "start_time": "2023-02-11T06:04:19.162Z"
   },
   {
    "duration": 124,
    "start_time": "2023-02-11T06:04:19.291Z"
   },
   {
    "duration": 30,
    "start_time": "2023-02-11T06:04:19.417Z"
   },
   {
    "duration": 108,
    "start_time": "2023-02-11T06:04:19.448Z"
   },
   {
    "duration": 6,
    "start_time": "2023-02-11T06:04:19.558Z"
   },
   {
    "duration": 11,
    "start_time": "2023-02-11T06:04:19.565Z"
   },
   {
    "duration": 8,
    "start_time": "2023-02-11T06:04:19.578Z"
   },
   {
    "duration": 28,
    "start_time": "2023-02-11T06:04:19.587Z"
   },
   {
    "duration": 37,
    "start_time": "2023-02-11T06:04:19.617Z"
   },
   {
    "duration": 12,
    "start_time": "2023-02-11T06:04:19.656Z"
   },
   {
    "duration": 208,
    "start_time": "2023-02-11T06:04:19.670Z"
   },
   {
    "duration": 152,
    "start_time": "2023-02-11T06:04:19.880Z"
   },
   {
    "duration": 147,
    "start_time": "2023-02-11T06:04:20.033Z"
   },
   {
    "duration": 24,
    "start_time": "2023-02-11T06:04:20.182Z"
   },
   {
    "duration": 39,
    "start_time": "2023-02-11T06:04:20.208Z"
   },
   {
    "duration": 30,
    "start_time": "2023-02-11T06:04:20.252Z"
   },
   {
    "duration": 4,
    "start_time": "2023-02-11T06:04:20.284Z"
   },
   {
    "duration": 11,
    "start_time": "2023-02-11T06:04:20.293Z"
   },
   {
    "duration": 192,
    "start_time": "2023-02-11T06:04:20.305Z"
   },
   {
    "duration": 159,
    "start_time": "2023-02-11T06:04:20.499Z"
   },
   {
    "duration": 137,
    "start_time": "2023-02-11T06:04:22.679Z"
   },
   {
    "duration": 138,
    "start_time": "2023-02-11T06:04:47.524Z"
   },
   {
    "duration": 139,
    "start_time": "2023-02-11T06:05:01.468Z"
   },
   {
    "duration": 11,
    "start_time": "2023-02-11T06:05:14.620Z"
   },
   {
    "duration": 23,
    "start_time": "2023-02-11T06:21:54.255Z"
   },
   {
    "duration": 22,
    "start_time": "2023-02-11T06:22:01.251Z"
   },
   {
    "duration": 15,
    "start_time": "2023-02-11T06:22:48.239Z"
   },
   {
    "duration": 21,
    "start_time": "2023-02-11T06:23:00.667Z"
   },
   {
    "duration": 77,
    "start_time": "2023-02-11T06:23:28.124Z"
   },
   {
    "duration": 19,
    "start_time": "2023-02-11T06:23:28.203Z"
   },
   {
    "duration": 26,
    "start_time": "2023-02-11T06:23:28.225Z"
   },
   {
    "duration": 18,
    "start_time": "2023-02-11T06:23:28.253Z"
   },
   {
    "duration": 36,
    "start_time": "2023-02-11T06:23:28.274Z"
   },
   {
    "duration": 4,
    "start_time": "2023-02-11T06:23:28.312Z"
   },
   {
    "duration": 27,
    "start_time": "2023-02-11T06:23:28.318Z"
   },
   {
    "duration": 5,
    "start_time": "2023-02-11T06:23:28.347Z"
   },
   {
    "duration": 7,
    "start_time": "2023-02-11T06:23:28.353Z"
   },
   {
    "duration": 5,
    "start_time": "2023-02-11T06:23:28.362Z"
   },
   {
    "duration": 36,
    "start_time": "2023-02-11T06:23:28.368Z"
   },
   {
    "duration": 38,
    "start_time": "2023-02-11T06:23:28.406Z"
   },
   {
    "duration": 3,
    "start_time": "2023-02-11T06:23:28.446Z"
   },
   {
    "duration": 15,
    "start_time": "2023-02-11T06:23:28.452Z"
   },
   {
    "duration": 20,
    "start_time": "2023-02-11T06:23:28.468Z"
   },
   {
    "duration": 16,
    "start_time": "2023-02-11T06:23:28.490Z"
   },
   {
    "duration": 3,
    "start_time": "2023-02-11T06:23:28.508Z"
   },
   {
    "duration": 15,
    "start_time": "2023-02-11T06:23:28.540Z"
   },
   {
    "duration": 5,
    "start_time": "2023-02-11T06:23:28.557Z"
   },
   {
    "duration": 8,
    "start_time": "2023-02-11T06:23:28.564Z"
   },
   {
    "duration": 27,
    "start_time": "2023-02-11T06:23:28.573Z"
   },
   {
    "duration": 121,
    "start_time": "2023-02-11T06:23:28.602Z"
   },
   {
    "duration": 142,
    "start_time": "2023-02-11T06:23:28.725Z"
   },
   {
    "duration": 148,
    "start_time": "2023-02-11T06:23:28.870Z"
   },
   {
    "duration": 128,
    "start_time": "2023-02-11T06:23:29.020Z"
   },
   {
    "duration": 15,
    "start_time": "2023-02-11T06:23:29.149Z"
   },
   {
    "duration": 31,
    "start_time": "2023-02-11T06:23:29.165Z"
   },
   {
    "duration": 6,
    "start_time": "2023-02-11T06:23:29.198Z"
   },
   {
    "duration": 37,
    "start_time": "2023-02-11T06:23:29.206Z"
   },
   {
    "duration": 9,
    "start_time": "2023-02-11T06:23:29.245Z"
   },
   {
    "duration": 122,
    "start_time": "2023-02-11T06:23:29.255Z"
   },
   {
    "duration": 9,
    "start_time": "2023-02-11T06:23:29.379Z"
   },
   {
    "duration": 9,
    "start_time": "2023-02-11T06:23:29.389Z"
   },
   {
    "duration": 196,
    "start_time": "2023-02-11T06:23:29.399Z"
   },
   {
    "duration": 154,
    "start_time": "2023-02-11T06:23:29.596Z"
   },
   {
    "duration": 149,
    "start_time": "2023-02-11T06:23:29.752Z"
   },
   {
    "duration": 23,
    "start_time": "2023-02-11T06:23:29.902Z"
   },
   {
    "duration": 29,
    "start_time": "2023-02-11T06:23:29.926Z"
   },
   {
    "duration": 28,
    "start_time": "2023-02-11T06:23:29.957Z"
   },
   {
    "duration": 3,
    "start_time": "2023-02-11T06:23:29.987Z"
   },
   {
    "duration": 10,
    "start_time": "2023-02-11T06:23:29.994Z"
   },
   {
    "duration": 212,
    "start_time": "2023-02-11T06:23:30.006Z"
   },
   {
    "duration": 155,
    "start_time": "2023-02-11T06:23:30.220Z"
   },
   {
    "duration": 147,
    "start_time": "2023-02-11T06:23:30.377Z"
   },
   {
    "duration": 19,
    "start_time": "2023-02-11T06:23:30.526Z"
   },
   {
    "duration": 130,
    "start_time": "2023-02-11T06:23:30.546Z"
   },
   {
    "duration": 145,
    "start_time": "2023-02-11T06:23:30.678Z"
   },
   {
    "duration": 36,
    "start_time": "2023-02-11T06:23:30.825Z"
   },
   {
    "duration": 24,
    "start_time": "2023-02-11T06:23:30.863Z"
   },
   {
    "duration": 157,
    "start_time": "2023-02-11T06:23:30.890Z"
   },
   {
    "duration": 171,
    "start_time": "2023-02-11T06:23:31.049Z"
   },
   {
    "duration": 168,
    "start_time": "2023-02-11T06:23:31.222Z"
   },
   {
    "duration": 28,
    "start_time": "2023-02-11T06:23:31.392Z"
   },
   {
    "duration": 34,
    "start_time": "2023-02-11T06:23:31.422Z"
   },
   {
    "duration": 31,
    "start_time": "2023-02-11T06:23:47.411Z"
   },
   {
    "duration": 24,
    "start_time": "2023-02-11T06:25:27.246Z"
   },
   {
    "duration": 21,
    "start_time": "2023-02-11T06:25:41.459Z"
   },
   {
    "duration": 12,
    "start_time": "2023-02-11T06:25:47.185Z"
   },
   {
    "duration": 12,
    "start_time": "2023-02-11T06:26:18.146Z"
   },
   {
    "duration": 12,
    "start_time": "2023-02-11T06:27:06.886Z"
   },
   {
    "duration": 23,
    "start_time": "2023-02-11T06:27:16.858Z"
   },
   {
    "duration": 28,
    "start_time": "2023-02-11T06:27:27.491Z"
   },
   {
    "duration": 21,
    "start_time": "2023-02-11T06:27:40.215Z"
   },
   {
    "duration": 25,
    "start_time": "2023-02-11T06:29:07.594Z"
   },
   {
    "duration": 18,
    "start_time": "2023-02-11T06:29:16.299Z"
   },
   {
    "duration": 20,
    "start_time": "2023-02-11T06:29:27.016Z"
   },
   {
    "duration": 20,
    "start_time": "2023-02-11T06:29:33.643Z"
   },
   {
    "duration": 21,
    "start_time": "2023-02-11T06:29:37.698Z"
   },
   {
    "duration": 20,
    "start_time": "2023-02-11T06:29:41.934Z"
   },
   {
    "duration": 20,
    "start_time": "2023-02-11T06:29:44.451Z"
   },
   {
    "duration": 36,
    "start_time": "2023-02-11T06:30:06.130Z"
   },
   {
    "duration": 15,
    "start_time": "2023-02-11T06:30:22.839Z"
   },
   {
    "duration": 15,
    "start_time": "2023-02-11T06:32:55.722Z"
   },
   {
    "duration": 42,
    "start_time": "2023-02-11T06:33:13.859Z"
   },
   {
    "duration": 34,
    "start_time": "2023-02-11T06:33:39.122Z"
   },
   {
    "duration": 31,
    "start_time": "2023-02-11T06:34:11.379Z"
   },
   {
    "duration": 12,
    "start_time": "2023-02-11T06:44:10.474Z"
   },
   {
    "duration": 12,
    "start_time": "2023-02-11T06:44:43.682Z"
   },
   {
    "duration": 41,
    "start_time": "2023-02-11T06:44:51.888Z"
   },
   {
    "duration": 138,
    "start_time": "2023-02-11T06:45:02.430Z"
   },
   {
    "duration": 690,
    "start_time": "2023-02-11T06:45:39.818Z"
   },
   {
    "duration": 14,
    "start_time": "2023-02-11T06:47:45.467Z"
   },
   {
    "duration": 234,
    "start_time": "2023-02-11T06:48:04.663Z"
   },
   {
    "duration": 5520,
    "start_time": "2023-02-11T06:48:45.513Z"
   },
   {
    "duration": 51,
    "start_time": "2023-02-11T06:58:12.803Z"
   },
   {
    "duration": 582,
    "start_time": "2023-02-11T06:58:33.939Z"
   },
   {
    "duration": 26,
    "start_time": "2023-02-11T06:58:34.524Z"
   },
   {
    "duration": 16,
    "start_time": "2023-02-11T06:58:34.552Z"
   },
   {
    "duration": 10,
    "start_time": "2023-02-11T06:58:34.570Z"
   },
   {
    "duration": 58,
    "start_time": "2023-02-11T06:58:34.582Z"
   },
   {
    "duration": 5,
    "start_time": "2023-02-11T06:58:34.642Z"
   },
   {
    "duration": 14,
    "start_time": "2023-02-11T06:58:34.648Z"
   },
   {
    "duration": 5,
    "start_time": "2023-02-11T06:58:34.663Z"
   },
   {
    "duration": 9,
    "start_time": "2023-02-11T06:58:34.670Z"
   },
   {
    "duration": 5,
    "start_time": "2023-02-11T06:58:34.681Z"
   },
   {
    "duration": 68,
    "start_time": "2023-02-11T06:58:34.687Z"
   },
   {
    "duration": 10,
    "start_time": "2023-02-11T06:58:34.757Z"
   },
   {
    "duration": 5,
    "start_time": "2023-02-11T06:58:34.769Z"
   },
   {
    "duration": 12,
    "start_time": "2023-02-11T06:58:34.776Z"
   },
   {
    "duration": 23,
    "start_time": "2023-02-11T06:58:34.790Z"
   },
   {
    "duration": 42,
    "start_time": "2023-02-11T06:58:34.814Z"
   },
   {
    "duration": 3,
    "start_time": "2023-02-11T06:58:34.858Z"
   },
   {
    "duration": 17,
    "start_time": "2023-02-11T06:58:34.863Z"
   },
   {
    "duration": 5,
    "start_time": "2023-02-11T06:58:34.882Z"
   },
   {
    "duration": 4,
    "start_time": "2023-02-11T06:58:34.889Z"
   },
   {
    "duration": 12,
    "start_time": "2023-02-11T06:58:34.894Z"
   },
   {
    "duration": 934,
    "start_time": "2023-02-11T06:58:34.908Z"
   },
   {
    "duration": 126,
    "start_time": "2023-02-11T06:58:35.844Z"
   },
   {
    "duration": 120,
    "start_time": "2023-02-11T06:58:35.972Z"
   },
   {
    "duration": 120,
    "start_time": "2023-02-11T06:58:36.094Z"
   },
   {
    "duration": 24,
    "start_time": "2023-02-11T06:58:36.216Z"
   },
   {
    "duration": 31,
    "start_time": "2023-02-11T06:58:36.242Z"
   },
   {
    "duration": 6,
    "start_time": "2023-02-11T06:58:36.277Z"
   },
   {
    "duration": 7,
    "start_time": "2023-02-11T06:58:36.285Z"
   },
   {
    "duration": 8,
    "start_time": "2023-02-11T06:58:36.294Z"
   },
   {
    "duration": 57,
    "start_time": "2023-02-11T06:58:36.304Z"
   },
   {
    "duration": 12,
    "start_time": "2023-02-11T06:58:36.372Z"
   },
   {
    "duration": 11,
    "start_time": "2023-02-11T06:58:36.385Z"
   },
   {
    "duration": 209,
    "start_time": "2023-02-11T06:58:36.398Z"
   },
   {
    "duration": 169,
    "start_time": "2023-02-11T06:58:36.609Z"
   },
   {
    "duration": 144,
    "start_time": "2023-02-11T06:58:36.780Z"
   },
   {
    "duration": 28,
    "start_time": "2023-02-11T06:58:36.926Z"
   },
   {
    "duration": 16,
    "start_time": "2023-02-11T06:58:36.956Z"
   },
   {
    "duration": 29,
    "start_time": "2023-02-11T06:58:36.974Z"
   },
   {
    "duration": 6,
    "start_time": "2023-02-11T06:58:37.004Z"
   },
   {
    "duration": 11,
    "start_time": "2023-02-11T06:58:37.040Z"
   },
   {
    "duration": 184,
    "start_time": "2023-02-11T06:58:37.053Z"
   },
   {
    "duration": 152,
    "start_time": "2023-02-11T06:58:37.240Z"
   },
   {
    "duration": 221,
    "start_time": "2023-02-11T06:58:37.394Z"
   },
   {
    "duration": 11,
    "start_time": "2023-02-11T06:58:37.617Z"
   },
   {
    "duration": 130,
    "start_time": "2023-02-11T06:58:37.639Z"
   },
   {
    "duration": 144,
    "start_time": "2023-02-11T06:58:37.771Z"
   },
   {
    "duration": 35,
    "start_time": "2023-02-11T06:58:37.917Z"
   },
   {
    "duration": 13,
    "start_time": "2023-02-11T06:58:37.954Z"
   },
   {
    "duration": 151,
    "start_time": "2023-02-11T06:58:37.968Z"
   },
   {
    "duration": 176,
    "start_time": "2023-02-11T06:58:38.121Z"
   },
   {
    "duration": 161,
    "start_time": "2023-02-11T06:58:38.299Z"
   },
   {
    "duration": 31,
    "start_time": "2023-02-11T06:58:38.462Z"
   },
   {
    "duration": 21,
    "start_time": "2023-02-11T06:58:38.495Z"
   },
   {
    "duration": 33,
    "start_time": "2023-02-11T06:58:38.517Z"
   },
   {
    "duration": 20,
    "start_time": "2023-02-11T06:58:38.551Z"
   },
   {
    "duration": 23,
    "start_time": "2023-02-11T06:58:38.573Z"
   },
   {
    "duration": 71,
    "start_time": "2023-02-11T06:58:41.651Z"
   },
   {
    "duration": 10,
    "start_time": "2023-02-11T06:59:03.479Z"
   },
   {
    "duration": 18,
    "start_time": "2023-02-11T06:59:16.411Z"
   },
   {
    "duration": 9,
    "start_time": "2023-02-11T06:59:42.251Z"
   },
   {
    "duration": 14,
    "start_time": "2023-02-11T07:00:23.537Z"
   },
   {
    "duration": 9,
    "start_time": "2023-02-11T07:00:47.583Z"
   },
   {
    "duration": 9,
    "start_time": "2023-02-11T07:01:30.036Z"
   },
   {
    "duration": 197,
    "start_time": "2023-02-11T07:01:58.753Z"
   },
   {
    "duration": 15,
    "start_time": "2023-02-11T07:02:05.479Z"
   },
   {
    "duration": 781,
    "start_time": "2023-02-11T07:02:15.008Z"
   },
   {
    "duration": 148,
    "start_time": "2023-02-11T07:02:34.819Z"
   },
   {
    "duration": 159,
    "start_time": "2023-02-11T07:02:48.755Z"
   },
   {
    "duration": 143,
    "start_time": "2023-02-11T07:03:06.939Z"
   },
   {
    "duration": 212,
    "start_time": "2023-02-11T07:03:11.379Z"
   },
   {
    "duration": 394,
    "start_time": "2023-02-11T07:03:33.912Z"
   },
   {
    "duration": 10,
    "start_time": "2023-02-11T07:03:55.099Z"
   },
   {
    "duration": 3,
    "start_time": "2023-02-11T07:04:19.435Z"
   },
   {
    "duration": 3,
    "start_time": "2023-02-11T07:05:11.861Z"
   },
   {
    "duration": 16,
    "start_time": "2023-02-11T07:17:34.116Z"
   },
   {
    "duration": 222,
    "start_time": "2023-02-11T07:19:48.719Z"
   },
   {
    "duration": 14,
    "start_time": "2023-02-11T07:20:14.667Z"
   },
   {
    "duration": 20,
    "start_time": "2023-02-11T07:20:52.959Z"
   },
   {
    "duration": 26,
    "start_time": "2023-02-11T07:21:10.987Z"
   },
   {
    "duration": 14,
    "start_time": "2023-02-11T07:21:26.647Z"
   },
   {
    "duration": 29,
    "start_time": "2023-02-11T07:22:39.363Z"
   },
   {
    "duration": 12,
    "start_time": "2023-02-11T07:23:23.176Z"
   },
   {
    "duration": 11,
    "start_time": "2023-02-11T07:24:06.739Z"
   },
   {
    "duration": 11,
    "start_time": "2023-02-11T07:24:12.891Z"
   },
   {
    "duration": 14,
    "start_time": "2023-02-11T07:24:24.539Z"
   },
   {
    "duration": 18,
    "start_time": "2023-02-11T07:24:29.651Z"
   },
   {
    "duration": 10,
    "start_time": "2023-02-11T07:24:42.467Z"
   },
   {
    "duration": 9,
    "start_time": "2023-02-11T07:26:29.131Z"
   },
   {
    "duration": 12,
    "start_time": "2023-02-11T07:27:14.895Z"
   },
   {
    "duration": 10,
    "start_time": "2023-02-11T07:27:19.738Z"
   },
   {
    "duration": 11,
    "start_time": "2023-02-11T07:27:23.655Z"
   },
   {
    "duration": 9,
    "start_time": "2023-02-11T07:27:56.707Z"
   },
   {
    "duration": 9,
    "start_time": "2023-02-11T07:28:17.499Z"
   }
  ],
  "colab": {
   "provenance": []
  },
  "kernelspec": {
   "display_name": "Python 3 (ipykernel)",
   "language": "python",
   "name": "python3"
  },
  "language_info": {
   "codemirror_mode": {
    "name": "ipython",
    "version": 3
   },
   "file_extension": ".py",
   "mimetype": "text/x-python",
   "name": "python",
   "nbconvert_exporter": "python",
   "pygments_lexer": "ipython3",
   "version": "3.11.4"
  },
  "toc": {
   "base_numbering": 1,
   "nav_menu": {
    "height": "371px",
    "width": "827px"
   },
   "number_sections": true,
   "sideBar": true,
   "skip_h1_title": true,
   "title_cell": "Содержание",
   "title_sidebar": "Содержание",
   "toc_cell": true,
   "toc_position": {
    "height": "calc(100% - 180px)",
    "left": "10px",
    "top": "150px",
    "width": "384px"
   },
   "toc_section_display": true,
   "toc_window_display": true
  },
  "varInspector": {
   "cols": {
    "lenName": 16,
    "lenType": 16,
    "lenVar": 40
   },
   "kernels_config": {
    "python": {
     "delete_cmd_postfix": "",
     "delete_cmd_prefix": "del ",
     "library": "var_list.py",
     "varRefreshCmd": "print(var_dic_list())"
    },
    "r": {
     "delete_cmd_postfix": ") ",
     "delete_cmd_prefix": "rm(",
     "library": "var_list.r",
     "varRefreshCmd": "cat(var_dic_list()) "
    }
   },
   "types_to_exclude": [
    "module",
    "function",
    "builtin_function_or_method",
    "instance",
    "_Feature"
   ],
   "window_display": false
  }
 },
 "nbformat": 4,
 "nbformat_minor": 5
}
