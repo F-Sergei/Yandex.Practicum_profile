{
 "cells": [
  {
   "cell_type": "markdown",
   "id": "3d0fe566",
   "metadata": {},
   "source": [
    "# Проект: \"Принятие решений в бизнесе\""
   ]
  },
  {
   "cell_type": "markdown",
   "id": "da83340e",
   "metadata": {},
   "source": [
    "# Описание проекта\n",
    "**Интернет-магазин:** </br>\n",
    "Вместе с отделом маркетинга подготовлен список гипотез для увеличения выручки, были получены результаты A/B-теста.\n",
    "\n",
    "**Задачи:**\n",
    "- приоритизировать гипотезы; \n",
    "- запустить A/B-тест;\n",
    "- проанализировать результаты."
   ]
  },
  {
   "cell_type": "markdown",
   "id": "af42c99d",
   "metadata": {
    "toc": true
   },
   "source": [
    "<h1>Оглавление<span class=\"tocSkip\"></span></h1>\n",
    "<div class=\"toc\"><ul class=\"toc-item\"><li><span><a href=\"#Часть-1.-Приоритизация-гипотез\" data-toc-modified-id=\"Часть-1.-Приоритизация-гипотез-1\"><span class=\"toc-item-num\">1&nbsp;&nbsp;</span>Часть 1. Приоритизация гипотез</a></span><ul class=\"toc-item\"><li><span><a href=\"#Метод-ICE\" data-toc-modified-id=\"Метод-ICE-1.1\"><span class=\"toc-item-num\">1.1&nbsp;&nbsp;</span>Метод ICE</a></span></li><li><span><a href=\"#Метод-RICE\" data-toc-modified-id=\"Метод-RICE-1.2\"><span class=\"toc-item-num\">1.2&nbsp;&nbsp;</span>Метод RICE</a></span></li></ul></li><li><span><a href=\"#Часть-2.-Анализ-A/B-теста\" data-toc-modified-id=\"Часть-2.-Анализ-A/B-теста-2\"><span class=\"toc-item-num\">2&nbsp;&nbsp;</span>Часть 2. Анализ A/B-теста</a></span><ul class=\"toc-item\"><li><span><a href=\"#График-кумулятивной-выручки-по-группам\" data-toc-modified-id=\"График-кумулятивной-выручки-по-группам-2.1\"><span class=\"toc-item-num\">2.1&nbsp;&nbsp;</span>График кумулятивной выручки по группам</a></span></li><li><span><a href=\"#График-кумулятивного-среднего-чека-по-группам\" data-toc-modified-id=\"График-кумулятивного-среднего-чека-по-группам-2.2\"><span class=\"toc-item-num\">2.2&nbsp;&nbsp;</span>График кумулятивного среднего чека по группам</a></span></li><li><span><a href=\"#График-относительного-изменения-кумулятивного-среднего-чека-группы-B-к-группе-A\" data-toc-modified-id=\"График-относительного-изменения-кумулятивного-среднего-чека-группы-B-к-группе-A-2.3\"><span class=\"toc-item-num\">2.3&nbsp;&nbsp;</span>График относительного изменения кумулятивного среднего чека группы B к группе A</a></span></li><li><span><a href=\"#График-кумулятивного-среднего-количества-заказов-на-посетителя-по-группам\" data-toc-modified-id=\"График-кумулятивного-среднего-количества-заказов-на-посетителя-по-группам-2.4\"><span class=\"toc-item-num\">2.4&nbsp;&nbsp;</span>График кумулятивного среднего количества заказов на посетителя по группам</a></span></li><li><span><a href=\"#График-относительного-изменения-кумулятивного-среднего-количества-заказов-на-посетителя-группы-B-к-группе-A\" data-toc-modified-id=\"График-относительного-изменения-кумулятивного-среднего-количества-заказов-на-посетителя-группы-B-к-группе-A-2.5\"><span class=\"toc-item-num\">2.5&nbsp;&nbsp;</span>График относительного изменения кумулятивного среднего количества заказов на посетителя группы B к группе A</a></span></li><li><span><a href=\"#Точечный-график-количества-заказов-по-пользователям\" data-toc-modified-id=\"Точечный-график-количества-заказов-по-пользователям-2.6\"><span class=\"toc-item-num\">2.6&nbsp;&nbsp;</span>Точечный график количества заказов по пользователям</a></span></li><li><span><a href=\"#95-й-и-99-й-перцентили-количества-заказов-на-пользователя.-Выбор-границы-для-определения-аномальных-пользователей\" data-toc-modified-id=\"95-й-и-99-й-перцентили-количества-заказов-на-пользователя.-Выбор-границы-для-определения-аномальных-пользователей-2.7\"><span class=\"toc-item-num\">2.7&nbsp;&nbsp;</span>95-й и 99-й перцентили количества заказов на пользователя. Выбор границы для определения аномальных пользователей</a></span></li><li><span><a href=\"#Точечный-график-стоимостей-заказов\" data-toc-modified-id=\"Точечный-график-стоимостей-заказов-2.8\"><span class=\"toc-item-num\">2.8&nbsp;&nbsp;</span>Точечный график стоимостей заказов</a></span></li><li><span><a href=\"#95-й-и-99-й-перцентили-стоимости-заказов.-Выбор-границ-для-определения-аномальных-заказов\" data-toc-modified-id=\"95-й-и-99-й-перцентили-стоимости-заказов.-Выбор-границ-для-определения-аномальных-заказов-2.9\"><span class=\"toc-item-num\">2.9&nbsp;&nbsp;</span>95-й и 99-й перцентили стоимости заказов. Выбор границ для определения аномальных заказов</a></span></li><li><span><a href=\"#Статистическая-значимость-различий-в-среднем-количестве-заказов-на-посетителя-между-группами-по-«сырым»-данным\" data-toc-modified-id=\"Статистическая-значимость-различий-в-среднем-количестве-заказов-на-посетителя-между-группами-по-«сырым»-данным-2.10\"><span class=\"toc-item-num\">2.10&nbsp;&nbsp;</span>Статистическая значимость различий в среднем количестве заказов на посетителя между группами по «сырым» данным</a></span></li><li><span><a href=\"#Статистическая-значимость-различий-в-среднем-чеке-заказа-между-группами-по-«сырым»-данным\" data-toc-modified-id=\"Статистическая-значимость-различий-в-среднем-чеке-заказа-между-группами-по-«сырым»-данным-2.11\"><span class=\"toc-item-num\">2.11&nbsp;&nbsp;</span>Статистическая значимость различий в среднем чеке заказа между группами по «сырым» данным</a></span></li><li><span><a href=\"#Статистическая-значимость-различий-в-среднем-количестве-заказов-на-посетителя-между-группами-по-«очищенным»-данным\" data-toc-modified-id=\"Статистическая-значимость-различий-в-среднем-количестве-заказов-на-посетителя-между-группами-по-«очищенным»-данным-2.12\"><span class=\"toc-item-num\">2.12&nbsp;&nbsp;</span>Статистическая значимость различий в среднем количестве заказов на посетителя между группами по «очищенным» данным</a></span></li><li><span><a href=\"#Статистическая-значимость-различий-в-среднем-чеке-заказа-между-группами-по-«очищенным»-данным\" data-toc-modified-id=\"Статистическая-значимость-различий-в-среднем-чеке-заказа-между-группами-по-«очищенным»-данным-2.13\"><span class=\"toc-item-num\">2.13&nbsp;&nbsp;</span>Статистическая значимость различий в среднем чеке заказа между группами по «очищенным» данным</a></span></li><li><span><a href=\"#Решение-по-результатам-теста\" data-toc-modified-id=\"Решение-по-результатам-теста-2.14\"><span class=\"toc-item-num\">2.14&nbsp;&nbsp;</span>Решение по результатам теста</a></span></li></ul></li></ul></div>"
   ]
  },
  {
   "cell_type": "markdown",
   "id": "5c47880d",
   "metadata": {},
   "source": [
    "## Часть 1. Приоритизация гипотез\n",
    "**Задачи:**\n",
    "1. Применить фреймворк ICE для приоритизации гипотез.\n",
    "2. Применить фреймворк RICE для приоритизации гипотез.\n",
    "3. Указать, как изменилась приоритизация гипотез при применении RICE вместо ICE.\n",
    "\n",
    "**Файл `hypothesis.csv`:**\n",
    "- `Hypothesis` — краткое описание гипотезы;\n",
    "- `Reach` — охват пользователей по 10-балльной шкале;\n",
    "- `Impact` — влияние на пользователей по 10-балльной шкале;\n",
    "- `Confidence` — уверенность в гипотезе по 10-балльной шкале;\n",
    "- `Efforts` — затраты ресурсов на проверку гипотезы по 10-балльной шкале. Чем больше значение Efforts, тем дороже проверка гипотезы."
   ]
  },
  {
   "cell_type": "code",
   "execution_count": 1,
   "id": "fba2c8fd",
   "metadata": {},
   "outputs": [],
   "source": [
    "# Импорт библиотек\n",
    "import pandas as pd\n",
    "import scipy.stats as stats\n",
    "import datetime as dt\n",
    "import numpy as np\n",
    "import matplotlib.pyplot as plt\n",
    "import seaborn as sns"
   ]
  },
  {
   "cell_type": "code",
   "execution_count": 2,
   "id": "12f4d85a",
   "metadata": {},
   "outputs": [],
   "source": [
    "# Чтение файлов\n",
    "try:\n",
    "    df = pd.read_csv('/datasets/hypothesis.csv')\n",
    "# если не получилось прочитать файл из локальной папки, то загружаем данные из сети\n",
    "except:\n",
    "    df = pd.read_csv('datasets/hypothesis.csv')"
   ]
  },
  {
   "cell_type": "code",
   "execution_count": 3,
   "id": "6903e9da",
   "metadata": {},
   "outputs": [],
   "source": [
    "# Снимаем ограничение на вывод всех символов в записях\n",
    "pd.set_option('display.max_colwidth', None)"
   ]
  },
  {
   "cell_type": "code",
   "execution_count": 4,
   "id": "987f739e",
   "metadata": {},
   "outputs": [
    {
     "data": {
      "text/html": [
       "<div>\n",
       "<style scoped>\n",
       "    .dataframe tbody tr th:only-of-type {\n",
       "        vertical-align: middle;\n",
       "    }\n",
       "\n",
       "    .dataframe tbody tr th {\n",
       "        vertical-align: top;\n",
       "    }\n",
       "\n",
       "    .dataframe thead th {\n",
       "        text-align: right;\n",
       "    }\n",
       "</style>\n",
       "<table border=\"1\" class=\"dataframe\">\n",
       "  <thead>\n",
       "    <tr style=\"text-align: right;\">\n",
       "      <th></th>\n",
       "      <th>Hypothesis</th>\n",
       "      <th>Reach</th>\n",
       "      <th>Impact</th>\n",
       "      <th>Confidence</th>\n",
       "      <th>Efforts</th>\n",
       "    </tr>\n",
       "  </thead>\n",
       "  <tbody>\n",
       "    <tr>\n",
       "      <th>0</th>\n",
       "      <td>Добавить два новых канала привлечения трафика, что позволит привлекать на 30% больше пользователей</td>\n",
       "      <td>3</td>\n",
       "      <td>10</td>\n",
       "      <td>8</td>\n",
       "      <td>6</td>\n",
       "    </tr>\n",
       "    <tr>\n",
       "      <th>1</th>\n",
       "      <td>Запустить собственную службу доставки, что сократит срок доставки заказов</td>\n",
       "      <td>2</td>\n",
       "      <td>5</td>\n",
       "      <td>4</td>\n",
       "      <td>10</td>\n",
       "    </tr>\n",
       "    <tr>\n",
       "      <th>2</th>\n",
       "      <td>Добавить блоки рекомендаций товаров на сайт интернет магазина, чтобы повысить конверсию и средний чек заказа</td>\n",
       "      <td>8</td>\n",
       "      <td>3</td>\n",
       "      <td>7</td>\n",
       "      <td>3</td>\n",
       "    </tr>\n",
       "    <tr>\n",
       "      <th>3</th>\n",
       "      <td>Изменить структура категорий, что увеличит конверсию, т.к. пользователи быстрее найдут нужный товар</td>\n",
       "      <td>8</td>\n",
       "      <td>3</td>\n",
       "      <td>3</td>\n",
       "      <td>8</td>\n",
       "    </tr>\n",
       "    <tr>\n",
       "      <th>4</th>\n",
       "      <td>Изменить цвет фона главной страницы, чтобы увеличить вовлеченность пользователей</td>\n",
       "      <td>3</td>\n",
       "      <td>1</td>\n",
       "      <td>1</td>\n",
       "      <td>1</td>\n",
       "    </tr>\n",
       "    <tr>\n",
       "      <th>5</th>\n",
       "      <td>Добавить страницу отзывов клиентов о магазине, что позволит увеличить количество заказов</td>\n",
       "      <td>3</td>\n",
       "      <td>2</td>\n",
       "      <td>2</td>\n",
       "      <td>3</td>\n",
       "    </tr>\n",
       "    <tr>\n",
       "      <th>6</th>\n",
       "      <td>Показать на главной странице баннеры с актуальными акциями и распродажами, чтобы увеличить конверсию</td>\n",
       "      <td>5</td>\n",
       "      <td>3</td>\n",
       "      <td>8</td>\n",
       "      <td>3</td>\n",
       "    </tr>\n",
       "    <tr>\n",
       "      <th>7</th>\n",
       "      <td>Добавить форму подписки на все основные страницы, чтобы собрать базу клиентов для email-рассылок</td>\n",
       "      <td>10</td>\n",
       "      <td>7</td>\n",
       "      <td>8</td>\n",
       "      <td>5</td>\n",
       "    </tr>\n",
       "    <tr>\n",
       "      <th>8</th>\n",
       "      <td>Запустить акцию, дающую скидку на товар в день рождения</td>\n",
       "      <td>1</td>\n",
       "      <td>9</td>\n",
       "      <td>9</td>\n",
       "      <td>5</td>\n",
       "    </tr>\n",
       "  </tbody>\n",
       "</table>\n",
       "</div>"
      ],
      "text/plain": [
       "                                                                                                     Hypothesis  \\\n",
       "0            Добавить два новых канала привлечения трафика, что позволит привлекать на 30% больше пользователей   \n",
       "1                                     Запустить собственную службу доставки, что сократит срок доставки заказов   \n",
       "2  Добавить блоки рекомендаций товаров на сайт интернет магазина, чтобы повысить конверсию и средний чек заказа   \n",
       "3           Изменить структура категорий, что увеличит конверсию, т.к. пользователи быстрее найдут нужный товар   \n",
       "4                              Изменить цвет фона главной страницы, чтобы увеличить вовлеченность пользователей   \n",
       "5                      Добавить страницу отзывов клиентов о магазине, что позволит увеличить количество заказов   \n",
       "6          Показать на главной странице баннеры с актуальными акциями и распродажами, чтобы увеличить конверсию   \n",
       "7              Добавить форму подписки на все основные страницы, чтобы собрать базу клиентов для email-рассылок   \n",
       "8                                                       Запустить акцию, дающую скидку на товар в день рождения   \n",
       "\n",
       "   Reach  Impact  Confidence  Efforts  \n",
       "0      3      10           8        6  \n",
       "1      2       5           4       10  \n",
       "2      8       3           7        3  \n",
       "3      8       3           3        8  \n",
       "4      3       1           1        1  \n",
       "5      3       2           2        3  \n",
       "6      5       3           8        3  \n",
       "7     10       7           8        5  \n",
       "8      1       9           9        5  "
      ]
     },
     "execution_count": 4,
     "metadata": {},
     "output_type": "execute_result"
    }
   ],
   "source": [
    "df"
   ]
  },
  {
   "attachments": {
    "image.png": {
     "image/png": "[encoded data removed]"
    }
   },
   "cell_type": "markdown",
   "id": "d7291bad",
   "metadata": {},
   "source": [
    "### Метод ICE\n",
    "<div>\n",
    "<img src=\"attachment:image.png\" align=\"centre\" width=\"500\"/>\n",
    "</div>"
   ]
  },
  {
   "cell_type": "code",
   "execution_count": 5,
   "id": "7fd39ddd",
   "metadata": {},
   "outputs": [],
   "source": [
    "# Создаем копию df для работы\n",
    "df_ice = df[['Hypothesis', 'Impact','Confidence','Efforts']].copy()"
   ]
  },
  {
   "cell_type": "code",
   "execution_count": 6,
   "id": "a808e478",
   "metadata": {
    "code_folding": []
   },
   "outputs": [
    {
     "data": {
      "text/html": [
       "<div>\n",
       "<style scoped>\n",
       "    .dataframe tbody tr th:only-of-type {\n",
       "        vertical-align: middle;\n",
       "    }\n",
       "\n",
       "    .dataframe tbody tr th {\n",
       "        vertical-align: top;\n",
       "    }\n",
       "\n",
       "    .dataframe thead th {\n",
       "        text-align: right;\n",
       "    }\n",
       "</style>\n",
       "<table border=\"1\" class=\"dataframe\">\n",
       "  <thead>\n",
       "    <tr style=\"text-align: right;\">\n",
       "      <th></th>\n",
       "      <th>Hypothesis</th>\n",
       "      <th>Impact</th>\n",
       "      <th>Confidence</th>\n",
       "      <th>Efforts</th>\n",
       "      <th>ICE</th>\n",
       "    </tr>\n",
       "  </thead>\n",
       "  <tbody>\n",
       "    <tr>\n",
       "      <th>8</th>\n",
       "      <td>Запустить акцию, дающую скидку на товар в день рождения</td>\n",
       "      <td>9</td>\n",
       "      <td>9</td>\n",
       "      <td>5</td>\n",
       "      <td>16.20</td>\n",
       "    </tr>\n",
       "    <tr>\n",
       "      <th>0</th>\n",
       "      <td>Добавить два новых канала привлечения трафика, что позволит привлекать на 30% больше пользователей</td>\n",
       "      <td>10</td>\n",
       "      <td>8</td>\n",
       "      <td>6</td>\n",
       "      <td>13.33</td>\n",
       "    </tr>\n",
       "    <tr>\n",
       "      <th>7</th>\n",
       "      <td>Добавить форму подписки на все основные страницы, чтобы собрать базу клиентов для email-рассылок</td>\n",
       "      <td>7</td>\n",
       "      <td>8</td>\n",
       "      <td>5</td>\n",
       "      <td>11.20</td>\n",
       "    </tr>\n",
       "    <tr>\n",
       "      <th>6</th>\n",
       "      <td>Показать на главной странице баннеры с актуальными акциями и распродажами, чтобы увеличить конверсию</td>\n",
       "      <td>3</td>\n",
       "      <td>8</td>\n",
       "      <td>3</td>\n",
       "      <td>8.00</td>\n",
       "    </tr>\n",
       "    <tr>\n",
       "      <th>2</th>\n",
       "      <td>Добавить блоки рекомендаций товаров на сайт интернет магазина, чтобы повысить конверсию и средний чек заказа</td>\n",
       "      <td>3</td>\n",
       "      <td>7</td>\n",
       "      <td>3</td>\n",
       "      <td>7.00</td>\n",
       "    </tr>\n",
       "    <tr>\n",
       "      <th>1</th>\n",
       "      <td>Запустить собственную службу доставки, что сократит срок доставки заказов</td>\n",
       "      <td>5</td>\n",
       "      <td>4</td>\n",
       "      <td>10</td>\n",
       "      <td>2.00</td>\n",
       "    </tr>\n",
       "    <tr>\n",
       "      <th>5</th>\n",
       "      <td>Добавить страницу отзывов клиентов о магазине, что позволит увеличить количество заказов</td>\n",
       "      <td>2</td>\n",
       "      <td>2</td>\n",
       "      <td>3</td>\n",
       "      <td>1.33</td>\n",
       "    </tr>\n",
       "    <tr>\n",
       "      <th>3</th>\n",
       "      <td>Изменить структура категорий, что увеличит конверсию, т.к. пользователи быстрее найдут нужный товар</td>\n",
       "      <td>3</td>\n",
       "      <td>3</td>\n",
       "      <td>8</td>\n",
       "      <td>1.12</td>\n",
       "    </tr>\n",
       "    <tr>\n",
       "      <th>4</th>\n",
       "      <td>Изменить цвет фона главной страницы, чтобы увеличить вовлеченность пользователей</td>\n",
       "      <td>1</td>\n",
       "      <td>1</td>\n",
       "      <td>1</td>\n",
       "      <td>1.00</td>\n",
       "    </tr>\n",
       "  </tbody>\n",
       "</table>\n",
       "</div>"
      ],
      "text/plain": [
       "                                                                                                     Hypothesis  \\\n",
       "8                                                       Запустить акцию, дающую скидку на товар в день рождения   \n",
       "0            Добавить два новых канала привлечения трафика, что позволит привлекать на 30% больше пользователей   \n",
       "7              Добавить форму подписки на все основные страницы, чтобы собрать базу клиентов для email-рассылок   \n",
       "6          Показать на главной странице баннеры с актуальными акциями и распродажами, чтобы увеличить конверсию   \n",
       "2  Добавить блоки рекомендаций товаров на сайт интернет магазина, чтобы повысить конверсию и средний чек заказа   \n",
       "1                                     Запустить собственную службу доставки, что сократит срок доставки заказов   \n",
       "5                      Добавить страницу отзывов клиентов о магазине, что позволит увеличить количество заказов   \n",
       "3           Изменить структура категорий, что увеличит конверсию, т.к. пользователи быстрее найдут нужный товар   \n",
       "4                              Изменить цвет фона главной страницы, чтобы увеличить вовлеченность пользователей   \n",
       "\n",
       "   Impact  Confidence  Efforts    ICE  \n",
       "8       9           9        5  16.20  \n",
       "0      10           8        6  13.33  \n",
       "7       7           8        5  11.20  \n",
       "6       3           8        3   8.00  \n",
       "2       3           7        3   7.00  \n",
       "1       5           4       10   2.00  \n",
       "5       2           2        3   1.33  \n",
       "3       3           3        8   1.12  \n",
       "4       1           1        1   1.00  "
      ]
     },
     "execution_count": 6,
     "metadata": {},
     "output_type": "execute_result"
    }
   ],
   "source": [
    "# Расчёт ICE\n",
    "df_ice['ICE'] = round(df_ice['Impact'] * df_ice['Confidence'] / df_ice['Efforts'], 2)\n",
    "\n",
    "# Сортировка по ICE\n",
    "df_ice = df_ice.sort_values(by='ICE', ascending=False)\n",
    "\n",
    "# Вывод df_ice\n",
    "df_ice"
   ]
  },
  {
   "cell_type": "markdown",
   "id": "b5430aa2",
   "metadata": {},
   "source": [
    "<div class=\"alert alert-info\">\n",
    "<font size=\"4\", color = \"black\"><b>ВЫВОД:</b></font>\n",
    "    <br /> \n",
    "    <font size=\"3\", color = \"black\">\n",
    "Фреймворк ICE рекомендует начинать с 8-ой гипотезы. Последней рассматривается 4-ая."
   ]
  },
  {
   "attachments": {
    "image.png": {
     "image/png": "[encoded data removed]"
    }
   },
   "cell_type": "markdown",
   "id": "c32c91e7",
   "metadata": {},
   "source": [
    "### Метод RICE\n",
    "<div>\n",
    "<img src=\"attachment:image.png\" align=\"centre\" width=\"500\"/>\n",
    "</div>"
   ]
  },
  {
   "cell_type": "code",
   "execution_count": 7,
   "id": "8b2445ef",
   "metadata": {},
   "outputs": [],
   "source": [
    "# Создаем копию df для работы\n",
    "df_rice = df.copy()"
   ]
  },
  {
   "cell_type": "code",
   "execution_count": 8,
   "id": "4667c8d0",
   "metadata": {
    "code_folding": [
     0
    ]
   },
   "outputs": [
    {
     "data": {
      "text/html": [
       "<div>\n",
       "<style scoped>\n",
       "    .dataframe tbody tr th:only-of-type {\n",
       "        vertical-align: middle;\n",
       "    }\n",
       "\n",
       "    .dataframe tbody tr th {\n",
       "        vertical-align: top;\n",
       "    }\n",
       "\n",
       "    .dataframe thead th {\n",
       "        text-align: right;\n",
       "    }\n",
       "</style>\n",
       "<table border=\"1\" class=\"dataframe\">\n",
       "  <thead>\n",
       "    <tr style=\"text-align: right;\">\n",
       "      <th></th>\n",
       "      <th>Hypothesis</th>\n",
       "      <th>Reach</th>\n",
       "      <th>Impact</th>\n",
       "      <th>Confidence</th>\n",
       "      <th>Efforts</th>\n",
       "      <th>RICE</th>\n",
       "    </tr>\n",
       "  </thead>\n",
       "  <tbody>\n",
       "    <tr>\n",
       "      <th>7</th>\n",
       "      <td>Добавить форму подписки на все основные страницы, чтобы собрать базу клиентов для email-рассылок</td>\n",
       "      <td>10</td>\n",
       "      <td>7</td>\n",
       "      <td>8</td>\n",
       "      <td>5</td>\n",
       "      <td>112.0</td>\n",
       "    </tr>\n",
       "    <tr>\n",
       "      <th>2</th>\n",
       "      <td>Добавить блоки рекомендаций товаров на сайт интернет магазина, чтобы повысить конверсию и средний чек заказа</td>\n",
       "      <td>8</td>\n",
       "      <td>3</td>\n",
       "      <td>7</td>\n",
       "      <td>3</td>\n",
       "      <td>56.0</td>\n",
       "    </tr>\n",
       "    <tr>\n",
       "      <th>0</th>\n",
       "      <td>Добавить два новых канала привлечения трафика, что позволит привлекать на 30% больше пользователей</td>\n",
       "      <td>3</td>\n",
       "      <td>10</td>\n",
       "      <td>8</td>\n",
       "      <td>6</td>\n",
       "      <td>40.0</td>\n",
       "    </tr>\n",
       "    <tr>\n",
       "      <th>6</th>\n",
       "      <td>Показать на главной странице баннеры с актуальными акциями и распродажами, чтобы увеличить конверсию</td>\n",
       "      <td>5</td>\n",
       "      <td>3</td>\n",
       "      <td>8</td>\n",
       "      <td>3</td>\n",
       "      <td>40.0</td>\n",
       "    </tr>\n",
       "    <tr>\n",
       "      <th>8</th>\n",
       "      <td>Запустить акцию, дающую скидку на товар в день рождения</td>\n",
       "      <td>1</td>\n",
       "      <td>9</td>\n",
       "      <td>9</td>\n",
       "      <td>5</td>\n",
       "      <td>16.2</td>\n",
       "    </tr>\n",
       "    <tr>\n",
       "      <th>3</th>\n",
       "      <td>Изменить структура категорий, что увеличит конверсию, т.к. пользователи быстрее найдут нужный товар</td>\n",
       "      <td>8</td>\n",
       "      <td>3</td>\n",
       "      <td>3</td>\n",
       "      <td>8</td>\n",
       "      <td>9.0</td>\n",
       "    </tr>\n",
       "    <tr>\n",
       "      <th>1</th>\n",
       "      <td>Запустить собственную службу доставки, что сократит срок доставки заказов</td>\n",
       "      <td>2</td>\n",
       "      <td>5</td>\n",
       "      <td>4</td>\n",
       "      <td>10</td>\n",
       "      <td>4.0</td>\n",
       "    </tr>\n",
       "    <tr>\n",
       "      <th>5</th>\n",
       "      <td>Добавить страницу отзывов клиентов о магазине, что позволит увеличить количество заказов</td>\n",
       "      <td>3</td>\n",
       "      <td>2</td>\n",
       "      <td>2</td>\n",
       "      <td>3</td>\n",
       "      <td>4.0</td>\n",
       "    </tr>\n",
       "    <tr>\n",
       "      <th>4</th>\n",
       "      <td>Изменить цвет фона главной страницы, чтобы увеличить вовлеченность пользователей</td>\n",
       "      <td>3</td>\n",
       "      <td>1</td>\n",
       "      <td>1</td>\n",
       "      <td>1</td>\n",
       "      <td>3.0</td>\n",
       "    </tr>\n",
       "  </tbody>\n",
       "</table>\n",
       "</div>"
      ],
      "text/plain": [
       "                                                                                                     Hypothesis  \\\n",
       "7              Добавить форму подписки на все основные страницы, чтобы собрать базу клиентов для email-рассылок   \n",
       "2  Добавить блоки рекомендаций товаров на сайт интернет магазина, чтобы повысить конверсию и средний чек заказа   \n",
       "0            Добавить два новых канала привлечения трафика, что позволит привлекать на 30% больше пользователей   \n",
       "6          Показать на главной странице баннеры с актуальными акциями и распродажами, чтобы увеличить конверсию   \n",
       "8                                                       Запустить акцию, дающую скидку на товар в день рождения   \n",
       "3           Изменить структура категорий, что увеличит конверсию, т.к. пользователи быстрее найдут нужный товар   \n",
       "1                                     Запустить собственную службу доставки, что сократит срок доставки заказов   \n",
       "5                      Добавить страницу отзывов клиентов о магазине, что позволит увеличить количество заказов   \n",
       "4                              Изменить цвет фона главной страницы, чтобы увеличить вовлеченность пользователей   \n",
       "\n",
       "   Reach  Impact  Confidence  Efforts   RICE  \n",
       "7     10       7           8        5  112.0  \n",
       "2      8       3           7        3   56.0  \n",
       "0      3      10           8        6   40.0  \n",
       "6      5       3           8        3   40.0  \n",
       "8      1       9           9        5   16.2  \n",
       "3      8       3           3        8    9.0  \n",
       "1      2       5           4       10    4.0  \n",
       "5      3       2           2        3    4.0  \n",
       "4      3       1           1        1    3.0  "
      ]
     },
     "execution_count": 8,
     "metadata": {},
     "output_type": "execute_result"
    }
   ],
   "source": [
    "# Расчёт RICE\n",
    "df_rice['RICE'] = df_rice['Reach'] * df_rice['Impact'] * df_rice['Confidence'] / df_rice['Efforts']\n",
    "\n",
    "# Сортировка по RICE\n",
    "df_rice = df_rice.sort_values(by='RICE', ascending=False)\n",
    "\n",
    "# Вывод df_rice\n",
    "df_rice"
   ]
  },
  {
   "cell_type": "markdown",
   "id": "5639e4dd",
   "metadata": {},
   "source": [
    "<div class=\"alert alert-info\">\n",
    "<font size=\"4\", color = \"black\"><b>ВЫВОД:</b></font>\n",
    "    <br /> \n",
    "    <font size=\"3\", color = \"black\">\n",
    "\n",
    "Фреймворк RICE рекомендует начинать с 7-ой гипотезы. Последней рассматривается 4-ая."
   ]
  },
  {
   "cell_type": "markdown",
   "id": "9eb2365a",
   "metadata": {},
   "source": [
    "Соединим таблицы"
   ]
  },
  {
   "cell_type": "code",
   "execution_count": 9,
   "id": "60dde253",
   "metadata": {},
   "outputs": [
    {
     "data": {
      "text/html": [
       "<div>\n",
       "<style scoped>\n",
       "    .dataframe tbody tr th:only-of-type {\n",
       "        vertical-align: middle;\n",
       "    }\n",
       "\n",
       "    .dataframe tbody tr th {\n",
       "        vertical-align: top;\n",
       "    }\n",
       "\n",
       "    .dataframe thead th {\n",
       "        text-align: right;\n",
       "    }\n",
       "</style>\n",
       "<table border=\"1\" class=\"dataframe\">\n",
       "  <thead>\n",
       "    <tr style=\"text-align: right;\">\n",
       "      <th></th>\n",
       "      <th>Hypothesis</th>\n",
       "      <th>ICE</th>\n",
       "      <th>RICE</th>\n",
       "    </tr>\n",
       "  </thead>\n",
       "  <tbody>\n",
       "    <tr>\n",
       "      <th>8</th>\n",
       "      <td>Запустить акцию, дающую скидку на товар в день рождения</td>\n",
       "      <td>16.20</td>\n",
       "      <td>16.2</td>\n",
       "    </tr>\n",
       "    <tr>\n",
       "      <th>0</th>\n",
       "      <td>Добавить два новых канала привлечения трафика, что позволит привлекать на 30% больше пользователей</td>\n",
       "      <td>13.33</td>\n",
       "      <td>40.0</td>\n",
       "    </tr>\n",
       "    <tr>\n",
       "      <th>7</th>\n",
       "      <td>Добавить форму подписки на все основные страницы, чтобы собрать базу клиентов для email-рассылок</td>\n",
       "      <td>11.20</td>\n",
       "      <td>112.0</td>\n",
       "    </tr>\n",
       "    <tr>\n",
       "      <th>6</th>\n",
       "      <td>Показать на главной странице баннеры с актуальными акциями и распродажами, чтобы увеличить конверсию</td>\n",
       "      <td>8.00</td>\n",
       "      <td>40.0</td>\n",
       "    </tr>\n",
       "    <tr>\n",
       "      <th>2</th>\n",
       "      <td>Добавить блоки рекомендаций товаров на сайт интернет магазина, чтобы повысить конверсию и средний чек заказа</td>\n",
       "      <td>7.00</td>\n",
       "      <td>56.0</td>\n",
       "    </tr>\n",
       "    <tr>\n",
       "      <th>1</th>\n",
       "      <td>Запустить собственную службу доставки, что сократит срок доставки заказов</td>\n",
       "      <td>2.00</td>\n",
       "      <td>4.0</td>\n",
       "    </tr>\n",
       "    <tr>\n",
       "      <th>5</th>\n",
       "      <td>Добавить страницу отзывов клиентов о магазине, что позволит увеличить количество заказов</td>\n",
       "      <td>1.33</td>\n",
       "      <td>4.0</td>\n",
       "    </tr>\n",
       "    <tr>\n",
       "      <th>3</th>\n",
       "      <td>Изменить структура категорий, что увеличит конверсию, т.к. пользователи быстрее найдут нужный товар</td>\n",
       "      <td>1.12</td>\n",
       "      <td>9.0</td>\n",
       "    </tr>\n",
       "    <tr>\n",
       "      <th>4</th>\n",
       "      <td>Изменить цвет фона главной страницы, чтобы увеличить вовлеченность пользователей</td>\n",
       "      <td>1.00</td>\n",
       "      <td>3.0</td>\n",
       "    </tr>\n",
       "  </tbody>\n",
       "</table>\n",
       "</div>"
      ],
      "text/plain": [
       "                                                                                                     Hypothesis  \\\n",
       "8                                                       Запустить акцию, дающую скидку на товар в день рождения   \n",
       "0            Добавить два новых канала привлечения трафика, что позволит привлекать на 30% больше пользователей   \n",
       "7              Добавить форму подписки на все основные страницы, чтобы собрать базу клиентов для email-рассылок   \n",
       "6          Показать на главной странице баннеры с актуальными акциями и распродажами, чтобы увеличить конверсию   \n",
       "2  Добавить блоки рекомендаций товаров на сайт интернет магазина, чтобы повысить конверсию и средний чек заказа   \n",
       "1                                     Запустить собственную службу доставки, что сократит срок доставки заказов   \n",
       "5                      Добавить страницу отзывов клиентов о магазине, что позволит увеличить количество заказов   \n",
       "3           Изменить структура категорий, что увеличит конверсию, т.к. пользователи быстрее найдут нужный товар   \n",
       "4                              Изменить цвет фона главной страницы, чтобы увеличить вовлеченность пользователей   \n",
       "\n",
       "     ICE   RICE  \n",
       "8  16.20   16.2  \n",
       "0  13.33   40.0  \n",
       "7  11.20  112.0  \n",
       "6   8.00   40.0  \n",
       "2   7.00   56.0  \n",
       "1   2.00    4.0  \n",
       "5   1.33    4.0  \n",
       "3   1.12    9.0  \n",
       "4   1.00    3.0  "
      ]
     },
     "execution_count": 9,
     "metadata": {},
     "output_type": "execute_result"
    }
   ],
   "source": [
    "# Объединение таблиц\n",
    "df_ice.merge(df_rice)[['Hypothesis','ICE','RICE']]\\\n",
    ".set_axis(df_ice.index)\\\n",
    ".sort_values(by=['ICE','RICE'], ascending=False)"
   ]
  },
  {
   "cell_type": "code",
   "execution_count": 10,
   "id": "a420a8d6",
   "metadata": {},
   "outputs": [
    {
     "data": {
      "image/png": "[encoded data removed]",
      "text/plain": [
       "<Figure size 432x288 with 1 Axes>"
      ]
     },
     "metadata": {
      "needs_background": "light"
     },
     "output_type": "display_data"
    }
   ],
   "source": [
    "df_ice.merge(df_rice)[['Hypothesis','ICE','RICE']]\\\n",
    ".set_axis(df_ice.index)\\\n",
    ".sort_values(by=['ICE','RICE'], ascending=True).plot(kind='barh', title='Сравнение ICE и RICE');\n",
    "plt.xlabel(\"Оценка\")\n",
    "plt.ylabel(\"Номер гипотезы\");"
   ]
  },
  {
   "cell_type": "markdown",
   "id": "8ccc6a00",
   "metadata": {},
   "source": [
    "<div style=\"border:solid green 2px; padding: 10px\">\n",
    "<font size=\"4\", color = \"black\"><b>Выводы:</b></font> <br/>\n",
    "            \n",
    "Два фреймворка производят приоритизацию по-разному. Вариант RICE учитывает охват пользователей (REACH) - данный показатель поднимает оценки показателей (в данном случае).\n",
    "\n",
    "Если есть возможноть оценить охват пользователей, то оптимальнее использовать RICE, однако, при одинаковом охвате достаточно ICE."
   ]
  },
  {
   "cell_type": "markdown",
   "id": "a664997d",
   "metadata": {},
   "source": [
    "## Часть 2. Анализ A/B-теста\n",
    "**Задача:**\n",
    "\n",
    "Проанализировать A/B-тест.\n",
    "\n",
    "Файл `/datasets/orders.csv`:\n",
    "- `transactionId` — идентификатор заказа;\n",
    "- `visitorId` — идентификатор пользователя, совершившего заказ;\n",
    "- `date` — дата, когда был совершён заказ;\n",
    "- `revenue` — выручка заказа;\n",
    "- `group` — группа A/B-теста, в которую попал заказ.\n",
    "\n",
    "Файл `/datasets/visitors.csv`:\n",
    "- `date` — дата;\n",
    "- `group` — группа A/B-теста;\n",
    "- `visitors` — количество пользователей в указанную дату в указанной группе A/B-теста.\n"
   ]
  },
  {
   "cell_type": "code",
   "execution_count": 11,
   "id": "598b9539",
   "metadata": {},
   "outputs": [],
   "source": [
    "# Чтение файлов\n",
    "try:\n",
    "    orders = pd.read_csv('/datasets/orders.csv')\n",
    "    visitors = pd.read_csv('/datasets/visitors.csv')\n",
    "# если не получилось прочитать файл из локальной папки, то загружаем данные из сети\n",
    "except:\n",
    "    orders = pd.read_csv('datasets/orders.csv')\n",
    "    visitors = pd.read_csv('datasets/visitors.csv')"
   ]
  },
  {
   "cell_type": "markdown",
   "id": "d4336391",
   "metadata": {},
   "source": [
    "Выполним предобработку данных:"
   ]
  },
  {
   "cell_type": "code",
   "execution_count": 12,
   "id": "d6569c90",
   "metadata": {},
   "outputs": [
    {
     "name": "stdout",
     "output_type": "stream",
     "text": [
      "<class 'pandas.core.frame.DataFrame'>\n",
      "RangeIndex: 1197 entries, 0 to 1196\n",
      "Data columns (total 5 columns):\n",
      " #   Column         Non-Null Count  Dtype \n",
      "---  ------         --------------  ----- \n",
      " 0   transactionId  1197 non-null   int64 \n",
      " 1   visitorId      1197 non-null   int64 \n",
      " 2   date           1197 non-null   object\n",
      " 3   revenue        1197 non-null   int64 \n",
      " 4   group          1197 non-null   object\n",
      "dtypes: int64(3), object(2)\n",
      "memory usage: 46.9+ KB\n"
     ]
    }
   ],
   "source": [
    "orders.info()"
   ]
  },
  {
   "cell_type": "code",
   "execution_count": 13,
   "id": "f82c5848",
   "metadata": {
    "scrolled": true
   },
   "outputs": [
    {
     "name": "stdout",
     "output_type": "stream",
     "text": [
      "<class 'pandas.core.frame.DataFrame'>\n",
      "RangeIndex: 62 entries, 0 to 61\n",
      "Data columns (total 3 columns):\n",
      " #   Column    Non-Null Count  Dtype \n",
      "---  ------    --------------  ----- \n",
      " 0   date      62 non-null     object\n",
      " 1   group     62 non-null     object\n",
      " 2   visitors  62 non-null     int64 \n",
      "dtypes: int64(1), object(2)\n",
      "memory usage: 1.6+ KB\n"
     ]
    }
   ],
   "source": [
    "visitors.info()"
   ]
  },
  {
   "cell_type": "code",
   "execution_count": 14,
   "id": "14034998",
   "metadata": {},
   "outputs": [
    {
     "data": {
      "text/plain": [
       "0"
      ]
     },
     "execution_count": 14,
     "metadata": {},
     "output_type": "execute_result"
    }
   ],
   "source": [
    "orders.duplicated().sum()"
   ]
  },
  {
   "cell_type": "code",
   "execution_count": 15,
   "id": "3f0eab22",
   "metadata": {},
   "outputs": [
    {
     "data": {
      "text/plain": [
       "0"
      ]
     },
     "execution_count": 15,
     "metadata": {},
     "output_type": "execute_result"
    }
   ],
   "source": [
    "visitors.duplicated().sum()"
   ]
  },
  {
   "cell_type": "markdown",
   "id": "35c4d5d9",
   "metadata": {},
   "source": [
    "Полных дубликатов нет"
   ]
  },
  {
   "cell_type": "code",
   "execution_count": 16,
   "id": "ba9e6673",
   "metadata": {},
   "outputs": [
    {
     "data": {
      "text/plain": [
       "transactionId    1197\n",
       "visitorId        1031\n",
       "date               31\n",
       "revenue           713\n",
       "group               2\n",
       "dtype: int64"
      ]
     },
     "execution_count": 16,
     "metadata": {},
     "output_type": "execute_result"
    }
   ],
   "source": [
    "orders.nunique()"
   ]
  },
  {
   "cell_type": "code",
   "execution_count": 17,
   "id": "af62ed86",
   "metadata": {},
   "outputs": [
    {
     "data": {
      "text/plain": [
       "date        31\n",
       "group        2\n",
       "visitors    58\n",
       "dtype: int64"
      ]
     },
     "execution_count": 17,
     "metadata": {},
     "output_type": "execute_result"
    }
   ],
   "source": [
    "visitors.nunique()"
   ]
  },
  {
   "cell_type": "code",
   "execution_count": 18,
   "id": "b9c3ffe4",
   "metadata": {},
   "outputs": [
    {
     "name": "stdout",
     "output_type": "stream",
     "text": [
      "Начало теста: 2019-08-01\n",
      "Конец теста: 2019-08-31\n"
     ]
    }
   ],
   "source": [
    "print('Начало теста:', orders['date'].min())\n",
    "print('Конец теста:', orders['date'].max())"
   ]
  },
  {
   "cell_type": "code",
   "execution_count": 19,
   "id": "da3450a9",
   "metadata": {},
   "outputs": [
    {
     "data": {
      "text/html": [
       "<div>\n",
       "<style scoped>\n",
       "    .dataframe tbody tr th:only-of-type {\n",
       "        vertical-align: middle;\n",
       "    }\n",
       "\n",
       "    .dataframe tbody tr th {\n",
       "        vertical-align: top;\n",
       "    }\n",
       "\n",
       "    .dataframe thead th {\n",
       "        text-align: right;\n",
       "    }\n",
       "</style>\n",
       "<table border=\"1\" class=\"dataframe\">\n",
       "  <thead>\n",
       "    <tr style=\"text-align: right;\">\n",
       "      <th></th>\n",
       "      <th>revenue</th>\n",
       "    </tr>\n",
       "    <tr>\n",
       "      <th>group</th>\n",
       "      <th></th>\n",
       "    </tr>\n",
       "  </thead>\n",
       "  <tbody>\n",
       "    <tr>\n",
       "      <th>1</th>\n",
       "      <td>973</td>\n",
       "    </tr>\n",
       "    <tr>\n",
       "      <th>2</th>\n",
       "      <td>58</td>\n",
       "    </tr>\n",
       "  </tbody>\n",
       "</table>\n",
       "</div>"
      ],
      "text/plain": [
       "       revenue\n",
       "group         \n",
       "1          973\n",
       "2           58"
      ]
     },
     "execution_count": 19,
     "metadata": {},
     "output_type": "execute_result"
    }
   ],
   "source": [
    "# Число ошибочных распределений\n",
    "orders\\\n",
    ".pivot_table(index=['visitorId'], \n",
    "             values=['group','revenue'], \n",
    "             aggfunc='nunique'\n",
    "            )\\\n",
    ".pivot_table(index=['group'], \n",
    "             values=['revenue'], \n",
    "             aggfunc='count'\n",
    "            )"
   ]
  },
  {
   "cell_type": "code",
   "execution_count": 20,
   "id": "b64c382e",
   "metadata": {},
   "outputs": [],
   "source": [
    "# id \"дефектных\" пользователей\n",
    "index_ord = orders.pivot_table(index=['visitorId'], \n",
    "             values=['group'], \n",
    "             aggfunc='nunique'\n",
    "            )\\\n",
    ".query('group == 2').index"
   ]
  },
  {
   "cell_type": "code",
   "execution_count": 21,
   "id": "74d278c9",
   "metadata": {},
   "outputs": [
    {
     "data": {
      "text/html": [
       "<div>\n",
       "<style scoped>\n",
       "    .dataframe tbody tr th:only-of-type {\n",
       "        vertical-align: middle;\n",
       "    }\n",
       "\n",
       "    .dataframe tbody tr th {\n",
       "        vertical-align: top;\n",
       "    }\n",
       "\n",
       "    .dataframe thead th {\n",
       "        text-align: right;\n",
       "    }\n",
       "</style>\n",
       "<table border=\"1\" class=\"dataframe\">\n",
       "  <thead>\n",
       "    <tr style=\"text-align: right;\">\n",
       "      <th></th>\n",
       "      <th>transactionId</th>\n",
       "      <th>visitorId</th>\n",
       "      <th>date</th>\n",
       "      <th>revenue</th>\n",
       "      <th>group</th>\n",
       "    </tr>\n",
       "  </thead>\n",
       "  <tbody>\n",
       "    <tr>\n",
       "      <th>703</th>\n",
       "      <td>4293855558</td>\n",
       "      <td>8300375</td>\n",
       "      <td>2019-08-07</td>\n",
       "      <td>1790</td>\n",
       "      <td>A</td>\n",
       "    </tr>\n",
       "    <tr>\n",
       "      <th>71</th>\n",
       "      <td>3679129301</td>\n",
       "      <td>8300375</td>\n",
       "      <td>2019-08-01</td>\n",
       "      <td>10510</td>\n",
       "      <td>B</td>\n",
       "    </tr>\n",
       "    <tr>\n",
       "      <th>823</th>\n",
       "      <td>2971973105</td>\n",
       "      <td>199603092</td>\n",
       "      <td>2019-08-27</td>\n",
       "      <td>2790</td>\n",
       "      <td>A</td>\n",
       "    </tr>\n",
       "    <tr>\n",
       "      <th>246</th>\n",
       "      <td>437656952</td>\n",
       "      <td>199603092</td>\n",
       "      <td>2019-08-02</td>\n",
       "      <td>3488</td>\n",
       "      <td>B</td>\n",
       "    </tr>\n",
       "    <tr>\n",
       "      <th>26</th>\n",
       "      <td>2223239646</td>\n",
       "      <td>199603092</td>\n",
       "      <td>2019-08-15</td>\n",
       "      <td>3488</td>\n",
       "      <td>A</td>\n",
       "    </tr>\n",
       "    <tr>\n",
       "      <th>...</th>\n",
       "      <td>...</td>\n",
       "      <td>...</td>\n",
       "      <td>...</td>\n",
       "      <td>...</td>\n",
       "      <td>...</td>\n",
       "    </tr>\n",
       "    <tr>\n",
       "      <th>187</th>\n",
       "      <td>2048878902</td>\n",
       "      <td>4256040402</td>\n",
       "      <td>2019-08-17</td>\n",
       "      <td>1550</td>\n",
       "      <td>A</td>\n",
       "    </tr>\n",
       "    <tr>\n",
       "      <th>114</th>\n",
       "      <td>1120327437</td>\n",
       "      <td>4256040402</td>\n",
       "      <td>2019-08-01</td>\n",
       "      <td>5800</td>\n",
       "      <td>A</td>\n",
       "    </tr>\n",
       "    <tr>\n",
       "      <th>60</th>\n",
       "      <td>1421016313</td>\n",
       "      <td>4256040402</td>\n",
       "      <td>2019-08-16</td>\n",
       "      <td>56650</td>\n",
       "      <td>B</td>\n",
       "    </tr>\n",
       "    <tr>\n",
       "      <th>662</th>\n",
       "      <td>1811671147</td>\n",
       "      <td>4266935830</td>\n",
       "      <td>2019-08-29</td>\n",
       "      <td>78990</td>\n",
       "      <td>A</td>\n",
       "    </tr>\n",
       "    <tr>\n",
       "      <th>682</th>\n",
       "      <td>1216533772</td>\n",
       "      <td>4266935830</td>\n",
       "      <td>2019-08-29</td>\n",
       "      <td>78990</td>\n",
       "      <td>B</td>\n",
       "    </tr>\n",
       "  </tbody>\n",
       "</table>\n",
       "<p>181 rows × 5 columns</p>\n",
       "</div>"
      ],
      "text/plain": [
       "     transactionId   visitorId        date  revenue group\n",
       "703     4293855558     8300375  2019-08-07     1790     A\n",
       "71      3679129301     8300375  2019-08-01    10510     B\n",
       "823     2971973105   199603092  2019-08-27     2790     A\n",
       "246      437656952   199603092  2019-08-02     3488     B\n",
       "26      2223239646   199603092  2019-08-15     3488     A\n",
       "..             ...         ...         ...      ...   ...\n",
       "187     2048878902  4256040402  2019-08-17     1550     A\n",
       "114     1120327437  4256040402  2019-08-01     5800     A\n",
       "60      1421016313  4256040402  2019-08-16    56650     B\n",
       "662     1811671147  4266935830  2019-08-29    78990     A\n",
       "682     1216533772  4266935830  2019-08-29    78990     B\n",
       "\n",
       "[181 rows x 5 columns]"
      ]
     },
     "execution_count": 21,
     "metadata": {},
     "output_type": "execute_result"
    }
   ],
   "source": [
    "orders.query('visitorId in @index_ord').sort_values(by='visitorId')"
   ]
  },
  {
   "cell_type": "markdown",
   "id": "b34aa339",
   "metadata": {},
   "source": [
    "<div style=\"border:solid orange 2px; padding: 10px\">\n",
    "<font size=\"4\", color = \"black\"><b>Итоги:</b></font> <br/>\n",
    "\n",
    "- есть повторяющиеся клиенты;\n",
    "- групп в тесте 2;\n",
    "- 31 день: с 01/08/2019 по 31/08/2019;\n",
    "- в двух группах находятся 58 покупателей;\n",
    "- \"дефектные\" покупатели занимают 181 запись.\n",
    "\n",
    "Так как в данных не должно быть покупателей, которые попадают в обе группы, то удалим их."
   ]
  },
  {
   "cell_type": "code",
   "execution_count": 22,
   "id": "110adfea",
   "metadata": {},
   "outputs": [
    {
     "name": "stdout",
     "output_type": "stream",
     "text": [
      "Кол-во \"дефектных\" записей в группе A: 89\n",
      "Кол-во \"дефектных\" записей в группе B: 92\n"
     ]
    }
   ],
   "source": [
    "print('Кол-во \"дефектных\" записей в группе A:', \n",
    "      orders.query('visitorId in @index_ord & group == \"A\"')['visitorId'].count()\n",
    "     )\n",
    "\n",
    "print('Кол-во \"дефектных\" записей в группе B:', \n",
    "      orders.query('visitorId in @index_ord & group == \"B\"')['visitorId'].count()\n",
    "     )"
   ]
  },
  {
   "cell_type": "code",
   "execution_count": 23,
   "id": "f628234d",
   "metadata": {},
   "outputs": [
    {
     "name": "stdout",
     "output_type": "stream",
     "text": [
      "Кол-во записей в группе A: 557\n",
      "Кол-во записей в группе B: 640\n"
     ]
    }
   ],
   "source": [
    "print('Кол-во записей в группе A:', \n",
    "      orders.query('group == \"A\"')['visitorId'].count()\n",
    "     )\n",
    "\n",
    "print('Кол-во записей в группе B:', \n",
    "      orders.query('group == \"B\"')['visitorId'].count()\n",
    "     )"
   ]
  },
  {
   "cell_type": "code",
   "execution_count": 24,
   "id": "e50731cc",
   "metadata": {},
   "outputs": [
    {
     "name": "stdout",
     "output_type": "stream",
     "text": [
      "Потери записей в группе A после очистки: 15.98 %\n",
      "Потери записей в группе B после очистки: 14.38 %\n"
     ]
    }
   ],
   "source": [
    "print('Потери записей в группе A после очистки:', \n",
    "      round((1 - (orders.query('group == \"A\"')['visitorId'].count()\n",
    "      - orders.query('visitorId in @index_ord & group == \"A\"')['visitorId'].count())\n",
    "      /orders.query('group == \"A\"')['visitorId'].count()) * 100, 2),\n",
    "      '%'\n",
    "     )\n",
    "\n",
    "print('Потери записей в группе B после очистки:', \n",
    "      round((1 - (orders.query('group == \"B\"')['visitorId'].count()\n",
    "      - orders.query('visitorId in @index_ord & group == \"B\"')['visitorId'].count())\n",
    "      / orders.query('group == \"B\"')['visitorId'].count()) * 100, 2),\n",
    "      '%'\n",
    "     )"
   ]
  },
  {
   "cell_type": "code",
   "execution_count": 25,
   "id": "0a819af9",
   "metadata": {
    "scrolled": true
   },
   "outputs": [],
   "source": [
    "# Данные для вычитания из visitors\n",
    "delete_visit = orders.query('visitorId in @index_ord').pivot_table(index=['date','group'], values='revenue', aggfunc='count')"
   ]
  },
  {
   "cell_type": "code",
   "execution_count": 26,
   "id": "46a31d2a",
   "metadata": {},
   "outputs": [
    {
     "data": {
      "text/html": [
       "<div>\n",
       "<style scoped>\n",
       "    .dataframe tbody tr th:only-of-type {\n",
       "        vertical-align: middle;\n",
       "    }\n",
       "\n",
       "    .dataframe tbody tr th {\n",
       "        vertical-align: top;\n",
       "    }\n",
       "\n",
       "    .dataframe thead th {\n",
       "        text-align: right;\n",
       "    }\n",
       "</style>\n",
       "<table border=\"1\" class=\"dataframe\">\n",
       "  <thead>\n",
       "    <tr style=\"text-align: right;\">\n",
       "      <th></th>\n",
       "      <th>transactionId</th>\n",
       "      <th>visitorId</th>\n",
       "      <th>date</th>\n",
       "      <th>revenue</th>\n",
       "      <th>group</th>\n",
       "    </tr>\n",
       "  </thead>\n",
       "  <tbody>\n",
       "    <tr>\n",
       "      <th>0</th>\n",
       "      <td>3667963787</td>\n",
       "      <td>3312258926</td>\n",
       "      <td>2019-08-15</td>\n",
       "      <td>1650</td>\n",
       "      <td>B</td>\n",
       "    </tr>\n",
       "    <tr>\n",
       "      <th>1</th>\n",
       "      <td>2804400009</td>\n",
       "      <td>3642806036</td>\n",
       "      <td>2019-08-15</td>\n",
       "      <td>730</td>\n",
       "      <td>B</td>\n",
       "    </tr>\n",
       "    <tr>\n",
       "      <th>2</th>\n",
       "      <td>2961555356</td>\n",
       "      <td>4069496402</td>\n",
       "      <td>2019-08-15</td>\n",
       "      <td>400</td>\n",
       "      <td>A</td>\n",
       "    </tr>\n",
       "    <tr>\n",
       "      <th>3</th>\n",
       "      <td>3797467345</td>\n",
       "      <td>1196621759</td>\n",
       "      <td>2019-08-15</td>\n",
       "      <td>9759</td>\n",
       "      <td>B</td>\n",
       "    </tr>\n",
       "    <tr>\n",
       "      <th>4</th>\n",
       "      <td>2282983706</td>\n",
       "      <td>2322279887</td>\n",
       "      <td>2019-08-15</td>\n",
       "      <td>2308</td>\n",
       "      <td>B</td>\n",
       "    </tr>\n",
       "  </tbody>\n",
       "</table>\n",
       "</div>"
      ],
      "text/plain": [
       "   transactionId   visitorId        date  revenue group\n",
       "0     3667963787  3312258926  2019-08-15     1650     B\n",
       "1     2804400009  3642806036  2019-08-15      730     B\n",
       "2     2961555356  4069496402  2019-08-15      400     A\n",
       "3     3797467345  1196621759  2019-08-15     9759     B\n",
       "4     2282983706  2322279887  2019-08-15     2308     B"
      ]
     },
     "execution_count": 26,
     "metadata": {},
     "output_type": "execute_result"
    }
   ],
   "source": [
    "orders.head()"
   ]
  },
  {
   "cell_type": "code",
   "execution_count": 27,
   "id": "b7e18370",
   "metadata": {},
   "outputs": [
    {
     "data": {
      "text/html": [
       "<div>\n",
       "<style scoped>\n",
       "    .dataframe tbody tr th:only-of-type {\n",
       "        vertical-align: middle;\n",
       "    }\n",
       "\n",
       "    .dataframe tbody tr th {\n",
       "        vertical-align: top;\n",
       "    }\n",
       "\n",
       "    .dataframe thead th {\n",
       "        text-align: right;\n",
       "    }\n",
       "</style>\n",
       "<table border=\"1\" class=\"dataframe\">\n",
       "  <thead>\n",
       "    <tr style=\"text-align: right;\">\n",
       "      <th></th>\n",
       "      <th></th>\n",
       "      <th>revenue</th>\n",
       "    </tr>\n",
       "    <tr>\n",
       "      <th>date</th>\n",
       "      <th>group</th>\n",
       "      <th></th>\n",
       "    </tr>\n",
       "  </thead>\n",
       "  <tbody>\n",
       "    <tr>\n",
       "      <th rowspan=\"2\" valign=\"top\">2019-08-01</th>\n",
       "      <th>A</th>\n",
       "      <td>1</td>\n",
       "    </tr>\n",
       "    <tr>\n",
       "      <th>B</th>\n",
       "      <td>4</td>\n",
       "    </tr>\n",
       "    <tr>\n",
       "      <th rowspan=\"2\" valign=\"top\">2019-08-02</th>\n",
       "      <th>A</th>\n",
       "      <td>1</td>\n",
       "    </tr>\n",
       "    <tr>\n",
       "      <th>B</th>\n",
       "      <td>1</td>\n",
       "    </tr>\n",
       "    <tr>\n",
       "      <th>2019-08-03</th>\n",
       "      <th>B</th>\n",
       "      <td>2</td>\n",
       "    </tr>\n",
       "  </tbody>\n",
       "</table>\n",
       "</div>"
      ],
      "text/plain": [
       "                  revenue\n",
       "date       group         \n",
       "2019-08-01 A            1\n",
       "           B            4\n",
       "2019-08-02 A            1\n",
       "           B            1\n",
       "2019-08-03 B            2"
      ]
     },
     "execution_count": 27,
     "metadata": {},
     "output_type": "execute_result"
    }
   ],
   "source": [
    "delete_visit.head()"
   ]
  },
  {
   "cell_type": "code",
   "execution_count": 28,
   "id": "83a5b856",
   "metadata": {},
   "outputs": [
    {
     "data": {
      "text/html": [
       "<div>\n",
       "<style scoped>\n",
       "    .dataframe tbody tr th:only-of-type {\n",
       "        vertical-align: middle;\n",
       "    }\n",
       "\n",
       "    .dataframe tbody tr th {\n",
       "        vertical-align: top;\n",
       "    }\n",
       "\n",
       "    .dataframe thead th {\n",
       "        text-align: right;\n",
       "    }\n",
       "</style>\n",
       "<table border=\"1\" class=\"dataframe\">\n",
       "  <thead>\n",
       "    <tr style=\"text-align: right;\">\n",
       "      <th></th>\n",
       "      <th>date</th>\n",
       "      <th>group</th>\n",
       "      <th>visitors</th>\n",
       "    </tr>\n",
       "  </thead>\n",
       "  <tbody>\n",
       "    <tr>\n",
       "      <th>0</th>\n",
       "      <td>2019-08-01</td>\n",
       "      <td>A</td>\n",
       "      <td>719</td>\n",
       "    </tr>\n",
       "    <tr>\n",
       "      <th>1</th>\n",
       "      <td>2019-08-02</td>\n",
       "      <td>A</td>\n",
       "      <td>619</td>\n",
       "    </tr>\n",
       "    <tr>\n",
       "      <th>2</th>\n",
       "      <td>2019-08-03</td>\n",
       "      <td>A</td>\n",
       "      <td>507</td>\n",
       "    </tr>\n",
       "    <tr>\n",
       "      <th>3</th>\n",
       "      <td>2019-08-04</td>\n",
       "      <td>A</td>\n",
       "      <td>717</td>\n",
       "    </tr>\n",
       "    <tr>\n",
       "      <th>4</th>\n",
       "      <td>2019-08-05</td>\n",
       "      <td>A</td>\n",
       "      <td>756</td>\n",
       "    </tr>\n",
       "  </tbody>\n",
       "</table>\n",
       "</div>"
      ],
      "text/plain": [
       "         date group  visitors\n",
       "0  2019-08-01     A       719\n",
       "1  2019-08-02     A       619\n",
       "2  2019-08-03     A       507\n",
       "3  2019-08-04     A       717\n",
       "4  2019-08-05     A       756"
      ]
     },
     "execution_count": 28,
     "metadata": {},
     "output_type": "execute_result"
    }
   ],
   "source": [
    "visitors.head()"
   ]
  },
  {
   "cell_type": "code",
   "execution_count": 29,
   "id": "642b5d90",
   "metadata": {},
   "outputs": [
    {
     "name": "stdout",
     "output_type": "stream",
     "text": [
      "2019-08-03\n",
      "2019-08-13\n",
      "2019-08-16\n",
      "2019-08-26\n",
      "2019-08-19\n",
      "2019-08-20\n"
     ]
    }
   ],
   "source": [
    "# Вычитаем из общего кол-ва посетителей число \"дефектных\"\n",
    "for visitor_ind in visitors.index:\n",
    "    # Попытка вычитания\n",
    "    try:\n",
    "        dt = visitors.loc[visitor_ind, 'date']\n",
    "        gr = visitors.loc[visitor_ind, 'group']\n",
    "        \n",
    "        visitors.loc[visitor_ind, 'visitors'] = visitors.loc[visitor_ind, 'visitors'] - delete_visit.loc[dt, gr]['revenue']\n",
    "    # если не получилось, выводи дату\n",
    "    except:\n",
    "        print(visitors.loc[visitor_ind, 'date'])"
   ]
  },
  {
   "cell_type": "code",
   "execution_count": 30,
   "id": "991ff466",
   "metadata": {},
   "outputs": [
    {
     "data": {
      "text/html": [
       "<div>\n",
       "<style scoped>\n",
       "    .dataframe tbody tr th:only-of-type {\n",
       "        vertical-align: middle;\n",
       "    }\n",
       "\n",
       "    .dataframe tbody tr th {\n",
       "        vertical-align: top;\n",
       "    }\n",
       "\n",
       "    .dataframe thead th {\n",
       "        text-align: right;\n",
       "    }\n",
       "</style>\n",
       "<table border=\"1\" class=\"dataframe\">\n",
       "  <thead>\n",
       "    <tr style=\"text-align: right;\">\n",
       "      <th></th>\n",
       "      <th>date</th>\n",
       "      <th>group</th>\n",
       "      <th>visitors</th>\n",
       "    </tr>\n",
       "  </thead>\n",
       "  <tbody>\n",
       "    <tr>\n",
       "      <th>0</th>\n",
       "      <td>2019-08-01</td>\n",
       "      <td>A</td>\n",
       "      <td>718</td>\n",
       "    </tr>\n",
       "    <tr>\n",
       "      <th>1</th>\n",
       "      <td>2019-08-02</td>\n",
       "      <td>A</td>\n",
       "      <td>618</td>\n",
       "    </tr>\n",
       "    <tr>\n",
       "      <th>2</th>\n",
       "      <td>2019-08-03</td>\n",
       "      <td>A</td>\n",
       "      <td>507</td>\n",
       "    </tr>\n",
       "    <tr>\n",
       "      <th>3</th>\n",
       "      <td>2019-08-04</td>\n",
       "      <td>A</td>\n",
       "      <td>712</td>\n",
       "    </tr>\n",
       "    <tr>\n",
       "      <th>4</th>\n",
       "      <td>2019-08-05</td>\n",
       "      <td>A</td>\n",
       "      <td>753</td>\n",
       "    </tr>\n",
       "  </tbody>\n",
       "</table>\n",
       "</div>"
      ],
      "text/plain": [
       "         date group  visitors\n",
       "0  2019-08-01     A       718\n",
       "1  2019-08-02     A       618\n",
       "2  2019-08-03     A       507\n",
       "3  2019-08-04     A       712\n",
       "4  2019-08-05     A       753"
      ]
     },
     "execution_count": 30,
     "metadata": {},
     "output_type": "execute_result"
    }
   ],
   "source": [
    "visitors.head()"
   ]
  },
  {
   "cell_type": "code",
   "execution_count": 31,
   "id": "e8181fc5",
   "metadata": {},
   "outputs": [
    {
     "name": "stdout",
     "output_type": "stream",
     "text": [
      "Кол-во записей в orders после очистки: 1016\n"
     ]
    }
   ],
   "source": [
    "# Удаляем проблемный записи\n",
    "orders = orders.query('visitorId not in @index_ord').sort_values(by='visitorId')\n",
    "print('Кол-во записей в orders после очистки:', orders.shape[0])"
   ]
  },
  {
   "cell_type": "markdown",
   "id": "6f9c0f08",
   "metadata": {},
   "source": [
    "### График кумулятивной выручки по группам"
   ]
  },
  {
   "cell_type": "code",
   "execution_count": 32,
   "id": "bc0b8c4c",
   "metadata": {},
   "outputs": [
    {
     "data": {
      "text/html": [
       "<div>\n",
       "<style scoped>\n",
       "    .dataframe tbody tr th:only-of-type {\n",
       "        vertical-align: middle;\n",
       "    }\n",
       "\n",
       "    .dataframe tbody tr th {\n",
       "        vertical-align: top;\n",
       "    }\n",
       "\n",
       "    .dataframe thead th {\n",
       "        text-align: right;\n",
       "    }\n",
       "</style>\n",
       "<table border=\"1\" class=\"dataframe\">\n",
       "  <thead>\n",
       "    <tr style=\"text-align: right;\">\n",
       "      <th></th>\n",
       "      <th>date</th>\n",
       "      <th>group</th>\n",
       "      <th>orders</th>\n",
       "      <th>buyers</th>\n",
       "      <th>revenue</th>\n",
       "      <th>visitors</th>\n",
       "    </tr>\n",
       "  </thead>\n",
       "  <tbody>\n",
       "    <tr>\n",
       "      <th>0</th>\n",
       "      <td>2019-08-01</td>\n",
       "      <td>A</td>\n",
       "      <td>23</td>\n",
       "      <td>19</td>\n",
       "      <td>142779</td>\n",
       "      <td>718</td>\n",
       "    </tr>\n",
       "    <tr>\n",
       "      <th>1</th>\n",
       "      <td>2019-08-01</td>\n",
       "      <td>B</td>\n",
       "      <td>17</td>\n",
       "      <td>17</td>\n",
       "      <td>59758</td>\n",
       "      <td>709</td>\n",
       "    </tr>\n",
       "    <tr>\n",
       "      <th>2</th>\n",
       "      <td>2019-08-02</td>\n",
       "      <td>A</td>\n",
       "      <td>42</td>\n",
       "      <td>36</td>\n",
       "      <td>234381</td>\n",
       "      <td>1336</td>\n",
       "    </tr>\n",
       "    <tr>\n",
       "      <th>3</th>\n",
       "      <td>2019-08-02</td>\n",
       "      <td>B</td>\n",
       "      <td>40</td>\n",
       "      <td>39</td>\n",
       "      <td>221801</td>\n",
       "      <td>1289</td>\n",
       "    </tr>\n",
       "    <tr>\n",
       "      <th>4</th>\n",
       "      <td>2019-08-03</td>\n",
       "      <td>A</td>\n",
       "      <td>66</td>\n",
       "      <td>60</td>\n",
       "      <td>346854</td>\n",
       "      <td>1843</td>\n",
       "    </tr>\n",
       "  </tbody>\n",
       "</table>\n",
       "</div>"
      ],
      "text/plain": [
       "         date group  orders  buyers  revenue  visitors\n",
       "0  2019-08-01     A      23      19   142779       718\n",
       "1  2019-08-01     B      17      17    59758       709\n",
       "2  2019-08-02     A      42      36   234381      1336\n",
       "3  2019-08-02     B      40      39   221801      1289\n",
       "4  2019-08-03     A      66      60   346854      1843"
      ]
     },
     "execution_count": 32,
     "metadata": {},
     "output_type": "execute_result"
    }
   ],
   "source": [
    "# Создаем массив уникальных пар значений дат и групп теста\n",
    "datesGroups = orders[['date','group']].drop_duplicates()\n",
    "\n",
    "# Получаем агрегированные кумулятивные по дням данные о заказах\n",
    "ordersAggregated = datesGroups\\\n",
    ".apply(lambda x: orders[np.logical_and(orders['date'] <= x['date'], orders['group'] == x['group'])]\\\n",
    "       .agg({'date': 'max', 'group': 'max', 'transactionId': 'nunique', 'visitorId': 'nunique', 'revenue': 'sum'}), axis=1)\\\n",
    ".sort_values(by=['date','group'])\n",
    "\n",
    "# Получаем агрегированные кумулятивные по дням данные о посетителях интернет-магазина \n",
    "visitorsAggregated = datesGroups\\\n",
    ".apply(lambda x: visitors[np.logical_and(visitors['date'] <= x['date'], visitors['group'] == x['group'])]\\\n",
    "       .agg({'date': 'max', 'group': 'max', 'visitors': 'sum'}), axis=1)\\\n",
    ".sort_values(by=['date','group'])\n",
    "\n",
    "# Объединяем кумулятивные данные в одной таблице и присваиваем ее столбцам понятные названия\n",
    "cumulativeData = ordersAggregated.merge(visitorsAggregated, left_on=['date', 'group'], right_on=['date', 'group'])\n",
    "cumulativeData.columns = ['date', 'group', 'orders', 'buyers', 'revenue', 'visitors']\n",
    "\n",
    "cumulativeData.head(5)"
   ]
  },
  {
   "cell_type": "code",
   "execution_count": 33,
   "id": "cc0ba0ec",
   "metadata": {},
   "outputs": [],
   "source": [
    "# Перевод в тип даты\n",
    "cumulativeData['date'] = pd.to_datetime(cumulativeData['date'])"
   ]
  },
  {
   "cell_type": "code",
   "execution_count": 34,
   "id": "20c7b59d",
   "metadata": {},
   "outputs": [
    {
     "data": {
      "image/png": "[encoded data removed]",
      "text/plain": [
       "<Figure size 864x432 with 1 Axes>"
      ]
     },
     "metadata": {
      "needs_background": "light"
     },
     "output_type": "display_data"
    }
   ],
   "source": [
    "# Датафрейм с кумулятивным количеством заказов и кумулятивной выручкой по дням в группе А \n",
    "cumulativeRevenueA = cumulativeData[cumulativeData['group']=='A'][['date','revenue', 'orders']]\n",
    "\n",
    "# Датафрейм с кумулятивным количеством заказов и кумулятивной выручкой по дням в группе B\n",
    "cumulativeRevenueB = cumulativeData[cumulativeData['group']=='B'][['date','revenue', 'orders']]\n",
    "\n",
    "# Размер поля построения\n",
    "plt.figure(figsize=(12, 6))\n",
    "\n",
    "# Строим график выручки группы А\n",
    "plt.plot(cumulativeRevenueA['date'], cumulativeRevenueA['revenue'], label='A')\n",
    "\n",
    "# Строим график выручки группы B\n",
    "plt.plot(cumulativeRevenueB['date'], cumulativeRevenueB['revenue'], label='B')\n",
    "plt.legend()\n",
    "plt.ylabel(\"Кумулятивная выручка\")\n",
    "plt.xlabel(\"Дата\")\n",
    "plt.suptitle('График выручки', x=0.5, y=0.93, fontsize=15);"
   ]
  },
  {
   "cell_type": "markdown",
   "id": "e6824cae",
   "metadata": {},
   "source": [
    "<div class=\"alert alert-info\">\n",
    "<font size=\"4\", color = \"black\"><b>Выводы:</b></font>\n",
    "\n",
    "Изначально результаты групп были близкими, однако с 18-го августа наблюдается скачок группы B, после чего графики идут практически параллельно. \n",
    "\n",
    "***Заметка:*** *необходимо понять причину скачка*"
   ]
  },
  {
   "cell_type": "markdown",
   "id": "720e411b",
   "metadata": {},
   "source": [
    "### График кумулятивного среднего чека по группам"
   ]
  },
  {
   "cell_type": "code",
   "execution_count": 35,
   "id": "7f383784",
   "metadata": {},
   "outputs": [
    {
     "data": {
      "image/png": "[encoded data removed]",
      "text/plain": [
       "<Figure size 864x432 with 1 Axes>"
      ]
     },
     "metadata": {
      "needs_background": "light"
     },
     "output_type": "display_data"
    }
   ],
   "source": [
    "# Размер поля построения\n",
    "plt.figure(figsize=(12, 6))\n",
    "\n",
    "plt.plot(cumulativeRevenueA['date'], cumulativeRevenueA['revenue']/cumulativeRevenueA['orders'], label='A')\n",
    "plt.plot(cumulativeRevenueB['date'], cumulativeRevenueB['revenue']/cumulativeRevenueB['orders'], label='B')\n",
    "plt.legend()\n",
    "plt.ylabel(\"Кумулятивный средний чек\")\n",
    "plt.xlabel(\"Дата\")\n",
    "plt.suptitle('График кумулятивного среднего чека по группам', x=0.5, y=0.93, fontsize=15);"
   ]
  },
  {
   "cell_type": "markdown",
   "id": "ca23d33e",
   "metadata": {},
   "source": [
    "<div class=\"alert alert-info\">\n",
    "<font size=\"4\", color = \"black\"><b>Выводы:</b></font>\n",
    "    \n",
    "Наблюдается скачок в величине среднего чека около 18-го числа. Вероятно, кто-то произвел крупную покупку, что отобразилось на среднем чеке - **аномалия?**"
   ]
  },
  {
   "cell_type": "code",
   "execution_count": 36,
   "id": "8b7d3385",
   "metadata": {},
   "outputs": [],
   "source": [
    "# Создадим таблицу\n",
    "combo_rev = cumulativeRevenueA.merge(cumulativeRevenueB, on='date')\\\n",
    ".rename(columns={'revenue_x':'revenue_A',\n",
    "                 'revenue_y':'revenue_B', \n",
    "                 'orders_x':'orders_A', \n",
    "                 'orders_y':'orders_B'}\n",
    "       )"
   ]
  },
  {
   "cell_type": "code",
   "execution_count": 37,
   "id": "afeac1a4",
   "metadata": {},
   "outputs": [],
   "source": [
    "# Доп. колонки =  delta\n",
    "combo_rev['d_rev'] = combo_rev['revenue_B'] - combo_rev['revenue_A']\n",
    "combo_rev['d_ord'] = combo_rev['orders_B'] - combo_rev['orders_A']"
   ]
  },
  {
   "cell_type": "code",
   "execution_count": 38,
   "id": "e121a1d5",
   "metadata": {},
   "outputs": [
    {
     "data": {
      "text/html": [
       "<style  type=\"text/css\" >\n",
       "#T_3b4d8_row0_col1,#T_3b4d8_row0_col2,#T_3b4d8_row0_col3,#T_3b4d8_row0_col4,#T_3b4d8_row0_col5,#T_3b4d8_row2_col6{\n",
       "            background-color:  #a50026;\n",
       "            color:  #f1f1f1;\n",
       "        }#T_3b4d8_row0_col6,#T_3b4d8_row2_col1,#T_3b4d8_row3_col3{\n",
       "            background-color:  #c41e27;\n",
       "            color:  #f1f1f1;\n",
       "        }#T_3b4d8_row1_col1{\n",
       "            background-color:  #b30d26;\n",
       "            color:  #f1f1f1;\n",
       "        }#T_3b4d8_row1_col2,#T_3b4d8_row1_col5{\n",
       "            background-color:  #b91326;\n",
       "            color:  #f1f1f1;\n",
       "        }#T_3b4d8_row1_col3,#T_3b4d8_row3_col6{\n",
       "            background-color:  #b50f26;\n",
       "            color:  #f1f1f1;\n",
       "        }#T_3b4d8_row1_col4,#T_3b4d8_row2_col3,#T_3b4d8_row3_col5{\n",
       "            background-color:  #bb1526;\n",
       "            color:  #f1f1f1;\n",
       "        }#T_3b4d8_row1_col6,#T_3b4d8_row5_col6{\n",
       "            background-color:  #d93429;\n",
       "            color:  #f1f1f1;\n",
       "        }#T_3b4d8_row2_col2,#T_3b4d8_row3_col4{\n",
       "            background-color:  #d42d27;\n",
       "            color:  #f1f1f1;\n",
       "        }#T_3b4d8_row2_col4{\n",
       "            background-color:  #c62027;\n",
       "            color:  #f1f1f1;\n",
       "        }#T_3b4d8_row2_col5{\n",
       "            background-color:  #ab0626;\n",
       "            color:  #f1f1f1;\n",
       "        }#T_3b4d8_row3_col1{\n",
       "            background-color:  #ca2427;\n",
       "            color:  #f1f1f1;\n",
       "        }#T_3b4d8_row3_col2{\n",
       "            background-color:  #dd3d2d;\n",
       "            color:  #f1f1f1;\n",
       "        }#T_3b4d8_row4_col1{\n",
       "            background-color:  #d83128;\n",
       "            color:  #f1f1f1;\n",
       "        }#T_3b4d8_row4_col2,#T_3b4d8_row6_col3{\n",
       "            background-color:  #eb5a3a;\n",
       "            color:  #000000;\n",
       "        }#T_3b4d8_row4_col3{\n",
       "            background-color:  #ce2827;\n",
       "            color:  #f1f1f1;\n",
       "        }#T_3b4d8_row4_col4{\n",
       "            background-color:  #e14430;\n",
       "            color:  #f1f1f1;\n",
       "        }#T_3b4d8_row4_col5{\n",
       "            background-color:  #bd1726;\n",
       "            color:  #f1f1f1;\n",
       "        }#T_3b4d8_row4_col6{\n",
       "            background-color:  #af0926;\n",
       "            color:  #f1f1f1;\n",
       "        }#T_3b4d8_row5_col1{\n",
       "            background-color:  #db382b;\n",
       "            color:  #f1f1f1;\n",
       "        }#T_3b4d8_row5_col2{\n",
       "            background-color:  #f47044;\n",
       "            color:  #000000;\n",
       "        }#T_3b4d8_row5_col3{\n",
       "            background-color:  #de402e;\n",
       "            color:  #f1f1f1;\n",
       "        }#T_3b4d8_row5_col4{\n",
       "            background-color:  #ed5f3c;\n",
       "            color:  #000000;\n",
       "        }#T_3b4d8_row5_col5{\n",
       "            background-color:  #e34933;\n",
       "            color:  #f1f1f1;\n",
       "        }#T_3b4d8_row6_col1{\n",
       "            background-color:  #e65036;\n",
       "            color:  #000000;\n",
       "        }#T_3b4d8_row6_col2,#T_3b4d8_row9_col3{\n",
       "            background-color:  #f8864f;\n",
       "            color:  #000000;\n",
       "        }#T_3b4d8_row6_col4,#T_3b4d8_row8_col3,#T_3b4d8_row17_col5{\n",
       "            background-color:  #f67a49;\n",
       "            color:  #000000;\n",
       "        }#T_3b4d8_row6_col5{\n",
       "            background-color:  #f36b42;\n",
       "            color:  #000000;\n",
       "        }#T_3b4d8_row6_col6,#T_3b4d8_row10_col5{\n",
       "            background-color:  #ef633f;\n",
       "            color:  #000000;\n",
       "        }#T_3b4d8_row7_col1{\n",
       "            background-color:  #ee613e;\n",
       "            color:  #000000;\n",
       "        }#T_3b4d8_row7_col2,#T_3b4d8_row7_col6,#T_3b4d8_row9_col1,#T_3b4d8_row11_col3{\n",
       "            background-color:  #fa9b58;\n",
       "            color:  #000000;\n",
       "        }#T_3b4d8_row7_col3,#T_3b4d8_row14_col5{\n",
       "            background-color:  #f46d43;\n",
       "            color:  #000000;\n",
       "        }#T_3b4d8_row7_col4{\n",
       "            background-color:  #fa9656;\n",
       "            color:  #000000;\n",
       "        }#T_3b4d8_row7_col5{\n",
       "            background-color:  #f7814c;\n",
       "            color:  #000000;\n",
       "        }#T_3b4d8_row8_col1{\n",
       "            background-color:  #f67c4a;\n",
       "            color:  #000000;\n",
       "        }#T_3b4d8_row8_col2,#T_3b4d8_row12_col3{\n",
       "            background-color:  #fcaa5f;\n",
       "            color:  #000000;\n",
       "        }#T_3b4d8_row8_col4{\n",
       "            background-color:  #fdad60;\n",
       "            color:  #000000;\n",
       "        }#T_3b4d8_row8_col5{\n",
       "            background-color:  #f57547;\n",
       "            color:  #000000;\n",
       "        }#T_3b4d8_row8_col6,#T_3b4d8_row11_col1{\n",
       "            background-color:  #feca79;\n",
       "            color:  #000000;\n",
       "        }#T_3b4d8_row9_col2{\n",
       "            background-color:  #fdbd6d;\n",
       "            color:  #000000;\n",
       "        }#T_3b4d8_row9_col4{\n",
       "            background-color:  #fdc372;\n",
       "            color:  #000000;\n",
       "        }#T_3b4d8_row9_col5{\n",
       "            background-color:  #f16640;\n",
       "            color:  #000000;\n",
       "        }#T_3b4d8_row9_col6,#T_3b4d8_row12_col4{\n",
       "            background-color:  #feeb9d;\n",
       "            color:  #000000;\n",
       "        }#T_3b4d8_row10_col1{\n",
       "            background-color:  #fca85e;\n",
       "            color:  #000000;\n",
       "        }#T_3b4d8_row10_col2{\n",
       "            background-color:  #fec877;\n",
       "            color:  #000000;\n",
       "        }#T_3b4d8_row10_col3{\n",
       "            background-color:  #f98e52;\n",
       "            color:  #000000;\n",
       "        }#T_3b4d8_row10_col4{\n",
       "            background-color:  #fece7c;\n",
       "            color:  #000000;\n",
       "        }#T_3b4d8_row10_col6,#T_3b4d8_row11_col6{\n",
       "            background-color:  #feefa3;\n",
       "            color:  #000000;\n",
       "        }#T_3b4d8_row11_col2{\n",
       "            background-color:  #fede89;\n",
       "            color:  #000000;\n",
       "        }#T_3b4d8_row11_col4,#T_3b4d8_row15_col3{\n",
       "            background-color:  #fee08b;\n",
       "            color:  #000000;\n",
       "        }#T_3b4d8_row11_col5{\n",
       "            background-color:  #dc3b2c;\n",
       "            color:  #f1f1f1;\n",
       "        }#T_3b4d8_row12_col1{\n",
       "            background-color:  #feec9f;\n",
       "            color:  #000000;\n",
       "        }#T_3b4d8_row12_col2{\n",
       "            background-color:  #fee999;\n",
       "            color:  #000000;\n",
       "        }#T_3b4d8_row12_col5{\n",
       "            background-color:  #b71126;\n",
       "            color:  #f1f1f1;\n",
       "        }#T_3b4d8_row12_col6,#T_3b4d8_row15_col1{\n",
       "            background-color:  #fbfdba;\n",
       "            color:  #000000;\n",
       "        }#T_3b4d8_row13_col1{\n",
       "            background-color:  #fff0a6;\n",
       "            color:  #000000;\n",
       "        }#T_3b4d8_row13_col2{\n",
       "            background-color:  #fff5ae;\n",
       "            color:  #000000;\n",
       "        }#T_3b4d8_row13_col3{\n",
       "            background-color:  #fdb768;\n",
       "            color:  #000000;\n",
       "        }#T_3b4d8_row13_col4{\n",
       "            background-color:  #fff3ac;\n",
       "            color:  #000000;\n",
       "        }#T_3b4d8_row13_col5{\n",
       "            background-color:  #c82227;\n",
       "            color:  #f1f1f1;\n",
       "        }#T_3b4d8_row13_col6,#T_3b4d8_row14_col1{\n",
       "            background-color:  #fff8b4;\n",
       "            color:  #000000;\n",
       "        }#T_3b4d8_row14_col2{\n",
       "            background-color:  #fffcba;\n",
       "            color:  #000000;\n",
       "        }#T_3b4d8_row14_col3{\n",
       "            background-color:  #fed683;\n",
       "            color:  #000000;\n",
       "        }#T_3b4d8_row14_col4{\n",
       "            background-color:  #fafdb8;\n",
       "            color:  #000000;\n",
       "        }#T_3b4d8_row14_col6,#T_3b4d8_row15_col6{\n",
       "            background-color:  #bfe47a;\n",
       "            color:  #000000;\n",
       "        }#T_3b4d8_row15_col2{\n",
       "            background-color:  #f4fab0;\n",
       "            color:  #000000;\n",
       "        }#T_3b4d8_row15_col4,#T_3b4d8_row16_col2{\n",
       "            background-color:  #eef8a8;\n",
       "            color:  #000000;\n",
       "        }#T_3b4d8_row15_col5{\n",
       "            background-color:  #f57245;\n",
       "            color:  #000000;\n",
       "        }#T_3b4d8_row16_col1{\n",
       "            background-color:  #f7fcb4;\n",
       "            color:  #000000;\n",
       "        }#T_3b4d8_row16_col3{\n",
       "            background-color:  #fee695;\n",
       "            color:  #000000;\n",
       "        }#T_3b4d8_row16_col4,#T_3b4d8_row17_col2{\n",
       "            background-color:  #e3f399;\n",
       "            color:  #000000;\n",
       "        }#T_3b4d8_row16_col5{\n",
       "            background-color:  #f7844e;\n",
       "            color:  #000000;\n",
       "        }#T_3b4d8_row16_col6,#T_3b4d8_row22_col6{\n",
       "            background-color:  #93d168;\n",
       "            color:  #000000;\n",
       "        }#T_3b4d8_row17_col1{\n",
       "            background-color:  #f1f9ac;\n",
       "            color:  #000000;\n",
       "        }#T_3b4d8_row17_col3{\n",
       "            background-color:  #fee797;\n",
       "            color:  #000000;\n",
       "        }#T_3b4d8_row17_col4{\n",
       "            background-color:  #dff293;\n",
       "            color:  #000000;\n",
       "        }#T_3b4d8_row17_col6,#T_3b4d8_row18_col6,#T_3b4d8_row19_col4,#T_3b4d8_row20_col1{\n",
       "            background-color:  #b9e176;\n",
       "            color:  #000000;\n",
       "        }#T_3b4d8_row18_col1{\n",
       "            background-color:  #dcf08f;\n",
       "            color:  #000000;\n",
       "        }#T_3b4d8_row18_col2{\n",
       "            background-color:  #cfeb85;\n",
       "            color:  #000000;\n",
       "        }#T_3b4d8_row18_col3,#T_3b4d8_row21_col2,#T_3b4d8_row22_col1{\n",
       "            background-color:  #a0d669;\n",
       "            color:  #000000;\n",
       "        }#T_3b4d8_row18_col4{\n",
       "            background-color:  #cdea83;\n",
       "            color:  #000000;\n",
       "        }#T_3b4d8_row18_col5,#T_3b4d8_row27_col2{\n",
       "            background-color:  #138c4a;\n",
       "            color:  #000000;\n",
       "        }#T_3b4d8_row19_col1{\n",
       "            background-color:  #d5ed88;\n",
       "            color:  #000000;\n",
       "        }#T_3b4d8_row19_col2{\n",
       "            background-color:  #c3e67d;\n",
       "            color:  #000000;\n",
       "        }#T_3b4d8_row19_col3,#T_3b4d8_row23_col6{\n",
       "            background-color:  #8ccd67;\n",
       "            color:  #000000;\n",
       "        }#T_3b4d8_row19_col5,#T_3b4d8_row23_col5{\n",
       "            background-color:  #06733d;\n",
       "            color:  #f1f1f1;\n",
       "        }#T_3b4d8_row19_col6,#T_3b4d8_row28_col6{\n",
       "            background-color:  #78c565;\n",
       "            color:  #000000;\n",
       "        }#T_3b4d8_row20_col2,#T_3b4d8_row21_col1{\n",
       "            background-color:  #abdb6d;\n",
       "            color:  #000000;\n",
       "        }#T_3b4d8_row20_col3{\n",
       "            background-color:  #7ac665;\n",
       "            color:  #000000;\n",
       "        }#T_3b4d8_row20_col4,#T_3b4d8_row20_col6{\n",
       "            background-color:  #addc6f;\n",
       "            color:  #000000;\n",
       "        }#T_3b4d8_row20_col5{\n",
       "            background-color:  #0b7d42;\n",
       "            color:  #f1f1f1;\n",
       "        }#T_3b4d8_row21_col3,#T_3b4d8_row24_col4,#T_3b4d8_row27_col6{\n",
       "            background-color:  #69be63;\n",
       "            color:  #000000;\n",
       "        }#T_3b4d8_row21_col4{\n",
       "            background-color:  #96d268;\n",
       "            color:  #000000;\n",
       "        }#T_3b4d8_row21_col5,#T_3b4d8_row29_col1,#T_3b4d8_row29_col2{\n",
       "            background-color:  #04703b;\n",
       "            color:  #f1f1f1;\n",
       "        }#T_3b4d8_row21_col6,#T_3b4d8_row24_col2{\n",
       "            background-color:  #63bc62;\n",
       "            color:  #000000;\n",
       "        }#T_3b4d8_row22_col2{\n",
       "            background-color:  #82c966;\n",
       "            color:  #000000;\n",
       "        }#T_3b4d8_row22_col3,#T_3b4d8_row25_col1{\n",
       "            background-color:  #5db961;\n",
       "            color:  #000000;\n",
       "        }#T_3b4d8_row22_col4{\n",
       "            background-color:  #87cb67;\n",
       "            color:  #000000;\n",
       "        }#T_3b4d8_row22_col5,#T_3b4d8_row30_col5{\n",
       "            background-color:  #016a38;\n",
       "            color:  #f1f1f1;\n",
       "        }#T_3b4d8_row23_col1{\n",
       "            background-color:  #89cc67;\n",
       "            color:  #000000;\n",
       "        }#T_3b4d8_row23_col2,#T_3b4d8_row24_col6{\n",
       "            background-color:  #70c164;\n",
       "            color:  #000000;\n",
       "        }#T_3b4d8_row23_col3{\n",
       "            background-color:  #4eb15d;\n",
       "            color:  #000000;\n",
       "        }#T_3b4d8_row23_col4{\n",
       "            background-color:  #75c465;\n",
       "            color:  #000000;\n",
       "        }#T_3b4d8_row24_col1{\n",
       "            background-color:  #7dc765;\n",
       "            color:  #000000;\n",
       "        }#T_3b4d8_row24_col3{\n",
       "            background-color:  #42ac5a;\n",
       "            color:  #000000;\n",
       "        }#T_3b4d8_row24_col5{\n",
       "            background-color:  #026c39;\n",
       "            color:  #f1f1f1;\n",
       "        }#T_3b4d8_row25_col2,#T_3b4d8_row25_col4{\n",
       "            background-color:  #48ae5c;\n",
       "            color:  #000000;\n",
       "        }#T_3b4d8_row25_col3{\n",
       "            background-color:  #279f53;\n",
       "            color:  #000000;\n",
       "        }#T_3b4d8_row25_col5,#T_3b4d8_row30_col1,#T_3b4d8_row30_col2,#T_3b4d8_row30_col3,#T_3b4d8_row30_col4,#T_3b4d8_row30_col6{\n",
       "            background-color:  #006837;\n",
       "            color:  #f1f1f1;\n",
       "        }#T_3b4d8_row25_col6{\n",
       "            background-color:  #3faa59;\n",
       "            color:  #000000;\n",
       "        }#T_3b4d8_row26_col1{\n",
       "            background-color:  #30a356;\n",
       "            color:  #000000;\n",
       "        }#T_3b4d8_row26_col2,#T_3b4d8_row28_col5{\n",
       "            background-color:  #219c52;\n",
       "            color:  #000000;\n",
       "        }#T_3b4d8_row26_col3,#T_3b4d8_row27_col4,#T_3b4d8_row29_col6{\n",
       "            background-color:  #199750;\n",
       "            color:  #000000;\n",
       "        }#T_3b4d8_row26_col4{\n",
       "            background-color:  #39a758;\n",
       "            color:  #000000;\n",
       "        }#T_3b4d8_row26_col5,#T_3b4d8_row28_col1{\n",
       "            background-color:  #0a7b41;\n",
       "            color:  #f1f1f1;\n",
       "        }#T_3b4d8_row26_col6{\n",
       "            background-color:  #9bd469;\n",
       "            color:  #000000;\n",
       "        }#T_3b4d8_row27_col1{\n",
       "            background-color:  #1b9950;\n",
       "            color:  #000000;\n",
       "        }#T_3b4d8_row27_col3{\n",
       "            background-color:  #15904c;\n",
       "            color:  #000000;\n",
       "        }#T_3b4d8_row27_col5{\n",
       "            background-color:  #0f8446;\n",
       "            color:  #f1f1f1;\n",
       "        }#T_3b4d8_row28_col2,#T_3b4d8_row29_col5{\n",
       "            background-color:  #097940;\n",
       "            color:  #f1f1f1;\n",
       "        }#T_3b4d8_row28_col3{\n",
       "            background-color:  #108647;\n",
       "            color:  #000000;\n",
       "        }#T_3b4d8_row28_col4{\n",
       "            background-color:  #128a49;\n",
       "            color:  #000000;\n",
       "        }#T_3b4d8_row29_col3{\n",
       "            background-color:  #05713c;\n",
       "            color:  #f1f1f1;\n",
       "        }#T_3b4d8_row29_col4{\n",
       "            background-color:  #08773f;\n",
       "            color:  #f1f1f1;\n",
       "        }</style><table id=\"T_3b4d8_\" ><thead>    <tr>        <th class=\"blank level0\" ></th>        <th class=\"col_heading level0 col0\" >date</th>        <th class=\"col_heading level0 col1\" >revenue_A</th>        <th class=\"col_heading level0 col2\" >orders_A</th>        <th class=\"col_heading level0 col3\" >revenue_B</th>        <th class=\"col_heading level0 col4\" >orders_B</th>        <th class=\"col_heading level0 col5\" >d_rev</th>        <th class=\"col_heading level0 col6\" >d_ord</th>    </tr></thead><tbody>\n",
       "                <tr>\n",
       "                        <th id=\"T_3b4d8_level0_row0\" class=\"row_heading level0 row0\" >0</th>\n",
       "                        <td id=\"T_3b4d8_row0_col0\" class=\"data row0 col0\" >2019-08-01 00:00:00</td>\n",
       "                        <td id=\"T_3b4d8_row0_col1\" class=\"data row0 col1\" >142779</td>\n",
       "                        <td id=\"T_3b4d8_row0_col2\" class=\"data row0 col2\" >23</td>\n",
       "                        <td id=\"T_3b4d8_row0_col3\" class=\"data row0 col3\" >59758</td>\n",
       "                        <td id=\"T_3b4d8_row0_col4\" class=\"data row0 col4\" >17</td>\n",
       "                        <td id=\"T_3b4d8_row0_col5\" class=\"data row0 col5\" >-83021</td>\n",
       "                        <td id=\"T_3b4d8_row0_col6\" class=\"data row0 col6\" >-6</td>\n",
       "            </tr>\n",
       "            <tr>\n",
       "                        <th id=\"T_3b4d8_level0_row1\" class=\"row_heading level0 row1\" >1</th>\n",
       "                        <td id=\"T_3b4d8_row1_col0\" class=\"data row1 col0\" >2019-08-02 00:00:00</td>\n",
       "                        <td id=\"T_3b4d8_row1_col1\" class=\"data row1 col1\" >234381</td>\n",
       "                        <td id=\"T_3b4d8_row1_col2\" class=\"data row1 col2\" >42</td>\n",
       "                        <td id=\"T_3b4d8_row1_col3\" class=\"data row1 col3\" >221801</td>\n",
       "                        <td id=\"T_3b4d8_row1_col4\" class=\"data row1 col4\" >40</td>\n",
       "                        <td id=\"T_3b4d8_row1_col5\" class=\"data row1 col5\" >-12580</td>\n",
       "                        <td id=\"T_3b4d8_row1_col6\" class=\"data row1 col6\" >-2</td>\n",
       "            </tr>\n",
       "            <tr>\n",
       "                        <th id=\"T_3b4d8_level0_row2\" class=\"row_heading level0 row2\" >2</th>\n",
       "                        <td id=\"T_3b4d8_row2_col0\" class=\"data row2 col0\" >2019-08-03 00:00:00</td>\n",
       "                        <td id=\"T_3b4d8_row2_col1\" class=\"data row2 col1\" >346854</td>\n",
       "                        <td id=\"T_3b4d8_row2_col2\" class=\"data row2 col2\" >66</td>\n",
       "                        <td id=\"T_3b4d8_row2_col3\" class=\"data row2 col3\" >288850</td>\n",
       "                        <td id=\"T_3b4d8_row2_col4\" class=\"data row2 col4\" >54</td>\n",
       "                        <td id=\"T_3b4d8_row2_col5\" class=\"data row2 col5\" >-58004</td>\n",
       "                        <td id=\"T_3b4d8_row2_col6\" class=\"data row2 col6\" >-12</td>\n",
       "            </tr>\n",
       "            <tr>\n",
       "                        <th id=\"T_3b4d8_level0_row3\" class=\"row_heading level0 row3\" >3</th>\n",
       "                        <td id=\"T_3b4d8_row3_col0\" class=\"data row3 col0\" >2019-08-04 00:00:00</td>\n",
       "                        <td id=\"T_3b4d8_row3_col1\" class=\"data row3 col1\" >388030</td>\n",
       "                        <td id=\"T_3b4d8_row3_col2\" class=\"data row3 col2\" >77</td>\n",
       "                        <td id=\"T_3b4d8_row3_col3\" class=\"data row3 col3\" >385740</td>\n",
       "                        <td id=\"T_3b4d8_row3_col4\" class=\"data row3 col4\" >68</td>\n",
       "                        <td id=\"T_3b4d8_row3_col5\" class=\"data row3 col5\" >-2290</td>\n",
       "                        <td id=\"T_3b4d8_row3_col6\" class=\"data row3 col6\" >-9</td>\n",
       "            </tr>\n",
       "            <tr>\n",
       "                        <th id=\"T_3b4d8_level0_row4\" class=\"row_heading level0 row4\" >4</th>\n",
       "                        <td id=\"T_3b4d8_row4_col0\" class=\"data row4 col0\" >2019-08-05 00:00:00</td>\n",
       "                        <td id=\"T_3b4d8_row4_col1\" class=\"data row4 col1\" >474413</td>\n",
       "                        <td id=\"T_3b4d8_row4_col2\" class=\"data row4 col2\" >99</td>\n",
       "                        <td id=\"T_3b4d8_row4_col3\" class=\"data row4 col3\" >475648</td>\n",
       "                        <td id=\"T_3b4d8_row4_col4\" class=\"data row4 col4\" >89</td>\n",
       "                        <td id=\"T_3b4d8_row4_col5\" class=\"data row4 col5\" >1235</td>\n",
       "                        <td id=\"T_3b4d8_row4_col6\" class=\"data row4 col6\" >-10</td>\n",
       "            </tr>\n",
       "            <tr>\n",
       "                        <th id=\"T_3b4d8_level0_row5\" class=\"row_heading level0 row5\" >5</th>\n",
       "                        <td id=\"T_3b4d8_row5_col0\" class=\"data row5 col0\" >2019-08-06 00:00:00</td>\n",
       "                        <td id=\"T_3b4d8_row5_col1\" class=\"data row5 col1\" >515332</td>\n",
       "                        <td id=\"T_3b4d8_row5_col2\" class=\"data row5 col2\" >114</td>\n",
       "                        <td id=\"T_3b4d8_row5_col3\" class=\"data row5 col3\" >690490</td>\n",
       "                        <td id=\"T_3b4d8_row5_col4\" class=\"data row5 col4\" >112</td>\n",
       "                        <td id=\"T_3b4d8_row5_col5\" class=\"data row5 col5\" >175158</td>\n",
       "                        <td id=\"T_3b4d8_row5_col6\" class=\"data row5 col6\" >-2</td>\n",
       "            </tr>\n",
       "            <tr>\n",
       "                        <th id=\"T_3b4d8_level0_row6\" class=\"row_heading level0 row6\" >6</th>\n",
       "                        <td id=\"T_3b4d8_row6_col0\" class=\"data row6 col0\" >2019-08-07 00:00:00</td>\n",
       "                        <td id=\"T_3b4d8_row6_col1\" class=\"data row6 col1\" >638580</td>\n",
       "                        <td id=\"T_3b4d8_row6_col2\" class=\"data row6 col2\" >130</td>\n",
       "                        <td id=\"T_3b4d8_row6_col3\" class=\"data row6 col3\" >909654</td>\n",
       "                        <td id=\"T_3b4d8_row6_col4\" class=\"data row6 col4\" >135</td>\n",
       "                        <td id=\"T_3b4d8_row6_col5\" class=\"data row6 col5\" >271074</td>\n",
       "                        <td id=\"T_3b4d8_row6_col6\" class=\"data row6 col6\" >5</td>\n",
       "            </tr>\n",
       "            <tr>\n",
       "                        <th id=\"T_3b4d8_level0_row7\" class=\"row_heading level0 row7\" >7</th>\n",
       "                        <td id=\"T_3b4d8_row7_col0\" class=\"data row7 col0\" >2019-08-08 00:00:00</td>\n",
       "                        <td id=\"T_3b4d8_row7_col1\" class=\"data row7 col1\" >727219</td>\n",
       "                        <td id=\"T_3b4d8_row7_col2\" class=\"data row7 col2\" >144</td>\n",
       "                        <td id=\"T_3b4d8_row7_col3\" class=\"data row7 col3\" >1059795</td>\n",
       "                        <td id=\"T_3b4d8_row7_col4\" class=\"data row7 col4\" >157</td>\n",
       "                        <td id=\"T_3b4d8_row7_col5\" class=\"data row7 col5\" >332576</td>\n",
       "                        <td id=\"T_3b4d8_row7_col6\" class=\"data row7 col6\" >13</td>\n",
       "            </tr>\n",
       "            <tr>\n",
       "                        <th id=\"T_3b4d8_level0_row8\" class=\"row_heading level0 row8\" >8</th>\n",
       "                        <td id=\"T_3b4d8_row8_col0\" class=\"data row8 col0\" >2019-08-09 00:00:00</td>\n",
       "                        <td id=\"T_3b4d8_row8_col1\" class=\"data row8 col1\" >861456</td>\n",
       "                        <td id=\"T_3b4d8_row8_col2\" class=\"data row8 col2\" >155</td>\n",
       "                        <td id=\"T_3b4d8_row8_col3\" class=\"data row8 col3\" >1162961</td>\n",
       "                        <td id=\"T_3b4d8_row8_col4\" class=\"data row8 col4\" >176</td>\n",
       "                        <td id=\"T_3b4d8_row8_col5\" class=\"data row8 col5\" >301505</td>\n",
       "                        <td id=\"T_3b4d8_row8_col6\" class=\"data row8 col6\" >21</td>\n",
       "            </tr>\n",
       "            <tr>\n",
       "                        <th id=\"T_3b4d8_level0_row9\" class=\"row_heading level0 row9\" >9</th>\n",
       "                        <td id=\"T_3b4d8_row9_col0\" class=\"data row9 col0\" >2019-08-10 00:00:00</td>\n",
       "                        <td id=\"T_3b4d8_row9_col1\" class=\"data row9 col1\" >1013731</td>\n",
       "                        <td id=\"T_3b4d8_row9_col2\" class=\"data row9 col2\" >170</td>\n",
       "                        <td id=\"T_3b4d8_row9_col3\" class=\"data row9 col3\" >1268123</td>\n",
       "                        <td id=\"T_3b4d8_row9_col4\" class=\"data row9 col4\" >198</td>\n",
       "                        <td id=\"T_3b4d8_row9_col5\" class=\"data row9 col5\" >254392</td>\n",
       "                        <td id=\"T_3b4d8_row9_col6\" class=\"data row9 col6\" >28</td>\n",
       "            </tr>\n",
       "            <tr>\n",
       "                        <th id=\"T_3b4d8_level0_row10\" class=\"row_heading level0 row10\" >10</th>\n",
       "                        <td id=\"T_3b4d8_row10_col0\" class=\"data row10 col0\" >2019-08-11 00:00:00</td>\n",
       "                        <td id=\"T_3b4d8_row10_col1\" class=\"data row10 col1\" >1074396</td>\n",
       "                        <td id=\"T_3b4d8_row10_col2\" class=\"data row10 col2\" >181</td>\n",
       "                        <td id=\"T_3b4d8_row10_col3\" class=\"data row10 col3\" >1321183</td>\n",
       "                        <td id=\"T_3b4d8_row10_col4\" class=\"data row10 col4\" >210</td>\n",
       "                        <td id=\"T_3b4d8_row10_col5\" class=\"data row10 col5\" >246787</td>\n",
       "                        <td id=\"T_3b4d8_row10_col6\" class=\"data row10 col6\" >29</td>\n",
       "            </tr>\n",
       "            <tr>\n",
       "                        <th id=\"T_3b4d8_level0_row11\" class=\"row_heading level0 row11\" >11</th>\n",
       "                        <td id=\"T_3b4d8_row11_col0\" class=\"data row11 col0\" >2019-08-12 00:00:00</td>\n",
       "                        <td id=\"T_3b4d8_row11_col1\" class=\"data row11 col1\" >1294788</td>\n",
       "                        <td id=\"T_3b4d8_row11_col2\" class=\"data row11 col2\" >200</td>\n",
       "                        <td id=\"T_3b4d8_row11_col3\" class=\"data row11 col3\" >1425237</td>\n",
       "                        <td id=\"T_3b4d8_row11_col4\" class=\"data row11 col4\" >229</td>\n",
       "                        <td id=\"T_3b4d8_row11_col5\" class=\"data row11 col5\" >130449</td>\n",
       "                        <td id=\"T_3b4d8_row11_col6\" class=\"data row11 col6\" >29</td>\n",
       "            </tr>\n",
       "            <tr>\n",
       "                        <th id=\"T_3b4d8_level0_row12\" class=\"row_heading level0 row12\" >12</th>\n",
       "                        <td id=\"T_3b4d8_row12_col0\" class=\"data row12 col0\" >2019-08-13 00:00:00</td>\n",
       "                        <td id=\"T_3b4d8_row12_col1\" class=\"data row12 col1\" >1558426</td>\n",
       "                        <td id=\"T_3b4d8_row12_col2\" class=\"data row12 col2\" >214</td>\n",
       "                        <td id=\"T_3b4d8_row12_col3\" class=\"data row12 col3\" >1542928</td>\n",
       "                        <td id=\"T_3b4d8_row12_col4\" class=\"data row12 col4\" >249</td>\n",
       "                        <td id=\"T_3b4d8_row12_col5\" class=\"data row12 col5\" >-15498</td>\n",
       "                        <td id=\"T_3b4d8_row12_col6\" class=\"data row12 col6\" >35</td>\n",
       "            </tr>\n",
       "            <tr>\n",
       "                        <th id=\"T_3b4d8_level0_row13\" class=\"row_heading level0 row13\" >13</th>\n",
       "                        <td id=\"T_3b4d8_row13_col0\" class=\"data row13 col0\" >2019-08-14 00:00:00</td>\n",
       "                        <td id=\"T_3b4d8_row13_col1\" class=\"data row13 col1\" >1601692</td>\n",
       "                        <td id=\"T_3b4d8_row13_col2\" class=\"data row13 col2\" >231</td>\n",
       "                        <td id=\"T_3b4d8_row13_col3\" class=\"data row13 col3\" >1650268</td>\n",
       "                        <td id=\"T_3b4d8_row13_col4\" class=\"data row13 col4\" >263</td>\n",
       "                        <td id=\"T_3b4d8_row13_col5\" class=\"data row13 col5\" >48576</td>\n",
       "                        <td id=\"T_3b4d8_row13_col6\" class=\"data row13 col6\" >32</td>\n",
       "            </tr>\n",
       "            <tr>\n",
       "                        <th id=\"T_3b4d8_level0_row14\" class=\"row_heading level0 row14\" >14</th>\n",
       "                        <td id=\"T_3b4d8_row14_col0\" class=\"data row14 col0\" >2019-08-15 00:00:00</td>\n",
       "                        <td id=\"T_3b4d8_row14_col1\" class=\"data row14 col1\" >1682569</td>\n",
       "                        <td id=\"T_3b4d8_row14_col2\" class=\"data row14 col2\" >241</td>\n",
       "                        <td id=\"T_3b4d8_row14_col3\" class=\"data row14 col3\" >1960427</td>\n",
       "                        <td id=\"T_3b4d8_row14_col4\" class=\"data row14 col4\" >289</td>\n",
       "                        <td id=\"T_3b4d8_row14_col5\" class=\"data row14 col5\" >277858</td>\n",
       "                        <td id=\"T_3b4d8_row14_col6\" class=\"data row14 col6\" >48</td>\n",
       "            </tr>\n",
       "            <tr>\n",
       "                        <th id=\"T_3b4d8_level0_row15\" class=\"row_heading level0 row15\" >15</th>\n",
       "                        <td id=\"T_3b4d8_row15_col0\" class=\"data row15 col0\" >2019-08-16 00:00:00</td>\n",
       "                        <td id=\"T_3b4d8_row15_col1\" class=\"data row15 col1\" >1782420</td>\n",
       "                        <td id=\"T_3b4d8_row15_col2\" class=\"data row15 col2\" >259</td>\n",
       "                        <td id=\"T_3b4d8_row15_col3\" class=\"data row15 col3\" >2074677</td>\n",
       "                        <td id=\"T_3b4d8_row15_col4\" class=\"data row15 col4\" >307</td>\n",
       "                        <td id=\"T_3b4d8_row15_col5\" class=\"data row15 col5\" >292257</td>\n",
       "                        <td id=\"T_3b4d8_row15_col6\" class=\"data row15 col6\" >48</td>\n",
       "            </tr>\n",
       "            <tr>\n",
       "                        <th id=\"T_3b4d8_level0_row16\" class=\"row_heading level0 row16\" >16</th>\n",
       "                        <td id=\"T_3b4d8_row16_col0\" class=\"data row16 col0\" >2019-08-17 00:00:00</td>\n",
       "                        <td id=\"T_3b4d8_row16_col1\" class=\"data row16 col1\" >1817160</td>\n",
       "                        <td id=\"T_3b4d8_row16_col2\" class=\"data row16 col2\" >265</td>\n",
       "                        <td id=\"T_3b4d8_row16_col3\" class=\"data row16 col3\" >2155542</td>\n",
       "                        <td id=\"T_3b4d8_row16_col4\" class=\"data row16 col4\" >320</td>\n",
       "                        <td id=\"T_3b4d8_row16_col5\" class=\"data row16 col5\" >338382</td>\n",
       "                        <td id=\"T_3b4d8_row16_col6\" class=\"data row16 col6\" >55</td>\n",
       "            </tr>\n",
       "            <tr>\n",
       "                        <th id=\"T_3b4d8_level0_row17\" class=\"row_heading level0 row17\" >17</th>\n",
       "                        <td id=\"T_3b4d8_row17_col0\" class=\"data row17 col0\" >2019-08-18 00:00:00</td>\n",
       "                        <td id=\"T_3b4d8_row17_col1\" class=\"data row17 col1\" >1876741</td>\n",
       "                        <td id=\"T_3b4d8_row17_col2\" class=\"data row17 col2\" >278</td>\n",
       "                        <td id=\"T_3b4d8_row17_col3\" class=\"data row17 col3\" >2190865</td>\n",
       "                        <td id=\"T_3b4d8_row17_col4\" class=\"data row17 col4\" >327</td>\n",
       "                        <td id=\"T_3b4d8_row17_col5\" class=\"data row17 col5\" >314124</td>\n",
       "                        <td id=\"T_3b4d8_row17_col6\" class=\"data row17 col6\" >49</td>\n",
       "            </tr>\n",
       "            <tr>\n",
       "                        <th id=\"T_3b4d8_level0_row18\" class=\"row_heading level0 row18\" >18</th>\n",
       "                        <td id=\"T_3b4d8_row18_col0\" class=\"data row18 col0\" >2019-08-19 00:00:00</td>\n",
       "                        <td id=\"T_3b4d8_row18_col1\" class=\"data row18 col1\" >2044934</td>\n",
       "                        <td id=\"T_3b4d8_row18_col2\" class=\"data row18 col2\" >299</td>\n",
       "                        <td id=\"T_3b4d8_row18_col3\" class=\"data row18 col3\" >3620785</td>\n",
       "                        <td id=\"T_3b4d8_row18_col4\" class=\"data row18 col4\" >348</td>\n",
       "                        <td id=\"T_3b4d8_row18_col5\" class=\"data row18 col5\" >1575851</td>\n",
       "                        <td id=\"T_3b4d8_row18_col6\" class=\"data row18 col6\" >49</td>\n",
       "            </tr>\n",
       "            <tr>\n",
       "                        <th id=\"T_3b4d8_level0_row19\" class=\"row_heading level0 row19\" >19</th>\n",
       "                        <td id=\"T_3b4d8_row19_col0\" class=\"data row19 col0\" >2019-08-20 00:00:00</td>\n",
       "                        <td id=\"T_3b4d8_row19_col1\" class=\"data row19 col1\" >2103613</td>\n",
       "                        <td id=\"T_3b4d8_row19_col2\" class=\"data row19 col2\" >309</td>\n",
       "                        <td id=\"T_3b4d8_row19_col3\" class=\"data row19 col3\" >3768059</td>\n",
       "                        <td id=\"T_3b4d8_row19_col4\" class=\"data row19 col4\" >368</td>\n",
       "                        <td id=\"T_3b4d8_row19_col5\" class=\"data row19 col5\" >1664446</td>\n",
       "                        <td id=\"T_3b4d8_row19_col6\" class=\"data row19 col6\" >59</td>\n",
       "            </tr>\n",
       "            <tr>\n",
       "                        <th id=\"T_3b4d8_level0_row20\" class=\"row_heading level0 row20\" >20</th>\n",
       "                        <td id=\"T_3b4d8_row20_col0\" class=\"data row20 col0\" >2019-08-21 00:00:00</td>\n",
       "                        <td id=\"T_3b4d8_row20_col1\" class=\"data row20 col1\" >2273782</td>\n",
       "                        <td id=\"T_3b4d8_row20_col2\" class=\"data row20 col2\" >329</td>\n",
       "                        <td id=\"T_3b4d8_row20_col3\" class=\"data row20 col3\" >3908406</td>\n",
       "                        <td id=\"T_3b4d8_row20_col4\" class=\"data row20 col4\" >380</td>\n",
       "                        <td id=\"T_3b4d8_row20_col5\" class=\"data row20 col5\" >1634624</td>\n",
       "                        <td id=\"T_3b4d8_row20_col6\" class=\"data row20 col6\" >51</td>\n",
       "            </tr>\n",
       "            <tr>\n",
       "                        <th id=\"T_3b4d8_level0_row21\" class=\"row_heading level0 row21\" >21</th>\n",
       "                        <td id=\"T_3b4d8_row21_col0\" class=\"data row21 col0\" >2019-08-22 00:00:00</td>\n",
       "                        <td id=\"T_3b4d8_row21_col1\" class=\"data row21 col1\" >2366147</td>\n",
       "                        <td id=\"T_3b4d8_row21_col2\" class=\"data row21 col2\" >339</td>\n",
       "                        <td id=\"T_3b4d8_row21_col3\" class=\"data row21 col3\" >4050134</td>\n",
       "                        <td id=\"T_3b4d8_row21_col4\" class=\"data row21 col4\" >401</td>\n",
       "                        <td id=\"T_3b4d8_row21_col5\" class=\"data row21 col5\" >1683987</td>\n",
       "                        <td id=\"T_3b4d8_row21_col6\" class=\"data row21 col6\" >62</td>\n",
       "            </tr>\n",
       "            <tr>\n",
       "                        <th id=\"T_3b4d8_level0_row22\" class=\"row_heading level0 row22\" >22</th>\n",
       "                        <td id=\"T_3b4d8_row22_col0\" class=\"data row22 col0\" >2019-08-23 00:00:00</td>\n",
       "                        <td id=\"T_3b4d8_row22_col1\" class=\"data row22 col1\" >2424010</td>\n",
       "                        <td id=\"T_3b4d8_row22_col2\" class=\"data row22 col2\" >359</td>\n",
       "                        <td id=\"T_3b4d8_row22_col3\" class=\"data row22 col3\" >4127403</td>\n",
       "                        <td id=\"T_3b4d8_row22_col4\" class=\"data row22 col4\" >414</td>\n",
       "                        <td id=\"T_3b4d8_row22_col5\" class=\"data row22 col5\" >1703393</td>\n",
       "                        <td id=\"T_3b4d8_row22_col6\" class=\"data row22 col6\" >55</td>\n",
       "            </tr>\n",
       "            <tr>\n",
       "                        <th id=\"T_3b4d8_level0_row23\" class=\"row_heading level0 row23\" >23</th>\n",
       "                        <td id=\"T_3b4d8_row23_col0\" class=\"data row23 col0\" >2019-08-24 00:00:00</td>\n",
       "                        <td id=\"T_3b4d8_row23_col1\" class=\"data row23 col1\" >2546023</td>\n",
       "                        <td id=\"T_3b4d8_row23_col2\" class=\"data row23 col2\" >372</td>\n",
       "                        <td id=\"T_3b4d8_row23_col3\" class=\"data row23 col3\" >4215269</td>\n",
       "                        <td id=\"T_3b4d8_row23_col4\" class=\"data row23 col4\" >428</td>\n",
       "                        <td id=\"T_3b4d8_row23_col5\" class=\"data row23 col5\" >1669246</td>\n",
       "                        <td id=\"T_3b4d8_row23_col6\" class=\"data row23 col6\" >56</td>\n",
       "            </tr>\n",
       "            <tr>\n",
       "                        <th id=\"T_3b4d8_level0_row24\" class=\"row_heading level0 row24\" >24</th>\n",
       "                        <td id=\"T_3b4d8_row24_col0\" class=\"data row24 col0\" >2019-08-25 00:00:00</td>\n",
       "                        <td id=\"T_3b4d8_row24_col1\" class=\"data row24 col1\" >2597907</td>\n",
       "                        <td id=\"T_3b4d8_row24_col2\" class=\"data row24 col2\" >380</td>\n",
       "                        <td id=\"T_3b4d8_row24_col3\" class=\"data row24 col3\" >4294526</td>\n",
       "                        <td id=\"T_3b4d8_row24_col4\" class=\"data row24 col4\" >440</td>\n",
       "                        <td id=\"T_3b4d8_row24_col5\" class=\"data row24 col5\" >1696619</td>\n",
       "                        <td id=\"T_3b4d8_row24_col6\" class=\"data row24 col6\" >60</td>\n",
       "            </tr>\n",
       "            <tr>\n",
       "                        <th id=\"T_3b4d8_level0_row25\" class=\"row_heading level0 row25\" >25</th>\n",
       "                        <td id=\"T_3b4d8_row25_col0\" class=\"data row25 col0\" >2019-08-26 00:00:00</td>\n",
       "                        <td id=\"T_3b4d8_row25_col1\" class=\"data row25 col1\" >2755121</td>\n",
       "                        <td id=\"T_3b4d8_row25_col2\" class=\"data row25 col2\" >396</td>\n",
       "                        <td id=\"T_3b4d8_row25_col3\" class=\"data row25 col3\" >4467965</td>\n",
       "                        <td id=\"T_3b4d8_row25_col4\" class=\"data row25 col4\" >462</td>\n",
       "                        <td id=\"T_3b4d8_row25_col5\" class=\"data row25 col5\" >1712844</td>\n",
       "                        <td id=\"T_3b4d8_row25_col6\" class=\"data row25 col6\" >66</td>\n",
       "            </tr>\n",
       "            <tr>\n",
       "                        <th id=\"T_3b4d8_level0_row26\" class=\"row_heading level0 row26\" >26</th>\n",
       "                        <td id=\"T_3b4d8_row26_col0\" class=\"data row26 col0\" >2019-08-27 00:00:00</td>\n",
       "                        <td id=\"T_3b4d8_row26_col1\" class=\"data row26 col1\" >2940471</td>\n",
       "                        <td id=\"T_3b4d8_row26_col2\" class=\"data row26 col2\" >419</td>\n",
       "                        <td id=\"T_3b4d8_row26_col3\" class=\"data row26 col3\" >4579312</td>\n",
       "                        <td id=\"T_3b4d8_row26_col4\" class=\"data row26 col4\" >473</td>\n",
       "                        <td id=\"T_3b4d8_row26_col5\" class=\"data row26 col5\" >1638841</td>\n",
       "                        <td id=\"T_3b4d8_row26_col6\" class=\"data row26 col6\" >54</td>\n",
       "            </tr>\n",
       "            <tr>\n",
       "                        <th id=\"T_3b4d8_level0_row27\" class=\"row_heading level0 row27\" >27</th>\n",
       "                        <td id=\"T_3b4d8_row27_col0\" class=\"data row27 col0\" >2019-08-28 00:00:00</td>\n",
       "                        <td id=\"T_3b4d8_row27_col1\" class=\"data row27 col1\" >3036933</td>\n",
       "                        <td id=\"T_3b4d8_row27_col2\" class=\"data row27 col2\" >434</td>\n",
       "                        <td id=\"T_3b4d8_row27_col3\" class=\"data row27 col3\" >4640510</td>\n",
       "                        <td id=\"T_3b4d8_row27_col4\" class=\"data row27 col4\" >495</td>\n",
       "                        <td id=\"T_3b4d8_row27_col5\" class=\"data row27 col5\" >1603577</td>\n",
       "                        <td id=\"T_3b4d8_row27_col6\" class=\"data row27 col6\" >61</td>\n",
       "            </tr>\n",
       "            <tr>\n",
       "                        <th id=\"T_3b4d8_level0_row28\" class=\"row_heading level0 row28\" >28</th>\n",
       "                        <td id=\"T_3b4d8_row28_col0\" class=\"data row28 col0\" >2019-08-29 00:00:00</td>\n",
       "                        <td id=\"T_3b4d8_row28_col1\" class=\"data row28 col1\" >3233233</td>\n",
       "                        <td id=\"T_3b4d8_row28_col2\" class=\"data row28 col2\" >451</td>\n",
       "                        <td id=\"T_3b4d8_row28_col3\" class=\"data row28 col3\" >4746610</td>\n",
       "                        <td id=\"T_3b4d8_row28_col4\" class=\"data row28 col4\" >510</td>\n",
       "                        <td id=\"T_3b4d8_row28_col5\" class=\"data row28 col5\" >1513377</td>\n",
       "                        <td id=\"T_3b4d8_row28_col6\" class=\"data row28 col6\" >59</td>\n",
       "            </tr>\n",
       "            <tr>\n",
       "                        <th id=\"T_3b4d8_level0_row29\" class=\"row_heading level0 row29\" >29</th>\n",
       "                        <td id=\"T_3b4d8_row29_col0\" class=\"data row29 col0\" >2019-08-30 00:00:00</td>\n",
       "                        <td id=\"T_3b4d8_row29_col1\" class=\"data row29 col1\" >3311413</td>\n",
       "                        <td id=\"T_3b4d8_row29_col2\" class=\"data row29 col2\" >460</td>\n",
       "                        <td id=\"T_3b4d8_row29_col3\" class=\"data row29 col3\" >4955833</td>\n",
       "                        <td id=\"T_3b4d8_row29_col4\" class=\"data row29 col4\" >531</td>\n",
       "                        <td id=\"T_3b4d8_row29_col5\" class=\"data row29 col5\" >1644420</td>\n",
       "                        <td id=\"T_3b4d8_row29_col6\" class=\"data row29 col6\" >71</td>\n",
       "            </tr>\n",
       "            <tr>\n",
       "                        <th id=\"T_3b4d8_level0_row30\" class=\"row_heading level0 row30\" >30</th>\n",
       "                        <td id=\"T_3b4d8_row30_col0\" class=\"data row30 col0\" >2019-08-31 00:00:00</td>\n",
       "                        <td id=\"T_3b4d8_row30_col1\" class=\"data row30 col1\" >3364656</td>\n",
       "                        <td id=\"T_3b4d8_row30_col2\" class=\"data row30 col2\" >468</td>\n",
       "                        <td id=\"T_3b4d8_row30_col3\" class=\"data row30 col3\" >5068972</td>\n",
       "                        <td id=\"T_3b4d8_row30_col4\" class=\"data row30 col4\" >548</td>\n",
       "                        <td id=\"T_3b4d8_row30_col5\" class=\"data row30 col5\" >1704316</td>\n",
       "                        <td id=\"T_3b4d8_row30_col6\" class=\"data row30 col6\" >80</td>\n",
       "            </tr>\n",
       "    </tbody></table>"
      ],
      "text/plain": [
       "<pandas.io.formats.style.Styler at 0x7f9dc9c519a0>"
      ]
     },
     "execution_count": 38,
     "metadata": {},
     "output_type": "execute_result"
    }
   ],
   "source": [
    "# Выведем таблицу\n",
    "combo_rev.style.background_gradient(cmap='RdYlGn')"
   ]
  },
  {
   "cell_type": "markdown",
   "id": "85a4c067",
   "metadata": {},
   "source": [
    "<div class=\"alert alert-info\">\n",
    "<font size=\"4\", color = \"black\"><b>Выводы:</b></font>\n",
    "    \n",
    "В целом, наблюдаются лучшие показатели у группы B, но нужно внимательнее рассмотреть 19-ое число, так как они могут изменить картину."
   ]
  },
  {
   "cell_type": "markdown",
   "id": "6128a62b",
   "metadata": {},
   "source": [
    "### График относительного изменения кумулятивного среднего чека группы B к группе A"
   ]
  },
  {
   "cell_type": "code",
   "execution_count": 39,
   "id": "51e7040d",
   "metadata": {
    "scrolled": false
   },
   "outputs": [
    {
     "data": {
      "image/png": "[encoded data removed]",
      "text/plain": [
       "<Figure size 864x432 with 1 Axes>"
      ]
     },
     "metadata": {
      "needs_background": "light"
     },
     "output_type": "display_data"
    }
   ],
   "source": [
    "# Размер поля построения\n",
    "plt.figure(figsize=(12, 6))\n",
    "\n",
    "# Собираем данные в одном датафрейме\n",
    "mergedCumulativeRevenue = cumulativeRevenueA.merge(cumulativeRevenueB, \n",
    "                                                   left_on='date', \n",
    "                                                   right_on='date', \n",
    "                                                   how='left', \n",
    "                                                   suffixes=['A', 'B']\n",
    "                                                  )\n",
    "\n",
    "# Строим отношение средних чеков\n",
    "plt.plot(mergedCumulativeRevenue['date'], \n",
    "         (mergedCumulativeRevenue['revenueB'] / mergedCumulativeRevenue['ordersB'])\\\n",
    "         / (mergedCumulativeRevenue['revenueA'] / mergedCumulativeRevenue['ordersA']) - 1)\n",
    "\n",
    "# Добавляем ось X\n",
    "plt.axhline(y=0, color='black', linestyle='--') \n",
    "\n",
    "plt.suptitle('График относительного изменения кумулятивного среднего чека группы B к группе A', \n",
    "             x=0.5, \n",
    "             y=0.93, \n",
    "             fontsize=15\n",
    "            )\n",
    "\n",
    "plt.ylabel(\"Относительный средний чек\")\n",
    "plt.xlabel(\"Дата\");"
   ]
  },
  {
   "cell_type": "markdown",
   "id": "5b4fa639",
   "metadata": {},
   "source": [
    "<div class=\"alert alert-info\">\n",
    "<font size=\"4\", color = \"black\"><b>Выводы:</b></font>\n",
    "    \n",
    "Рост, падение, малый рост, скачок, плавный спуск - скачок 19-го числа. Установившегося нет."
   ]
  },
  {
   "cell_type": "markdown",
   "id": "094cb0c2",
   "metadata": {},
   "source": [
    "### График кумулятивного среднего количества заказов на посетителя по группам"
   ]
  },
  {
   "cell_type": "code",
   "execution_count": 40,
   "id": "6f33bb03",
   "metadata": {
    "scrolled": false
   },
   "outputs": [
    {
     "data": {
      "image/png": "[encoded data removed]",
      "text/plain": [
       "<Figure size 864x432 with 1 Axes>"
      ]
     },
     "metadata": {
      "needs_background": "light"
     },
     "output_type": "display_data"
    }
   ],
   "source": [
    "import datetime as dt\n",
    "\n",
    "# Размер поля построения\n",
    "plt.figure(figsize=(12, 6))\n",
    "\n",
    "# Считаем кумулятивную конверсию\n",
    "cumulativeData['conversion'] = cumulativeData['orders'] / cumulativeData['visitors']\n",
    "# Отделяем данные по группе A\n",
    "cumulativeDataA = cumulativeData[cumulativeData['group'] == 'A']\n",
    "# Отделяем данные по группе B\n",
    "cumulativeDataB = cumulativeData[cumulativeData['group'] == 'B']\n",
    "# Строим графики \n",
    "plt.plot(cumulativeDataA['date'], cumulativeDataA['conversion'], label = 'A')\n",
    "plt.plot(cumulativeDataB['date'], cumulativeDataB['conversion'], label = 'B')\n",
    "plt.legend()\n",
    "\n",
    "# Задаем масштаб осей\n",
    "plt.axis([dt.date(2019, 8, 1), dt.date(2019, 8, 31), 0, 0.038])\n",
    "\n",
    "# Название\n",
    "plt.suptitle('График кумулятивного среднего количества заказов на посетителя по группам', \n",
    "             x=0.5, \n",
    "             y=0.93, \n",
    "             fontsize=15\n",
    "            )\n",
    "\n",
    "plt.ylabel(\"Кумулятивное среднее кол-во заказов\")\n",
    "plt.xlabel(\"Дата\");"
   ]
  },
  {
   "cell_type": "markdown",
   "id": "9c5dd3df",
   "metadata": {},
   "source": [
    "<div class=\"alert alert-info\">\n",
    "<font size=\"4\", color = \"black\"><b>Выводы:</b></font>\n",
    "    \n",
    "Количество заказов в группе B стабильно больше, чем в группе A, начиная с 9-го числа.\n",
    "   \n",
    "График количества заказов уже больше половины месяца похож на прямую, не имеет резких изменений. Количество заказов можно считать стабилизировавшимся. \n",
    "\n",
    "(Конечно, дальше сентябрь, а это август - предшкольная пора, вероятно, дальше будет *синхронный* спуск)."
   ]
  },
  {
   "cell_type": "markdown",
   "id": "900bfcc0",
   "metadata": {},
   "source": [
    "### График относительного изменения кумулятивного среднего количества заказов на посетителя группы B к группе A"
   ]
  },
  {
   "cell_type": "code",
   "execution_count": 41,
   "id": "ea983ca3",
   "metadata": {},
   "outputs": [
    {
     "data": {
      "image/png": "[encoded data removed]",
      "text/plain": [
       "<Figure size 864x432 with 1 Axes>"
      ]
     },
     "metadata": {
      "needs_background": "light"
     },
     "output_type": "display_data"
    }
   ],
   "source": [
    "# Размер поля построения\n",
    "plt.figure(figsize = (12, 6))\n",
    "\n",
    "mergedCumulativeConversions = cumulativeDataA[['date','conversion']]\\\n",
    ".merge(cumulativeDataB[['date','conversion']], \n",
    "       left_on='date', \n",
    "       right_on='date', \n",
    "       how='left', \n",
    "       suffixes=['A', 'B']\n",
    "      )\n",
    "\n",
    "plt.plot(mergedCumulativeConversions['date'], \n",
    "         mergedCumulativeConversions['conversionB']/mergedCumulativeConversions['conversionA']-1, \n",
    "         label=\"Относительный прирост конверсии группы B относительно группы A\"\n",
    "        )\n",
    "\n",
    "plt.axhline(y=0, color='black', linestyle='--')\n",
    "plt.axhline(y=0.1, color='grey', linestyle='--')\n",
    "plt.axhline(y=0.2, color='grey', linestyle='--')\n",
    "\n",
    "plt.axis([dt.date(2019, 8, 1), dt.date(2019, 8, 31), -0.22, 0.22]) \n",
    "\n",
    "# Название\n",
    "plt.suptitle('График относительного изменения кумулятивного среднего количества заказов на посетителя группы B к группе A', \n",
    "             x=0.5, \n",
    "             y=0.93, \n",
    "             fontsize=15\n",
    "            )\n",
    "\n",
    "plt.ylabel(\"Относительное кумулятивное кол-во заказов на посетителя\")\n",
    "plt.xlabel(\"Дата\");"
   ]
  },
  {
   "cell_type": "markdown",
   "id": "a8278bb5",
   "metadata": {},
   "source": [
    "<div class=\"alert alert-info\">\n",
    "<font size=\"4\", color = \"black\"><b>Выводы:</b></font>\n",
    "    \n",
    "Подтверждает предыдущий вывод: \\\n",
    "`Количество заказов в группе B стабильно больше, чем в группе A, начиная с 9-го числа.`"
   ]
  },
  {
   "cell_type": "markdown",
   "id": "7b0da575",
   "metadata": {},
   "source": [
    "### Точечный график количества заказов по пользователям"
   ]
  },
  {
   "cell_type": "code",
   "execution_count": 42,
   "id": "eabaae59",
   "metadata": {},
   "outputs": [],
   "source": [
    "# Массив для анализа\n",
    "ordersByUsers = orders.groupby('visitorId', as_index = False)\\\n",
    ".agg({'transactionId':'nunique'})\\\n",
    ".sort_values(by='transactionId', ascending = False) # для удобства\n",
    "\n",
    "ordersByUsers.columns = ['visitorId', 'orders']"
   ]
  },
  {
   "cell_type": "code",
   "execution_count": 43,
   "id": "514a211a",
   "metadata": {},
   "outputs": [
    {
     "data": {
      "image/png": "[encoded data removed]",
      "text/plain": [
       "<Figure size 720x288 with 1 Axes>"
      ]
     },
     "metadata": {
      "needs_background": "light"
     },
     "output_type": "display_data"
    }
   ],
   "source": [
    "# Размер поля построения\n",
    "plt.figure(figsize=(10,4))\n",
    "\n",
    "plt.hist(ordersByUsers['orders'], bins = 10)\n",
    "plt.title('Гистрограмма распределения количества заказов на одного пользователя')\n",
    "plt.ylabel(\"Число пользователей\")\n",
    "plt.xlabel(\"Кол-во заказов\")\n",
    "plt.show();"
   ]
  },
  {
   "cell_type": "code",
   "execution_count": 44,
   "id": "1fa48f0a",
   "metadata": {},
   "outputs": [
    {
     "data": {
      "image/png": "[encoded data removed]",
      "text/plain": [
       "<Figure size 720x288 with 1 Axes>"
      ]
     },
     "metadata": {
      "needs_background": "light"
     },
     "output_type": "display_data"
    }
   ],
   "source": [
    "# Размер поля построения\n",
    "plt.figure(figsize=(10,4))\n",
    "\n",
    "x_values = pd.Series(range(0, len(ordersByUsers)))\n",
    "plt.scatter(x_values, ordersByUsers['orders'])\n",
    "plt.title('Точечная диаграмма числа заказов на одного пользователя')\n",
    "plt.ylabel(\"Кол-во заказов\")\n",
    "plt.xlabel(\"Запись о пользователе\")\n",
    "plt.show()"
   ]
  },
  {
   "cell_type": "markdown",
   "id": "a6ffb3bc",
   "metadata": {},
   "source": [
    "<div class=\"alert alert-info\">\n",
    "<font size=\"4\", color = \"black\"><b>Выводы:</b></font>\n",
    "    \n",
    "Большинство совершило 1 или 2 заказа."
   ]
  },
  {
   "cell_type": "markdown",
   "id": "3161c3dc",
   "metadata": {},
   "source": [
    "### 95-й и 99-й перцентили количества заказов на пользователя. Выбор границы для определения аномальных пользователей"
   ]
  },
  {
   "cell_type": "code",
   "execution_count": 45,
   "id": "3c651a13",
   "metadata": {},
   "outputs": [
    {
     "name": "stdout",
     "output_type": "stream",
     "text": [
      "Перцентили количества заказов на пользователя [95, 99]: [1. 2.]\n"
     ]
    }
   ],
   "source": [
    "print('Перцентили количества заказов на пользователя [95, 99]:', \n",
    "      np.percentile(ordersByUsers['orders'], [95, 99]) \n",
    "     )"
   ]
  },
  {
   "cell_type": "markdown",
   "id": "78bd4735",
   "metadata": {},
   "source": [
    "<div class=\"alert alert-info\">\n",
    "<font size=\"4\", color = \"black\"><b>Выводы:</b></font>\n",
    "\n",
    "Не более 1% пользователей оформляли больше 2-ух заказов - выберем это значение в качестве границы аномальных пользоваетелей."
   ]
  },
  {
   "cell_type": "markdown",
   "id": "553d04f0",
   "metadata": {},
   "source": [
    "### Точечный график стоимостей заказов"
   ]
  },
  {
   "cell_type": "code",
   "execution_count": 46,
   "id": "3ee5d280",
   "metadata": {},
   "outputs": [
    {
     "data": {
      "image/png": "[encoded data removed]",
      "text/plain": [
       "<Figure size 720x288 with 1 Axes>"
      ]
     },
     "metadata": {
      "needs_background": "light"
     },
     "output_type": "display_data"
    }
   ],
   "source": [
    "# Размер поля построения\n",
    "plt.figure(figsize=(10,4))\n",
    "\n",
    "plt.hist(orders['revenue'], range=(0,100000), bins = 100)\n",
    "plt.title('Гистрограмма распределения сумм заказов на одного пользователя')\n",
    "plt.ylabel(\"Число пользователей\")\n",
    "plt.xlabel(\"Сумма заказа\")\n",
    "plt.show()"
   ]
  },
  {
   "cell_type": "code",
   "execution_count": 47,
   "id": "ef0e0073",
   "metadata": {},
   "outputs": [
    {
     "data": {
      "image/png": "[encoded data removed]",
      "text/plain": [
       "<Figure size 720x288 with 1 Axes>"
      ]
     },
     "metadata": {
      "needs_background": "light"
     },
     "output_type": "display_data"
    }
   ],
   "source": [
    "x_values = pd.Series(range(0, len(orders)))\n",
    "\n",
    "# Размер поля построения\n",
    "plt.figure(figsize=(10,4))\n",
    "\n",
    "plt.scatter(x_values, orders['revenue'])\n",
    "plt.title('Точечная диаграмма сумм заказов на одного пользователя')\n",
    "plt.axis([0, 1050, 0, 110000])\n",
    "plt.ylabel(\"Сумма заказа\")\n",
    "plt.xlabel(\"Запись о пользователе\")\n",
    "plt.show()"
   ]
  },
  {
   "cell_type": "markdown",
   "id": "b4c19d16",
   "metadata": {},
   "source": [
    "<div class=\"alert alert-info\">\n",
    "<font size=\"4\", color = \"black\"><b>Выводы:</b></font>\n",
    "\n",
    "В подовляющем большинстве суммы заказов не превышали 30 000 ₽."
   ]
  },
  {
   "cell_type": "markdown",
   "id": "ccea924e",
   "metadata": {},
   "source": [
    "### 95-й и 99-й перцентили стоимости заказов. Выбор границ для определения аномальных заказов"
   ]
  },
  {
   "cell_type": "code",
   "execution_count": 48,
   "id": "f4a23a71",
   "metadata": {},
   "outputs": [
    {
     "name": "stdout",
     "output_type": "stream",
     "text": [
      "Перцентили количества заказов на пользователя [95, 99]: [26785. 53904.]\n"
     ]
    }
   ],
   "source": [
    "print('Перцентили количества заказов на пользователя [95, 99]:', \n",
    "      np.percentile(orders['revenue'], [95, 99]) \n",
    "     )"
   ]
  },
  {
   "cell_type": "markdown",
   "id": "212529c7",
   "metadata": {},
   "source": [
    "<div class=\"alert alert-info\">\n",
    "<font size=\"4\", color = \"black\"><b>Выводы:</b></font>\n",
    "\n",
    "У не более 5% пользователей стоимость заказа была более 26 785 ₽ - будем считать границей. "
   ]
  },
  {
   "cell_type": "markdown",
   "id": "2786f4f2",
   "metadata": {},
   "source": [
    "### Статистическая значимость различий в среднем количестве заказов на посетителя между группами по «сырым» данным"
   ]
  },
  {
   "cell_type": "code",
   "execution_count": 49,
   "id": "6500956c",
   "metadata": {},
   "outputs": [
    {
     "name": "stdout",
     "output_type": "stream",
     "text": [
      "Кол-во покупателей в группе A: 445\n",
      "Кол-во покупок в группе А: 468\n",
      "Кол-во посетителей в группе A: 18647\n",
      "\n",
      "Кол-во покупателей в группе B: 528\n",
      "Кол-во покупок в группе B: 548\n",
      "Кол-во посетителей в группе B: 18824\n"
     ]
    }
   ],
   "source": [
    "# Информация о группах\n",
    "ordersByUsersA = orders[orders['group']=='A'].groupby('visitorId', as_index=False).agg({'transactionId':'nunique'})\n",
    "ordersByUsersA.columns = ['visitorId', 'orders']\n",
    "ordersByUsersB = orders[orders['group']=='B'].groupby('visitorId', as_index=False).agg({'transactionId':'nunique'})\n",
    "ordersByUsersB.columns = ['visitorId', 'orders']\n",
    "\n",
    "print('Кол-во покупателей в группе A: {}'.format(len(ordersByUsersA)))\n",
    "print('Кол-во покупок в группе А: {}'.format(ordersByUsersA['orders'].sum()))\n",
    "print('Кол-во посетителей в группе A: {}\\n'.format(visitors[visitors['group']=='A']['visitors'].sum()))\n",
    "\n",
    "print('Кол-во покупателей в группе B: {}'.format(len(ordersByUsersB)))\n",
    "print('Кол-во покупок в группе B: {}'.format(ordersByUsersB['orders'].sum()))\n",
    "print('Кол-во посетителей в группе B: {}'.format(visitors[visitors['group']=='B']['visitors'].sum()))"
   ]
  },
  {
   "cell_type": "markdown",
   "id": "a4029a6c",
   "metadata": {},
   "source": [
    "<div style=\"border:solid green 2px; padding: 10px\">\n",
    "<font size=\"4\", color = \"black\"><b>Гипотезы</b></font> <br/>\n",
    "Согласно рейтингу ICE была принята к проверке гипотеза:\n",
    "    \n",
    "`Запустить акцию, дающую скидку на товар в день рождения`\n",
    "  \n",
    "Для проверки применим статистический критерий Манна-Уитни к полученным выборкам, `alpha = 5%`."
   ]
  },
  {
   "cell_type": "markdown",
   "id": "8f73a0fb",
   "metadata": {},
   "source": [
    "<div style=\"border:solid green 2px; padding: 10px\">\n",
    "<font size=\"4\", color = \"black\"><b>Провека №1</b></font> <br/>\n",
    "Относительный прирост конверсии группы B по отношению к группе A:\n",
    "    \n",
    "    H₀: Запуск акции, дающей скидку на товар в день рождения вызовет прирост консверсии.\n",
    "    H₁: Запуск акции, дающей скидку на товар в день рождения не изменит консверсию."
   ]
  },
  {
   "cell_type": "code",
   "execution_count": 50,
   "id": "460c53fb",
   "metadata": {},
   "outputs": [
    {
     "name": "stdout",
     "output_type": "stream",
     "text": [
      "Относительный прирост конверсии группы B по отношению к группе A: 0.160\n",
      "P-value: 0.0109567830835148 \n",
      "\n",
      "Вывод:\n",
      "Различие в количестве заказов СТАТИСТИЧЕСКИ ЗНАЧИМО\n"
     ]
    }
   ],
   "source": [
    "# Составим списки кол-ва заказов sampleA и sampleB со всеми пользователями (+ без покупок) по группам\n",
    "list_orders_1 = []\n",
    "for i in range(0,(visitors[visitors['group'] == 'A']['visitors'].sum() - len(ordersByUsersA))):\n",
    "    list_orders_1.append(0)\n",
    "orders_by_non_purchased_users_A = pd.Series(data = list_orders_1, name = 'orders')\n",
    "\n",
    "list_orders_2 = []\n",
    "for i in range(0,(visitors[visitors['group'] == 'B']['visitors'].sum()-len(ordersByUsersB))):\n",
    "    list_orders_2.append(0)\n",
    "orders_by_non_purchased_users_B = pd.Series(data = list_orders_2, name = 'orders')\n",
    "\n",
    "sampleA = pd.concat([ordersByUsersA['orders'], orders_by_non_purchased_users_A], axis=0)\n",
    "sampleB = pd.concat([ordersByUsersB['orders'], orders_by_non_purchased_users_B], axis=0)\n",
    "print('Относительный прирост конверсии группы B по отношению к группе A: {:.3f}'.format(sampleB.mean()/sampleA.mean()-1))\n",
    "\n",
    "alpha = 0.05 # выбранный уровень\n",
    "results = stats.mannwhitneyu(sampleA, sampleB) # тест\n",
    "\n",
    "print('P-value: {}'.format(results.pvalue), '\\n')\n",
    "\n",
    "if results.pvalue < alpha:\n",
    "    print('Вывод:')\n",
    "    print('Различие в количестве заказов СТАТИСТИЧЕСКИ ЗНАЧИМО')\n",
    "else:\n",
    "    print('Вывод:')\n",
    "    print('Различие в количестве заказов нельзя считать значимым')"
   ]
  },
  {
   "cell_type": "markdown",
   "id": "245e11a4",
   "metadata": {},
   "source": [
    "<div class=\"alert alert-info\">\n",
    "<font size=\"4\", color = \"black\"><b>Выводы:</b></font>\n",
    "    \n",
    "С учетом пользователей без покупок различие в среднем количестве заказов по «сырым» данным является **статистически значимым**."
   ]
  },
  {
   "cell_type": "markdown",
   "id": "efcc5bfa",
   "metadata": {},
   "source": [
    "### Статистическая значимость различий в среднем чеке заказа между группами по «сырым» данным"
   ]
  },
  {
   "cell_type": "markdown",
   "id": "7ed13299",
   "metadata": {},
   "source": [
    "<div style=\"border:solid green 2px; padding: 10px\">\n",
    "<font size=\"4\", color = \"black\"><b>Провека №2</b></font> <br/>\n",
    "Относительное изменение среднего чека в группе B по отношению группы A:\n",
    "    \n",
    "    H₀: Запуск акции, дающей скидку на товар в день рождения увеличит средний чек заказа.\n",
    "    H₁: Запуск акции, дающей скидку на товар в день рождения не изменит средний чек заказа."
   ]
  },
  {
   "cell_type": "code",
   "execution_count": 51,
   "id": "8b1ba06e",
   "metadata": {},
   "outputs": [
    {
     "name": "stdout",
     "output_type": "stream",
     "text": [
      "Относительное изменение среднего чека в группе B по отношению группы A: 0.287\n",
      "P-value: 0.8294908998149533 \n",
      "\n",
      "Вывод:\n",
      "Различия в среднем чеке заказа нельзя считать статистически значимыми\n"
     ]
    }
   ],
   "source": [
    "print(\n",
    "    'Относительное изменение среднего чека в группе B по отношению группы A: {:.3f}'\n",
    "      .format(\n",
    "          orders[orders['group'] == 'B']['revenue'].mean() / orders[orders['group'] == 'A']['revenue'].mean()-1\n",
    "      )\n",
    ")\n",
    "\n",
    "results = stats.mannwhitneyu(\n",
    "    orders[orders['group'] == 'A']['revenue'], orders[orders['group'] == 'B']['revenue']\n",
    ")\n",
    "\n",
    "print('P-value: {}'.format(results.pvalue), '\\n')\n",
    "\n",
    "if results.pvalue < alpha:\n",
    "    print('Вывод:')\n",
    "    print('Различия в среднем чеке заказа СТАТИСТИЧЕСКИ ЗНАЧИМЫ')\n",
    "else:\n",
    "    print('Вывод:') \n",
    "    print('Различия в среднем чеке заказа нельзя считать статистически значимыми')"
   ]
  },
  {
   "cell_type": "markdown",
   "id": "05f45d20",
   "metadata": {},
   "source": [
    "<div class=\"alert alert-info\">\n",
    "<font size=\"4\", color = \"black\"><b>Выводы:</b></font>\n",
    "\n",
    "Статистическую значимость **различий в среднем чеке** заказа между группами по «сырым» **нельзя считать значимой**."
   ]
  },
  {
   "cell_type": "markdown",
   "id": "a8b4533a",
   "metadata": {},
   "source": [
    "### Статистическая значимость различий в среднем количестве заказов на посетителя между группами по «очищенным» данным"
   ]
  },
  {
   "cell_type": "code",
   "execution_count": 52,
   "id": "6d325b6b",
   "metadata": {},
   "outputs": [],
   "source": [
    "# Пределы для аномалий\n",
    "limit_orders = 2\n",
    "limit_revenue = 26785"
   ]
  },
  {
   "cell_type": "code",
   "execution_count": 53,
   "id": "656a1d3b",
   "metadata": {},
   "outputs": [
    {
     "name": "stdout",
     "output_type": "stream",
     "text": [
      "Кол-во пользователей с аномалиями: 58 шт.\n"
     ]
    }
   ],
   "source": [
    "# Кол-во пользователей с аномалиями\n",
    "usersWithManyOrders = pd.concat([ordersByUsersA[ordersByUsersA['orders']>limit_orders]['visitorId'], \n",
    "                                ordersByUsersB[ordersByUsersB['orders']>limit_orders]['visitorId']], \n",
    "                                axis = 0\n",
    "                               )\n",
    "\n",
    "usersWithExpensiveOrders = orders[orders['revenue'] > limit_revenue]['visitorId']\n",
    "\n",
    "abnormalUsers = pd.concat([usersWithManyOrders, \n",
    "                           usersWithExpensiveOrders], \n",
    "                          axis = 0\n",
    "                         ).drop_duplicates().sort_values()\n",
    "\n",
    "print('Кол-во пользователей с аномалиями: {}'\n",
    "      .format(len(abnormalUsers)),\n",
    "      'шт.'\n",
    "     )"
   ]
  },
  {
   "cell_type": "markdown",
   "id": "f4a4bfae",
   "metadata": {},
   "source": [
    "<div style=\"border:solid green 2px; padding: 10px\">\n",
    "<font size=\"4\", color = \"black\"><b>Провека №3</b></font> <br/>\n",
    "Относительный прирост конверсии группы B по отношению к группе A:\n",
    "    \n",
    "    H₀: Запуск акции, дающей скидку на товар в день рождения вызовет прирост консверсии.\n",
    "    H₁: Запуск акции, дающей скидку на товар в день рождения не изменит консверсию."
   ]
  },
  {
   "cell_type": "code",
   "execution_count": 54,
   "id": "92c7386b",
   "metadata": {
    "scrolled": false
   },
   "outputs": [
    {
     "name": "stdout",
     "output_type": "stream",
     "text": [
      "Относительный прирост конверсии группы B по отношению к группе A после очистки данных: 0.182\n",
      "P-value: 0.012285273602771688 \n",
      "\n",
      "Вывод:\n",
      "В среднем количестве заказов на посетителя РАЗНИЦА СТАТИСТИЧЕСКИ ЗНАЧИМА\n"
     ]
    }
   ],
   "source": [
    "sampleAFiltered = pd.concat([\n",
    "    ordersByUsersA[np.logical_not(ordersByUsersA['visitorId'].isin(abnormalUsers))]['orders'],\n",
    "    orders_by_non_purchased_users_A\n",
    "], axis = 0\n",
    ")\n",
    "\n",
    "sampleBFiltered = pd.concat([\n",
    "    ordersByUsersB[np.logical_not(ordersByUsersB['visitorId'].isin(abnormalUsers))]['orders'],\n",
    "    orders_by_non_purchased_users_B\n",
    "], axis = 0\n",
    ")\n",
    "\n",
    "print('Относительный прирост конверсии группы B по отношению к группе A после очистки данных: {:.3f}'\n",
    "      .format(sampleBFiltered.mean() / sampleAFiltered.mean() - 1))\n",
    "\n",
    "results = stats.mannwhitneyu(sampleAFiltered, \n",
    "                             sampleBFiltered\n",
    "                            )\n",
    "\n",
    "print('P-value: {}'.format(results.pvalue), '\\n')\n",
    "\n",
    "if results.pvalue < alpha:\n",
    "    print('Вывод:')\n",
    "    print('В среднем количестве заказов на посетителя РАЗНИЦА СТАТИСТИЧЕСКИ ЗНАЧИМА')\n",
    "else:\n",
    "    print('Вывод:')\n",
    "    print('В среднем количестве заказов на посетителя разницу нелльзя считать значимой')"
   ]
  },
  {
   "cell_type": "markdown",
   "id": "17d88b9a",
   "metadata": {},
   "source": [
    "<div class=\"alert alert-info\">\n",
    "<font size=\"4\", color = \"black\"><b>Выводы:</b></font>\n",
    "\n",
    "Статистическая значимость **различий в среднем количестве заказов** на посетителя между группами по «очищенным» данным **СТАТИСТИЧЕСКИ ЗНАЧИМА**.\n",
    "    \n",
    "Запуск акции, дающей скидку на товар в день рождения вызвал прирост консверсии. Группа B на 18,9% лучше A."
   ]
  },
  {
   "cell_type": "markdown",
   "id": "6db47074",
   "metadata": {},
   "source": [
    "### Статистическая значимость различий в среднем чеке заказа между группами по «очищенным» данным"
   ]
  },
  {
   "cell_type": "markdown",
   "id": "3207bc31",
   "metadata": {},
   "source": [
    "<div style=\"border:solid green 2px; padding: 10px\">\n",
    "<font size=\"4\", color = \"black\"><b>Провека №4</b></font> <br/>\n",
    "Относительное изменение среднего чека в группе B по отношению группы A:\n",
    "    \n",
    "    H₀: Запуск акции, дающей скидку на товар в день рождения увеличит средний чек заказа.\n",
    "    H₁: Запуск акции, дающей скидку на товар в день рождения не изменит средний чек заказа."
   ]
  },
  {
   "cell_type": "code",
   "execution_count": 55,
   "id": "8fe34051",
   "metadata": {},
   "outputs": [
    {
     "name": "stdout",
     "output_type": "stream",
     "text": [
      "Относительное изменение среднего чека в группе B по отношению группы A после очистки данных: -0.048\n",
      "P-value: 0.6458964038091206 \n",
      "\n",
      "Вывод:\n",
      "Различия в среднем чеке заказа нельзя считать статистически значимыми\n"
     ]
    }
   ],
   "source": [
    "print('Относительное изменение среднего чека в группе B по отношению группы A после очистки данных: {:.3f}'\n",
    "      .format(\n",
    "orders[np.logical_and(orders['group'] == 'B', np.logical_not(orders['visitorId']\n",
    "                                                             .isin(abnormalUsers)\n",
    "                                                            )\n",
    "                     )]['revenue'].mean()\\\n",
    "/ orders[np.logical_and(orders['group'] == 'A', \n",
    "                       np.logical_not(orders['visitorId'].isin(abnormalUsers))\n",
    "                      )]['revenue'].mean() - 1\n",
    "      )\n",
    "     )\n",
    "       \n",
    "       \n",
    "results = stats.mannwhitneyu(orders[np.logical_and(orders['group'] == 'A', \n",
    "                                                   np.logical_not(orders['visitorId'].isin(abnormalUsers))\n",
    "                                                  )]['revenue'],\n",
    "                             orders[np.logical_and(orders['group'] == 'B', \n",
    "                                                   np.logical_not(orders['visitorId'].isin(abnormalUsers))\n",
    "                                                  )]['revenue'])\n",
    "\n",
    "print('P-value: {}'.format(results.pvalue), '\\n')\n",
    "\n",
    "if results.pvalue < alpha:\n",
    "    print('Вывод:')\n",
    "    print('Различия в среднем чеке заказа СТАТИСТИЧЕСКИ ЗНАЧИМЫ')\n",
    "else:\n",
    "    print('Вывод:')\n",
    "    print('Различия в среднем чеке заказа нельзя считать статистически значимыми')"
   ]
  },
  {
   "cell_type": "markdown",
   "id": "1857cc3f",
   "metadata": {},
   "source": [
    "<div class=\"alert alert-info\">\n",
    "<font size=\"4\", color = \"black\"><b>Выводы:</b></font>\n",
    "\n",
    "Статистическую значимость **различий в среднем чеке** заказа между группами по «очищенным» данным **нельзя считать статистически значимой**.\n",
    "    \n",
    "запуск акции, дающей скидку на товар в день рождения не изменил средний чек заказа.\n",
    "</br>\n",
    "--------</br>\n",
    "До очистки 0.287, после -0.022. Это говорит о значительном влиянии аномалий."
   ]
  },
  {
   "cell_type": "markdown",
   "id": "a28dbb69",
   "metadata": {},
   "source": [
    "### Решение по результатам теста"
   ]
  },
  {
   "attachments": {
    "image-3.png": {
     "image/png": "[encoded data removed]"
    },
    "image-4.png": {
     "image/png": "[encoded data removed]"
    },
    "image-5.png": {
     "image/png": "[encoded data removed]"
    }
   },
   "cell_type": "markdown",
   "id": "01c08b1e",
   "metadata": {},
   "source": [
    "<div style=\"border:solid green 2px; padding: 10px\">\n",
    "<font size=\"4\", color = \"black\"><b>Выводы</b></font> <br/>\n",
    "    \n",
    "- **Различия в количестве** заказов между группами по «сырым» и по «очищенным» отсутствуют. Между группами A и B они **статистически значимы**.\n",
    "\n",
    "- **Различия в среднем чеке** заказа между группами по «сырым» и по «очищенным» отсутствуют. Между группами A и B их нельзя считать статистически значимыми.\n",
    "\n",
    "- График различия среднего количества заказов между группами сообщает, что результаты группы B лучше группы A, кол-во заказов продолжает расти.\n",
    "\n",
    "`\"Количество заказов в группе B стабильно больше, чем в группе A, начиная с 9-го числа\"`\n",
    "\n",
    "<div>\n",
    "<img src=\"attachment:image-3.png\" align=\"centre\" width=\"700\"/>\n",
    "</div>\n",
    "\n",
    "\n",
    "- График различия среднего чека говорит о том, что результаты группы B лучше результатов группы A:\n",
    "\n",
    "<div>\n",
    "<img src=\"attachment:image-4.png\" align=\"centre\" width=\"550\"/>\n",
    "</div>\n",
    "\n",
    "В кумулятивных метриках наблюдается лидерство группы B, однако были обнаружены \"всплески\" на графиках выше. Была проведена очистка аномалий, после которой различия между группами уменьшились.\n",
    "\n",
    "До очистки показатель конверсии 16,0%, а после 18,9% - разница в 2,9%.\n",
    "\n",
    "Исходя из обнаруженных фактов, тест *можно* остановить и стоит **признать победу группы B**.\n",
    "\n",
    "-------\n",
    "**Заметки для других отделов:**\n",
    "    \n",
    "Также стоит отметить, что в данных были обнаружены пользователи, которые попали в обе группы тестирования - они были удалены, однако стоит рассмотреть механизм распределения, так как он может в дальнейшем повлиять на другие тесты. Ниже предствалены даты, в которых нет \"проблемных\" пользователей.\n",
    "\n",
    "<div>\n",
    "<img src=\"attachment:image-5.png\" align=\"centre\" width=\"100\"/>\n",
    "</div>"
   ]
  }
 ],
 "metadata": {
  "ExecuteTimeLog": [
   {
    "duration": 1171,
    "start_time": "2023-06-13T08:01:32.699Z"
   },
   {
    "duration": 72,
    "start_time": "2023-06-13T08:01:33.873Z"
   },
   {
    "duration": 3,
    "start_time": "2023-06-13T08:01:33.947Z"
   },
   {
    "duration": 25,
    "start_time": "2023-06-13T08:01:33.951Z"
   },
   {
    "duration": 31,
    "start_time": "2023-06-13T08:01:33.978Z"
   },
   {
    "duration": 18,
    "start_time": "2023-06-13T08:01:34.011Z"
   },
   {
    "duration": 6,
    "start_time": "2023-06-13T08:01:34.031Z"
   },
   {
    "duration": 20,
    "start_time": "2023-06-13T08:01:34.039Z"
   },
   {
    "duration": 21,
    "start_time": "2023-06-13T08:01:34.061Z"
   },
   {
    "duration": 231,
    "start_time": "2023-06-13T08:01:34.084Z"
   },
   {
    "duration": 149,
    "start_time": "2023-06-13T08:01:34.316Z"
   },
   {
    "duration": 11,
    "start_time": "2023-06-13T08:01:34.466Z"
   },
   {
    "duration": 31,
    "start_time": "2023-06-13T08:01:34.478Z"
   },
   {
    "duration": 297,
    "start_time": "2023-06-13T08:01:34.512Z"
   },
   {
    "duration": 4,
    "start_time": "2023-06-13T08:01:34.810Z"
   },
   {
    "duration": 323,
    "start_time": "2023-06-13T08:01:34.816Z"
   },
   {
    "duration": 208,
    "start_time": "2023-06-13T08:01:35.140Z"
   },
   {
    "duration": 7,
    "start_time": "2023-06-13T08:01:35.349Z"
   },
   {
    "duration": 40,
    "start_time": "2023-06-13T08:01:35.357Z"
   },
   {
    "duration": 98,
    "start_time": "2023-06-13T08:01:35.399Z"
   },
   {
    "duration": 291,
    "start_time": "2023-06-13T08:01:35.499Z"
   },
   {
    "duration": 202,
    "start_time": "2023-06-13T08:01:35.792Z"
   },
   {
    "duration": 333,
    "start_time": "2023-06-13T08:01:35.996Z"
   },
   {
    "duration": 6,
    "start_time": "2023-06-13T08:01:36.331Z"
   },
   {
    "duration": 152,
    "start_time": "2023-06-13T08:01:36.338Z"
   },
   {
    "duration": 173,
    "start_time": "2023-06-13T08:01:36.492Z"
   },
   {
    "duration": 3,
    "start_time": "2023-06-13T08:01:36.667Z"
   },
   {
    "duration": 228,
    "start_time": "2023-06-13T08:01:36.672Z"
   },
   {
    "duration": 135,
    "start_time": "2023-06-13T08:01:36.901Z"
   },
   {
    "duration": 4,
    "start_time": "2023-06-13T08:01:37.038Z"
   },
   {
    "duration": 41,
    "start_time": "2023-06-13T08:01:37.044Z"
   },
   {
    "duration": 38,
    "start_time": "2023-06-13T08:01:37.087Z"
   },
   {
    "duration": 10,
    "start_time": "2023-06-13T08:01:37.126Z"
   },
   {
    "duration": 30,
    "start_time": "2023-06-13T08:01:37.138Z"
   },
   {
    "duration": 34,
    "start_time": "2023-06-13T08:01:37.169Z"
   },
   {
    "duration": 55,
    "start_time": "2023-06-13T08:01:37.205Z"
   },
   {
    "duration": 12,
    "start_time": "2023-06-13T08:01:37.262Z"
   },
   {
    "duration": 1764,
    "start_time": "2023-06-14T17:08:28.841Z"
   },
   {
    "duration": 120,
    "start_time": "2023-06-14T17:08:30.609Z"
   },
   {
    "duration": 5,
    "start_time": "2023-06-14T17:08:30.731Z"
   },
   {
    "duration": 47,
    "start_time": "2023-06-14T17:08:30.741Z"
   },
   {
    "duration": 23,
    "start_time": "2023-06-14T17:08:30.792Z"
   },
   {
    "duration": 49,
    "start_time": "2023-06-14T17:08:30.823Z"
   },
   {
    "duration": 8,
    "start_time": "2023-06-14T17:08:30.874Z"
   },
   {
    "duration": 68,
    "start_time": "2023-06-14T17:08:30.884Z"
   },
   {
    "duration": 27,
    "start_time": "2023-06-14T17:08:30.955Z"
   },
   {
    "duration": 249,
    "start_time": "2023-06-14T17:08:30.984Z"
   },
   {
    "duration": 242,
    "start_time": "2023-06-14T17:08:31.237Z"
   },
   {
    "duration": 21,
    "start_time": "2023-06-14T17:08:31.481Z"
   },
   {
    "duration": 51,
    "start_time": "2023-06-14T17:08:31.505Z"
   },
   {
    "duration": 29,
    "start_time": "2023-06-14T17:08:31.564Z"
   },
   {
    "duration": 78,
    "start_time": "2023-06-14T17:08:31.596Z"
   },
   {
    "duration": 59,
    "start_time": "2023-06-14T17:08:31.676Z"
   },
   {
    "duration": 43,
    "start_time": "2023-06-14T17:08:31.737Z"
   },
   {
    "duration": 74,
    "start_time": "2023-06-14T17:08:31.783Z"
   },
   {
    "duration": 66,
    "start_time": "2023-06-14T17:08:31.860Z"
   },
   {
    "duration": 17,
    "start_time": "2023-06-14T17:08:31.931Z"
   },
   {
    "duration": 132,
    "start_time": "2023-06-14T17:08:31.950Z"
   },
   {
    "duration": 89,
    "start_time": "2023-06-14T17:08:32.084Z"
   },
   {
    "duration": 52,
    "start_time": "2023-06-14T17:08:32.176Z"
   },
   {
    "duration": 34,
    "start_time": "2023-06-14T17:08:32.233Z"
   },
   {
    "duration": 32,
    "start_time": "2023-06-14T17:08:32.273Z"
   },
   {
    "duration": 41,
    "start_time": "2023-06-14T17:08:32.307Z"
   },
   {
    "duration": 16,
    "start_time": "2023-06-14T17:08:32.351Z"
   },
   {
    "duration": 15,
    "start_time": "2023-06-14T17:08:32.372Z"
   },
   {
    "duration": 67,
    "start_time": "2023-06-14T17:08:32.389Z"
   },
   {
    "duration": 16,
    "start_time": "2023-06-14T17:08:32.458Z"
   },
   {
    "duration": 33,
    "start_time": "2023-06-14T17:08:32.476Z"
   },
   {
    "duration": 553,
    "start_time": "2023-06-14T17:08:32.512Z"
   },
   {
    "duration": 6,
    "start_time": "2023-06-14T17:08:33.067Z"
   },
   {
    "duration": 403,
    "start_time": "2023-06-14T17:08:33.077Z"
   },
   {
    "duration": 377,
    "start_time": "2023-06-14T17:08:33.482Z"
   },
   {
    "duration": 18,
    "start_time": "2023-06-14T17:08:33.865Z"
   },
   {
    "duration": 7,
    "start_time": "2023-06-14T17:08:33.886Z"
   },
   {
    "duration": 155,
    "start_time": "2023-06-14T17:08:33.894Z"
   },
   {
    "duration": 522,
    "start_time": "2023-06-14T17:08:34.056Z"
   },
   {
    "duration": 284,
    "start_time": "2023-06-14T17:08:34.582Z"
   },
   {
    "duration": 441,
    "start_time": "2023-06-14T17:08:34.871Z"
   },
   {
    "duration": 21,
    "start_time": "2023-06-14T17:08:35.318Z"
   },
   {
    "duration": 328,
    "start_time": "2023-06-14T17:08:35.346Z"
   },
   {
    "duration": 218,
    "start_time": "2023-06-14T17:08:35.678Z"
   },
   {
    "duration": 8,
    "start_time": "2023-06-14T17:08:35.898Z"
   },
   {
    "duration": 380,
    "start_time": "2023-06-14T17:08:35.908Z"
   },
   {
    "duration": 212,
    "start_time": "2023-06-14T17:08:36.292Z"
   },
   {
    "duration": 11,
    "start_time": "2023-06-14T17:08:36.511Z"
   },
   {
    "duration": 46,
    "start_time": "2023-06-14T17:08:36.530Z"
   },
   {
    "duration": 104,
    "start_time": "2023-06-14T17:08:36.582Z"
   },
   {
    "duration": 26,
    "start_time": "2023-06-14T17:08:36.688Z"
   },
   {
    "duration": 28,
    "start_time": "2023-06-14T17:08:36.717Z"
   },
   {
    "duration": 31,
    "start_time": "2023-06-14T17:08:36.748Z"
   },
   {
    "duration": 84,
    "start_time": "2023-06-14T17:08:36.782Z"
   },
   {
    "duration": 31,
    "start_time": "2023-06-14T17:08:36.871Z"
   }
  ],
  "kernelspec": {
   "display_name": "Python 3 (ipykernel)",
   "language": "python",
   "name": "python3"
  },
  "language_info": {
   "codemirror_mode": {
    "name": "ipython",
    "version": 3
   },
   "file_extension": ".py",
   "mimetype": "text/x-python",
   "name": "python",
   "nbconvert_exporter": "python",
   "pygments_lexer": "ipython3",
   "version": "3.11.4"
  },
  "toc": {
   "base_numbering": 1,
   "nav_menu": {},
   "number_sections": true,
   "sideBar": true,
   "skip_h1_title": true,
   "title_cell": "Оглавление",
   "title_sidebar": "Оглавление",
   "toc_cell": true,
   "toc_position": {
    "height": "calc(100% - 180px)",
    "left": "10px",
    "top": "150px",
    "width": "364.797px"
   },
   "toc_section_display": true,
   "toc_window_display": true
  },
  "varInspector": {
   "cols": {
    "lenName": 16,
    "lenType": 16,
    "lenVar": 40
   },
   "kernels_config": {
    "python": {
     "delete_cmd_postfix": "",
     "delete_cmd_prefix": "del ",
     "library": "var_list.py",
     "varRefreshCmd": "print(var_dic_list())"
    },
    "r": {
     "delete_cmd_postfix": ") ",
     "delete_cmd_prefix": "rm(",
     "library": "var_list.r",
     "varRefreshCmd": "cat(var_dic_list()) "
    }
   },
   "types_to_exclude": [
    "module",
    "function",
    "builtin_function_or_method",
    "instance",
    "_Feature"
   ],
   "window_display": false
  }
 },
 "nbformat": 4,
 "nbformat_minor": 5
}
